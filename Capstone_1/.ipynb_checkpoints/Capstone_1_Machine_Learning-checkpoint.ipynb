{
 "cells": [
  {
   "cell_type": "markdown",
   "metadata": {},
   "source": [
    "# Modeling for price of wine prediction"
   ]
  },
  {
   "cell_type": "markdown",
   "metadata": {},
   "source": [
    "# 0. Import all toolboxs needed."
   ]
  },
  {
   "cell_type": "code",
   "execution_count": 1,
   "metadata": {},
   "outputs": [],
   "source": [
    "import seaborn as sns\n",
    "import matplotlib.pyplot as plt\n",
    "import numpy as np \n",
    "import pandas as pd\n",
    "from scipy import stats\n",
    "sns.set()\n",
    "\n",
    "import warnings\n",
    "from sklearn.exceptions import DataConversionWarning\n",
    "warnings.filterwarnings(action='ignore', category=DataConversionWarning)\n",
    "\n",
    "from sklearn.exceptions import ConvergenceWarning\n",
    "warnings.filterwarnings(action='ignore', category=ConvergenceWarning)\n",
    "    \n",
    "import warnings\n",
    "warnings.simplefilter(action='ignore', category=FutureWarning)"
   ]
  },
  {
   "cell_type": "markdown",
   "metadata": {},
   "source": [
    "# 1. Data Preprocessing\n",
    "\n",
    "### 1.1 Preprocessing using Label Encoder\n",
    "Load the file, transform dataset from string to numeric using Label Encoder, then extract and merged columns into dataframe for machine learning purpose."
   ]
  },
  {
   "cell_type": "code",
   "execution_count": 2,
   "metadata": {},
   "outputs": [],
   "source": [
    "wine12 = pd.read_csv('data/wine11.csv', index_col=False)"
   ]
  },
  {
   "cell_type": "code",
   "execution_count": 4,
   "metadata": {
    "scrolled": false
   },
   "outputs": [],
   "source": [
    "#wine12.head()"
   ]
  },
  {
   "cell_type": "code",
   "execution_count": 6,
   "metadata": {},
   "outputs": [
    {
     "data": {
      "text/html": [
       "<div>\n",
       "<style scoped>\n",
       "    .dataframe tbody tr th:only-of-type {\n",
       "        vertical-align: middle;\n",
       "    }\n",
       "\n",
       "    .dataframe tbody tr th {\n",
       "        vertical-align: top;\n",
       "    }\n",
       "\n",
       "    .dataframe thead th {\n",
       "        text-align: right;\n",
       "    }\n",
       "</style>\n",
       "<table border=\"1\" class=\"dataframe\">\n",
       "  <thead>\n",
       "    <tr style=\"text-align: right;\">\n",
       "      <th></th>\n",
       "      <th>country</th>\n",
       "      <th>variety</th>\n",
       "      <th>red_or_white</th>\n",
       "      <th>year</th>\n",
       "    </tr>\n",
       "  </thead>\n",
       "  <tbody>\n",
       "    <tr>\n",
       "      <th>0</th>\n",
       "      <td>13</td>\n",
       "      <td>10</td>\n",
       "      <td>0</td>\n",
       "      <td>41</td>\n",
       "    </tr>\n",
       "    <tr>\n",
       "      <th>1</th>\n",
       "      <td>14</td>\n",
       "      <td>30</td>\n",
       "      <td>0</td>\n",
       "      <td>42</td>\n",
       "    </tr>\n",
       "    <tr>\n",
       "      <th>2</th>\n",
       "      <td>14</td>\n",
       "      <td>16</td>\n",
       "      <td>1</td>\n",
       "      <td>39</td>\n",
       "    </tr>\n",
       "    <tr>\n",
       "      <th>3</th>\n",
       "      <td>14</td>\n",
       "      <td>60</td>\n",
       "      <td>1</td>\n",
       "      <td>39</td>\n",
       "    </tr>\n",
       "    <tr>\n",
       "      <th>4</th>\n",
       "      <td>14</td>\n",
       "      <td>83</td>\n",
       "      <td>1</td>\n",
       "      <td>43</td>\n",
       "    </tr>\n",
       "  </tbody>\n",
       "</table>\n",
       "</div>"
      ],
      "text/plain": [
       "   country  variety  red_or_white  year\n",
       "0       13       10             0    41\n",
       "1       14       30             0    42\n",
       "2       14       16             1    39\n",
       "3       14       60             1    39\n",
       "4       14       83             1    43"
      ]
     },
     "execution_count": 6,
     "metadata": {},
     "output_type": "execute_result"
    }
   ],
   "source": [
    "from sklearn.preprocessing import LabelEncoder\n",
    "le = LabelEncoder()\n",
    "le_country = le.fit_transform(wine12.country)\n",
    "\n",
    "le_variety = le.fit_transform(wine12.variety)\n",
    "\n",
    "le_red_or_white = le.fit_transform(wine12.red_or_white)\n",
    "\n",
    "le_year = le.fit_transform(wine12.year)\n",
    "\n",
    "w = pd.DataFrame({'country': le_country, 'variety': le_variety, 'red_or_white': le_red_or_white, 'year': le_year})\n",
    "\n",
    "w.head()"
   ]
  },
  {
   "cell_type": "code",
   "execution_count": 7,
   "metadata": {},
   "outputs": [],
   "source": [
    "wine13 = wine12[['points', 'price']]\n",
    "wine14 = wine13.join(w)"
   ]
  },
  {
   "cell_type": "code",
   "execution_count": 8,
   "metadata": {},
   "outputs": [],
   "source": [
    "wine14.to_csv('data/wine_le.csv', index=False)"
   ]
  },
  {
   "cell_type": "code",
   "execution_count": 9,
   "metadata": {
    "scrolled": true
   },
   "outputs": [
    {
     "data": {
      "text/html": [
       "<div>\n",
       "<style scoped>\n",
       "    .dataframe tbody tr th:only-of-type {\n",
       "        vertical-align: middle;\n",
       "    }\n",
       "\n",
       "    .dataframe tbody tr th {\n",
       "        vertical-align: top;\n",
       "    }\n",
       "\n",
       "    .dataframe thead th {\n",
       "        text-align: right;\n",
       "    }\n",
       "</style>\n",
       "<table border=\"1\" class=\"dataframe\">\n",
       "  <thead>\n",
       "    <tr style=\"text-align: right;\">\n",
       "      <th></th>\n",
       "      <th>points</th>\n",
       "      <th>price</th>\n",
       "      <th>country</th>\n",
       "      <th>variety</th>\n",
       "      <th>red_or_white</th>\n",
       "      <th>year</th>\n",
       "    </tr>\n",
       "  </thead>\n",
       "  <tbody>\n",
       "    <tr>\n",
       "      <th>0</th>\n",
       "      <td>82</td>\n",
       "      <td>18.0</td>\n",
       "      <td>13</td>\n",
       "      <td>10</td>\n",
       "      <td>0</td>\n",
       "      <td>41</td>\n",
       "    </tr>\n",
       "    <tr>\n",
       "      <th>1</th>\n",
       "      <td>81</td>\n",
       "      <td>35.0</td>\n",
       "      <td>14</td>\n",
       "      <td>30</td>\n",
       "      <td>0</td>\n",
       "      <td>42</td>\n",
       "    </tr>\n",
       "    <tr>\n",
       "      <th>2</th>\n",
       "      <td>85</td>\n",
       "      <td>21.0</td>\n",
       "      <td>14</td>\n",
       "      <td>16</td>\n",
       "      <td>1</td>\n",
       "      <td>39</td>\n",
       "    </tr>\n",
       "    <tr>\n",
       "      <th>3</th>\n",
       "      <td>83</td>\n",
       "      <td>21.0</td>\n",
       "      <td>14</td>\n",
       "      <td>60</td>\n",
       "      <td>1</td>\n",
       "      <td>39</td>\n",
       "    </tr>\n",
       "    <tr>\n",
       "      <th>4</th>\n",
       "      <td>84</td>\n",
       "      <td>22.0</td>\n",
       "      <td>14</td>\n",
       "      <td>83</td>\n",
       "      <td>1</td>\n",
       "      <td>43</td>\n",
       "    </tr>\n",
       "  </tbody>\n",
       "</table>\n",
       "</div>"
      ],
      "text/plain": [
       "   points  price  country  variety  red_or_white  year\n",
       "0      82   18.0       13       10             0    41\n",
       "1      81   35.0       14       30             0    42\n",
       "2      85   21.0       14       16             1    39\n",
       "3      83   21.0       14       60             1    39\n",
       "4      84   22.0       14       83             1    43"
      ]
     },
     "execution_count": 9,
     "metadata": {},
     "output_type": "execute_result"
    }
   ],
   "source": [
    "wine_le = pd.read_csv('data/wine_le.csv', index_col=False)\n",
    "wine_le.head()"
   ]
  },
  {
   "cell_type": "markdown",
   "metadata": {},
   "source": [
    "### 1.2 Preprocessing using One hot Encoder "
   ]
  },
  {
   "cell_type": "markdown",
   "metadata": {},
   "source": [
    "Load the file and transform the data using One Hot Enconding for machine learning purpose"
   ]
  },
  {
   "cell_type": "code",
   "execution_count": 10,
   "metadata": {},
   "outputs": [],
   "source": [
    "wine16 = wine12[['points', 'price', 'year']]"
   ]
  },
  {
   "cell_type": "code",
   "execution_count": 11,
   "metadata": {},
   "outputs": [],
   "source": [
    "ohe_country = pd.get_dummies(wine12.country)\n",
    "\n",
    "ohe_variety = pd.get_dummies(wine12.variety)\n",
    "\n",
    "# ohe_year = pd.get_dummies(wine12.year)\n",
    "\n",
    "ohe_red_or_white = pd.get_dummies(wine12.red_or_white)"
   ]
  },
  {
   "cell_type": "code",
   "execution_count": 12,
   "metadata": {},
   "outputs": [],
   "source": [
    "wine17 = wine16.join([ohe_country, ohe_variety, ohe_red_or_white])"
   ]
  },
  {
   "cell_type": "code",
   "execution_count": 13,
   "metadata": {},
   "outputs": [],
   "source": [
    "wine17.to_csv('data/wine_ohe.csv', index=False)"
   ]
  },
  {
   "cell_type": "code",
   "execution_count": 17,
   "metadata": {},
   "outputs": [],
   "source": [
    "wine_ohe = pd.read_csv('data/wine_ohe.csv', index_col=False)"
   ]
  },
  {
   "cell_type": "code",
   "execution_count": 18,
   "metadata": {
    "scrolled": true
   },
   "outputs": [
    {
     "data": {
      "text/html": [
       "<div>\n",
       "<style scoped>\n",
       "    .dataframe tbody tr th:only-of-type {\n",
       "        vertical-align: middle;\n",
       "    }\n",
       "\n",
       "    .dataframe tbody tr th {\n",
       "        vertical-align: top;\n",
       "    }\n",
       "\n",
       "    .dataframe thead th {\n",
       "        text-align: right;\n",
       "    }\n",
       "</style>\n",
       "<table border=\"1\" class=\"dataframe\">\n",
       "  <thead>\n",
       "    <tr style=\"text-align: right;\">\n",
       "      <th></th>\n",
       "      <th>points</th>\n",
       "      <th>price</th>\n",
       "      <th>year</th>\n",
       "      <th>Argentina</th>\n",
       "      <th>Australia</th>\n",
       "      <th>Austria</th>\n",
       "      <th>Canada</th>\n",
       "      <th>Chile</th>\n",
       "      <th>France</th>\n",
       "      <th>Germany</th>\n",
       "      <th>...</th>\n",
       "      <th>verdicchio</th>\n",
       "      <th>vermentino</th>\n",
       "      <th>vernaccia</th>\n",
       "      <th>viognier</th>\n",
       "      <th>viura</th>\n",
       "      <th>white blend</th>\n",
       "      <th>zinfandel</th>\n",
       "      <th>zweigelt</th>\n",
       "      <th>r</th>\n",
       "      <th>w</th>\n",
       "    </tr>\n",
       "  </thead>\n",
       "  <tbody>\n",
       "    <tr>\n",
       "      <th>0</th>\n",
       "      <td>82</td>\n",
       "      <td>18.0</td>\n",
       "      <td>2008</td>\n",
       "      <td>0</td>\n",
       "      <td>0</td>\n",
       "      <td>0</td>\n",
       "      <td>0</td>\n",
       "      <td>0</td>\n",
       "      <td>0</td>\n",
       "      <td>0</td>\n",
       "      <td>...</td>\n",
       "      <td>0</td>\n",
       "      <td>0</td>\n",
       "      <td>0</td>\n",
       "      <td>0</td>\n",
       "      <td>0</td>\n",
       "      <td>0</td>\n",
       "      <td>0</td>\n",
       "      <td>0</td>\n",
       "      <td>1</td>\n",
       "      <td>0</td>\n",
       "    </tr>\n",
       "    <tr>\n",
       "      <th>1</th>\n",
       "      <td>81</td>\n",
       "      <td>35.0</td>\n",
       "      <td>2009</td>\n",
       "      <td>0</td>\n",
       "      <td>0</td>\n",
       "      <td>0</td>\n",
       "      <td>0</td>\n",
       "      <td>0</td>\n",
       "      <td>0</td>\n",
       "      <td>0</td>\n",
       "      <td>...</td>\n",
       "      <td>0</td>\n",
       "      <td>0</td>\n",
       "      <td>0</td>\n",
       "      <td>0</td>\n",
       "      <td>0</td>\n",
       "      <td>0</td>\n",
       "      <td>0</td>\n",
       "      <td>0</td>\n",
       "      <td>1</td>\n",
       "      <td>0</td>\n",
       "    </tr>\n",
       "    <tr>\n",
       "      <th>2</th>\n",
       "      <td>85</td>\n",
       "      <td>21.0</td>\n",
       "      <td>2006</td>\n",
       "      <td>0</td>\n",
       "      <td>0</td>\n",
       "      <td>0</td>\n",
       "      <td>0</td>\n",
       "      <td>0</td>\n",
       "      <td>0</td>\n",
       "      <td>0</td>\n",
       "      <td>...</td>\n",
       "      <td>0</td>\n",
       "      <td>0</td>\n",
       "      <td>0</td>\n",
       "      <td>0</td>\n",
       "      <td>0</td>\n",
       "      <td>0</td>\n",
       "      <td>0</td>\n",
       "      <td>0</td>\n",
       "      <td>0</td>\n",
       "      <td>1</td>\n",
       "    </tr>\n",
       "    <tr>\n",
       "      <th>3</th>\n",
       "      <td>83</td>\n",
       "      <td>21.0</td>\n",
       "      <td>2006</td>\n",
       "      <td>0</td>\n",
       "      <td>0</td>\n",
       "      <td>0</td>\n",
       "      <td>0</td>\n",
       "      <td>0</td>\n",
       "      <td>0</td>\n",
       "      <td>0</td>\n",
       "      <td>...</td>\n",
       "      <td>0</td>\n",
       "      <td>0</td>\n",
       "      <td>0</td>\n",
       "      <td>0</td>\n",
       "      <td>0</td>\n",
       "      <td>0</td>\n",
       "      <td>0</td>\n",
       "      <td>0</td>\n",
       "      <td>0</td>\n",
       "      <td>1</td>\n",
       "    </tr>\n",
       "    <tr>\n",
       "      <th>4</th>\n",
       "      <td>84</td>\n",
       "      <td>22.0</td>\n",
       "      <td>2010</td>\n",
       "      <td>0</td>\n",
       "      <td>0</td>\n",
       "      <td>0</td>\n",
       "      <td>0</td>\n",
       "      <td>0</td>\n",
       "      <td>0</td>\n",
       "      <td>0</td>\n",
       "      <td>...</td>\n",
       "      <td>0</td>\n",
       "      <td>0</td>\n",
       "      <td>0</td>\n",
       "      <td>1</td>\n",
       "      <td>0</td>\n",
       "      <td>0</td>\n",
       "      <td>0</td>\n",
       "      <td>0</td>\n",
       "      <td>0</td>\n",
       "      <td>1</td>\n",
       "    </tr>\n",
       "  </tbody>\n",
       "</table>\n",
       "<p>5 rows × 108 columns</p>\n",
       "</div>"
      ],
      "text/plain": [
       "   points  price  year  Argentina  Australia  Austria  Canada  Chile  France  \\\n",
       "0      82   18.0  2008          0          0        0       0      0       0   \n",
       "1      81   35.0  2009          0          0        0       0      0       0   \n",
       "2      85   21.0  2006          0          0        0       0      0       0   \n",
       "3      83   21.0  2006          0          0        0       0      0       0   \n",
       "4      84   22.0  2010          0          0        0       0      0       0   \n",
       "\n",
       "   Germany  ...  verdicchio  vermentino  vernaccia  viognier  viura  \\\n",
       "0        0  ...           0           0          0         0      0   \n",
       "1        0  ...           0           0          0         0      0   \n",
       "2        0  ...           0           0          0         0      0   \n",
       "3        0  ...           0           0          0         0      0   \n",
       "4        0  ...           0           0          0         1      0   \n",
       "\n",
       "   white blend  zinfandel  zweigelt  r  w  \n",
       "0            0          0         0  1  0  \n",
       "1            0          0         0  1  0  \n",
       "2            0          0         0  0  1  \n",
       "3            0          0         0  0  1  \n",
       "4            0          0         0  0  1  \n",
       "\n",
       "[5 rows x 108 columns]"
      ]
     },
     "execution_count": 18,
     "metadata": {},
     "output_type": "execute_result"
    }
   ],
   "source": [
    "wine_ohe.head()"
   ]
  },
  {
   "cell_type": "markdown",
   "metadata": {},
   "source": [
    "# 2. Knowing the data.\n",
    "### 2.1 Explore the Label Encoded data"
   ]
  },
  {
   "cell_type": "markdown",
   "metadata": {},
   "source": [
    "### 2.1.1 Print out info of the dataframe"
   ]
  },
  {
   "cell_type": "code",
   "execution_count": 19,
   "metadata": {},
   "outputs": [],
   "source": [
    "# wine15.info()\n",
    "# wine15.describe()"
   ]
  },
  {
   "cell_type": "markdown",
   "metadata": {},
   "source": [
    "### 2.1.2 Plot out the relationship between points and price, year and price."
   ]
  },
  {
   "cell_type": "code",
   "execution_count": 19,
   "metadata": {},
   "outputs": [
    {
     "name": "stdout",
     "output_type": "stream",
     "text": [
      "Correlation between points and price: 0.4272882526312186\n"
     ]
    },
    {
     "data": {
      "image/png": "[encoded data removed]",
      "text/plain": [
       "<Figure size 1296x432 with 1 Axes>"
      ]
     },
     "metadata": {},
     "output_type": "display_data"
    },
    {
     "name": "stdout",
     "output_type": "stream",
     "text": [
      "Correlation between points and price: -0.09292814383099339\n"
     ]
    },
    {
     "data": {
      "image/png": "[encoded data removed]",
      "text/plain": [
       "<Figure size 1296x432 with 1 Axes>"
      ]
     },
     "metadata": {},
     "output_type": "display_data"
    }
   ],
   "source": [
    "fig = plt.gcf()\n",
    "fig.set_size_inches(18,6)\n",
    "plt.scatter(wine_le.points, wine_le.price)\n",
    "sns.regplot(wine_le.points, wine_le.price)\n",
    "plt.title(\"Relationship between points and price\", size=20)\n",
    "plt.xlabel('Wine Points',size=20)\n",
    "plt.ylabel(\"Wine Price\",size=20)\n",
    "print(\"Correlation between points and price:\" ,stats.pearsonr(wine_le.points, wine_le.price)[0])\n",
    "plt.show()\n",
    "\n",
    "fig = plt.gcf()\n",
    "fig.set_size_inches(18,6)\n",
    "plt.scatter(wine_le.year, wine_le.price)\n",
    "sns.regplot(wine_le.year, wine_le.price)\n",
    "plt.title(\"Relationship between points and price\",size=20)\n",
    "plt.xlabel('Wine Points',size=20)\n",
    "plt.ylabel(\"Wine Price\",size=20)\n",
    "print(\"Correlation between points and price:\" ,stats.pearsonr(wine_le.year, wine_le.price)[0])\n",
    "plt.show()"
   ]
  },
  {
   "cell_type": "markdown",
   "metadata": {},
   "source": [
    "### 2.1.3 Plot out histogram for each columns to check if there exist skewness.\n",
    "Year, country and variety of wine have skewness problem, going to perform logarithm transformation and see if the transformed data improve the score."
   ]
  },
  {
   "cell_type": "code",
   "execution_count": 20,
   "metadata": {},
   "outputs": [
    {
     "data": {
      "image/png": "[encoded data removed]",
      "text/plain": [
       "<Figure size 1296x432 with 1 Axes>"
      ]
     },
     "metadata": {},
     "output_type": "display_data"
    },
    {
     "data": {
      "image/png": "[encoded data removed]",
      "text/plain": [
       "<Figure size 1296x432 with 1 Axes>"
      ]
     },
     "metadata": {},
     "output_type": "display_data"
    },
    {
     "data": {
      "image/png": "[encoded data removed]",
      "text/plain": [
       "<Figure size 1296x432 with 1 Axes>"
      ]
     },
     "metadata": {},
     "output_type": "display_data"
    },
    {
     "data": {
      "image/png": "[encoded data removed]",
      "text/plain": [
       "<Figure size 1296x432 with 1 Axes>"
      ]
     },
     "metadata": {},
     "output_type": "display_data"
    }
   ],
   "source": [
    "plt.subplot(2,3,1)\n",
    "fig = plt.gcf()\n",
    "fig.set_size_inches(18,6)\n",
    "plt.hist(wine_le.points)\n",
    "plt.title(\"Wine points\")\n",
    "plt.xlabel(\"Points of wine\")\n",
    "plt.ylabel(\"Frequency\")\n",
    "plt.show()\n",
    "\n",
    "plt.subplot(2,3,2)\n",
    "fig = plt.gcf()\n",
    "fig.set_size_inches(18,6)\n",
    "plt.hist(wine_le.year)\n",
    "plt.title(\"Production year of wine\")\n",
    "plt.xlabel(\"Production year of wine\")\n",
    "plt.ylabel(\"Frequency\")\n",
    "plt.show()\n",
    "\n",
    "plt.subplot(2,3,3)\n",
    "fig = plt.gcf()\n",
    "fig.set_size_inches(18,6)\n",
    "plt.hist(wine_le.country)\n",
    "plt.title(\"Country of production\")\n",
    "plt.xlabel(\"Country of production\")\n",
    "plt.ylabel(\"Frequency\")\n",
    "plt.show()\n",
    "\n",
    "plt.subplot(2,3,4)\n",
    "fig = plt.gcf()\n",
    "fig.set_size_inches(18,6)\n",
    "plt.hist(wine_le\n",
    "         .variety)\n",
    "plt.title(\"Grape variety of wine\")\n",
    "plt.xlabel(\"Grape variety of wine\")\n",
    "plt.ylabel(\"Frequency\")\n",
    "plt.show()"
   ]
  },
  {
   "cell_type": "markdown",
   "metadata": {},
   "source": [
    "The r^2 and MSE after logarithmic transformation of data do not improve, will then use the original data for fitting."
   ]
  },
  {
   "cell_type": "code",
   "execution_count": 21,
   "metadata": {
    "scrolled": false
   },
   "outputs": [],
   "source": [
    "# log_year = np.log(wine_le.year)\n",
    "# log_country = np.log(wine_le.country)\n",
    "# log_variety = np.log(wine_le.variety)\n",
    "\n",
    "# log_df = pd.DataFrame({'log_country': log_country, 'log_variety': log_variety,'log_year': log_year})\n",
    "\n",
    "# dropped_wine_le = wine_le.drop(['year', 'variety', 'country'], axis=1)\n",
    "\n",
    "# wine_le_log = dropped_wine_le.join(log_df)\n",
    "# # wine_le_log\n",
    "\n",
    "# wine_le_log.info()"
   ]
  },
  {
   "cell_type": "markdown",
   "metadata": {},
   "source": [
    "## 3. Fit the Label Encoded and One Hot Encoded data using Linear Regression model\n",
    "\n",
    "### 3.1.1 Fitting the Label Encoded Data\n",
    "For label encoded data, ridge regression seems to perform the best, \n",
    "with MSE:  977.55, R^2 :  0.25319. By doing logarithm transformation on label encoded data, the result degenerate."
   ]
  },
  {
   "cell_type": "code",
   "execution_count": 20,
   "metadata": {},
   "outputs": [
    {
     "name": "stdout",
     "output_type": "stream",
     "text": [
      "First 10 predictions:  [44.46614662 20.86332385 14.82956915 43.08076354 27.2416444  30.60638506\n",
      " 10.7517029  55.91764782 49.81179655 29.85932625]\n",
      "\n",
      "\n",
      "Estimated intercept coefficients -411.3980455823651\n",
      "\n",
      "\n",
      "Estimated coefficient for features: \n",
      "       Features  Estimated Coefficients\n",
      "0        points                5.747298\n",
      "1       country               -0.018825\n",
      "2       variety               -0.114623\n",
      "3  red_or_white               -7.665037\n",
      "4          year               -1.221711\n",
      "\n",
      "\n",
      "\n",
      "\n",
      "Training Score: \n",
      "MSE of linear regression training (label encoded data):  1398.86413766808\n",
      "R^2 of linear regression training (label encoded data):  0.20818597783145795\n",
      "Testing Score: \n",
      "MSE of linear regression testing (label encoded data):  977.5739040727971\n",
      "R^2 of linear regression testing (label encoded data):  0.253173326412825\n"
     ]
    },
    {
     "data": {
      "image/png": "[encoded data removed]",
      "text/plain": [
       "<Figure size 648x432 with 1 Axes>"
      ]
     },
     "metadata": {
      "needs_background": "light"
     },
     "output_type": "display_data"
    }
   ],
   "source": [
    "# makes intercpt false to eliminate, turn all the predicted negative value to 0, and then do the regression again \n",
    "# metrics(prediction)\n",
    "\n",
    "# R-squared does not measure goodness of fit.\n",
    "# R-squared does not measure predictive error.\n",
    "# R-squared does not allow you to compare models using transformed responses.\n",
    "# R-squared does not measure how one variable explains another.\n",
    "# https://data.library.virginia.edu/is-r-squared-useless/\n",
    "\n",
    "from sklearn.model_selection import train_test_split\n",
    "from sklearn.linear_model import LinearRegression\n",
    "from sklearn.metrics import mean_squared_error\n",
    "from sklearn.model_selection import cross_val_score\n",
    "from sklearn.metrics import r2_score\n",
    "\n",
    "\n",
    "X = wine_le.drop('price', axis=1)\n",
    "X_train, X_test, y_train, y_test = train_test_split(X, wine_le.price, test_size=0.2, random_state=0)\n",
    "\n",
    "lr = LinearRegression()\n",
    "lr.fit(X_train, y_train)\n",
    "le_pred = lr.predict(X_test)\n",
    "\n",
    "print(\"First 10 predictions: \", le_pred[:10])\n",
    "print(\"\\n\")\n",
    "print(\"Estimated intercept coefficients\", lr.intercept_)\n",
    "print(\"\\n\")\n",
    "print(\"Estimated coefficient for features: \")\n",
    "print(pd.DataFrame({'Features': X_train.columns, 'Estimated Coefficients': lr.coef_}))\n",
    "print(\"\\n\")\n",
    "\n",
    "def MSE(model, X, y):\n",
    "    \"\"\"Calculate the mean MSE for linear regression model\"\"\"\n",
    "    MSEs = cross_val_score(model, X, y, scoring=\"neg_mean_squared_error\", cv=5)\n",
    "    return -(np.mean(MSEs))\n",
    "\n",
    "def r_2_scores(model, X, y):\n",
    "    \"\"\"Calculate the mean R^2 for linear regression model\"\"\"\n",
    "    return np.mean(cross_val_score(model, X, y, cv=5, scoring='r2'))\n",
    "\n",
    "print(\"\\n\")\n",
    "print('Training Score: ')\n",
    "print('MSE of linear regression training (label encoded data): ', (MSE(lr, X_train, y_train)))\n",
    "print('R^2 of linear regression training (label encoded data): ', r_2_scores(lr, X_train, y_train))\n",
    "print('Testing Score: ')\n",
    "# testing set no CV!!!!!\n",
    "print('MSE of linear regression testing (label encoded data): ', mean_squared_error(y_test, le_pred))\n",
    "print('R^2 of linear regression testing (label encoded data): ', r2_score(y_test, le_pred))\n",
    "\n",
    "fig = plt.gcf()\n",
    "fig.set_size_inches(9,6)\n",
    "sns.regplot(le_pred, y_test);\n",
    "plt.title('Correlation between predicted wine price and actual wine price using Label Encoding');\n",
    "plt.xlabel(\"Predicted wine price\");\n",
    "plt.ylabel(\"Actual wine price\");"
   ]
  },
  {
   "cell_type": "markdown",
   "metadata": {},
   "source": [
    "### 3.1.2 Make a pipeline to scale the Label Encoded data and see if generates a better result "
   ]
  },
  {
   "cell_type": "markdown",
   "metadata": {},
   "source": [
    "The result of scaling for label encoded is slightly better but not significant."
   ]
  },
  {
   "cell_type": "code",
   "execution_count": 23,
   "metadata": {},
   "outputs": [
    {
     "name": "stdout",
     "output_type": "stream",
     "text": [
      "First 10 predictions(pip):  [44.46614662 20.86332385 14.82956915 43.08076354 27.2416444  30.60638506\n",
      " 10.7517029  55.91764782 49.81179655 29.85932625]\n",
      "\n",
      "\n",
      "Estimated intercept coefficients -411.39804558236494\n",
      "\n",
      "\n",
      "Estimated coefficient for features: \n",
      "       Features  Estimated Coefficients\n",
      "0        points                5.747298\n",
      "1       country               -0.018825\n",
      "2       variety               -0.114623\n",
      "3  red_or_white               -7.665037\n",
      "4          year               -1.221711\n",
      "\n",
      "\n",
      "Training Score: \n",
      "MSE of linear regression training (label encoded data) after scaling:  1398.86413766808\n",
      "R^2 of linear regression training (label encoded data) after scaling:  0.20818597783145792\n",
      "Testing Score: \n",
      "MSE of linear regression testing (label encoded data) after scaling:  977.5739040727971\n",
      "R^2 of linear regression testing (label encoded data) after scaling:  0.253173326412825\n"
     ]
    }
   ],
   "source": [
    "from sklearn.pipeline import Pipeline\n",
    "from sklearn.preprocessing import StandardScaler\n",
    "\n",
    "ss = StandardScaler\n",
    "pip = Pipeline([('Scaler', StandardScaler()), ('Linear Regression', LinearRegression())])\n",
    "pip.fit(X_train, y_train)\n",
    "y_le_pip_pred = pip.predict(X_test)\n",
    "\n",
    "print(\"First 10 predictions(pip): \", y_le_pip_pred[:10])\n",
    "print(\"\\n\")\n",
    "print(\"Estimated intercept coefficients\", lr.intercept_)\n",
    "print(\"\\n\")\n",
    "print(\"Estimated coefficient for features: \")\n",
    "print(pd.DataFrame({'Features': X_train.columns, 'Estimated Coefficients': lr.coef_}))\n",
    "print(\"\\n\")\n",
    "print('Training Score: ')\n",
    "print('MSE of linear regression training (label encoded data) after scaling: ', (MSE(pip, X_train, y_train)))\n",
    "print('R^2 of linear regression training (label encoded data) after scaling: ', r_2_scores(pip, X_train, y_train))\n",
    "print('Testing Score: ')\n",
    "print('MSE of linear regression testing (label encoded data) after scaling: ', mean_squared_error(y_test, y_le_pip_pred))\n",
    "print('R^2 of linear regression testing (label encoded data) after scaling: ', r2_score(y_test, y_le_pip_pred))\n"
   ]
  },
  {
   "cell_type": "markdown",
   "metadata": {},
   "source": [
    "### 3.1.3 Find the best alpha for Ridge regression to see if R^2 score and MSE improve."
   ]
  },
  {
   "cell_type": "markdown",
   "metadata": {},
   "source": [
    "There is a slightly improvement in R^2 and MSE."
   ]
  },
  {
   "cell_type": "code",
   "execution_count": 24,
   "metadata": {},
   "outputs": [
    {
     "name": "stdout",
     "output_type": "stream",
     "text": [
      "100.0\n",
      "\n",
      "\n",
      "Training Score: \n",
      "MSE of linear regression training (label encoded data) after scaling:  1398.8638926966275\n",
      "R^2 of linear regression training (label encoded data) after scaling:  0.20819100313987482\n",
      "Testing Score: \n",
      "MSE of linear regression testing (label encoded data) after scaling:  977.5501875457234\n",
      "R^2 of linear regression testing (label encoded data) after scaling:  0.2531914448742013\n"
     ]
    }
   ],
   "source": [
    "from sklearn.linear_model import Ridge\n",
    "from sklearn.linear_model import RidgeCV\n",
    "\n",
    "# ridge regression is to have a not too good fit for training so it will \n",
    "# not over fit the testing data\n",
    "\n",
    "ridge_cv = RidgeCV(alphas=[0.01, 0.1, 1.0, 10.0, 100.0, 1000.0], cv=5)\n",
    "best_alpha_ridge = ridge_cv.fit(X_train, y_train)\n",
    "print(best_alpha_ridge.alpha_)\n",
    "\n",
    "pip_ridge = Pipeline([('Scaler', StandardScaler()), ('ridge', Ridge(alpha=100, random_state=0))])\n",
    "pip_ridge.fit(X_train, y_train)\n",
    "pip_ridge_le_pred = pip_ridge.predict(X_test)\n",
    "\n",
    "print(\"\\n\")\n",
    "print('Training Score: ')\n",
    "print('MSE of linear regression training (label encoded data) after scaling: ', (MSE(pip_ridge, X_train, y_train)))\n",
    "print('R^2 of linear regression training (label encoded data) after scaling: ', r_2_scores(pip_ridge, X_train, y_train))\n",
    "print('Testing Score: ')\n",
    "print('MSE of linear regression testing (label encoded data) after scaling: ', mean_squared_error(y_test, pip_ridge_le_pred))\n",
    "print('R^2 of linear regression testing (label encoded data) after scaling: ', r2_score(y_test, pip_ridge_le_pred))"
   ]
  },
  {
   "cell_type": "markdown",
   "metadata": {},
   "source": [
    "### 3.1.4 Find the best alpha for Lasso regression and compare the result with Ridge regression "
   ]
  },
  {
   "cell_type": "markdown",
   "metadata": {},
   "source": [
    "Compare the result with Ridge regression, Lasso did not perform as good, going to pick Ridge for label encoded data."
   ]
  },
  {
   "cell_type": "code",
   "execution_count": 25,
   "metadata": {},
   "outputs": [
    {
     "name": "stdout",
     "output_type": "stream",
     "text": [
      "0.01\n",
      "\n",
      "\n",
      "Training Score: \n",
      "MSE of linear regression training (label encoded data) after scaling:  1398.8595417571396\n",
      "R^2 of linear regression training (label encoded data) after scaling:  0.20819233064024614\n",
      "Testing Score: \n",
      "MSE of linear regression testing (label encoded data) after scaling:  977.5545666845791\n",
      "R^2 of linear regression testing (label encoded data) after scaling:  0.2531880993903549\n"
     ]
    }
   ],
   "source": [
    "from sklearn.linear_model import Lasso\n",
    "from sklearn.linear_model import LassoCV\n",
    "\n",
    "lasso_cv = LassoCV(alphas=[0.0001, 0.001, 0.01, 0.1, 1.0, 10.0,100.0, 1000.0], cv=5)\n",
    "best_alpha_lasso = lasso_cv.fit(X_train, y_train)\n",
    "print(best_alpha_lasso.alpha_)\n",
    "\n",
    "pip_lasso = Pipeline([('Scaler', StandardScaler()), ('lasso', Lasso(alpha=0.01, random_state=0))])\n",
    "pip_lasso.fit(X_train, y_train)\n",
    "pip_lasso_le_pred = pip_lasso.predict(X_test)\n",
    "\n",
    "print(\"\\n\")\n",
    "print('Training Score: ')\n",
    "print('MSE of linear regression training (label encoded data) after scaling: ', (MSE(pip_lasso, X_train, y_train)))\n",
    "print('R^2 of linear regression training (label encoded data) after scaling: ', r_2_scores(pip_lasso, X_train, y_train))\n",
    "print('Testing Score: ')\n",
    "print('MSE of linear regression testing (label encoded data) after scaling: ', mean_squared_error(y_test, pip_lasso_le_pred))\n",
    "print('R^2 of linear regression testing (label encoded data) after scaling: ', r2_score(y_test, pip_lasso_le_pred))"
   ]
  },
  {
   "cell_type": "code",
   "execution_count": 26,
   "metadata": {},
   "outputs": [
    {
     "name": "stdout",
     "output_type": "stream",
     "text": [
      "                            OLS Regression Results                            \n",
      "==============================================================================\n",
      "Dep. Variable:                  price   R-squared:                       0.210\n",
      "Model:                            OLS   Adj. R-squared:                  0.210\n",
      "Method:                 Least Squares   F-statistic:                     5829.\n",
      "Date:                Sat, 28 Sep 2019   Prob (F-statistic):               0.00\n",
      "Time:                        13:19:18   Log-Likelihood:            -5.5041e+05\n",
      "No. Observations:              109875   AIC:                         1.101e+06\n",
      "Df Residuals:                  109869   BIC:                         1.101e+06\n",
      "Df Model:                           5                                         \n",
      "Covariance Type:            nonrobust                                         \n",
      "================================================================================\n",
      "                   coef    std err          t      P>|t|      [0.025      0.975]\n",
      "--------------------------------------------------------------------------------\n",
      "Intercept     -408.1479      3.371   -121.066      0.000    -414.756    -401.540\n",
      "points           5.7079      0.036    158.748      0.000       5.637       5.778\n",
      "year            -1.2214      0.031    -39.873      0.000      -1.281      -1.161\n",
      "variety         -0.1135      0.005    -25.040      0.000      -0.122      -0.105\n",
      "country         -0.0028      0.025     -0.111      0.911      -0.051       0.046\n",
      "red_or_white    -7.7103      0.236    -32.699      0.000      -8.172      -7.248\n",
      "==============================================================================\n",
      "Omnibus:                   234432.810   Durbin-Watson:                   1.321\n",
      "Prob(Omnibus):                  0.000   Jarque-Bera (JB):       2873703699.986\n",
      "Skew:                          18.475   Prob(JB):                         0.00\n",
      "Kurtosis:                     794.415   Cond. No.                     3.36e+03\n",
      "==============================================================================\n",
      "\n",
      "Warnings:\n",
      "[1] Standard Errors assume that the covariance matrix of the errors is correctly specified.\n",
      "[2] The condition number is large, 3.36e+03. This might indicate that there are\n",
      "strong multicollinearity or other numerical problems.\n"
     ]
    }
   ],
   "source": [
    "import statsmodels.api as sm\n",
    "from statsmodels.formula.api import ols\n",
    "\n",
    "n = ols('price ~ points+year+variety+country+red_or_white',wine_le).fit()\n",
    "print(n.summary())\n",
    "\n",
    "# fig, ax = plt.subplots(figsize=(12,8))\n",
    "# fig = sm.graphics.influence_plot(n , ax = ax, criterion=\"cooks\")"
   ]
  },
  {
   "cell_type": "markdown",
   "metadata": {},
   "source": [
    "### 3.2.1 Fitting the One Hot Encoded Data"
   ]
  },
  {
   "cell_type": "markdown",
   "metadata": {},
   "source": [
    "Compare with label encoded data, one hot encoded data have better linear regression performance in general. One of the interesting finding is that the model will perform really bad if we one hot encoded the year column. Another interesting finding is that scores dropped after we scale the data using pipeline.\n",
    "\n",
    "For one hot encoded data, ridge regression perform slightly better compare to other methods here, with MSE:  930.6, R^2:  0.28906"
   ]
  },
  {
   "cell_type": "code",
   "execution_count": 27,
   "metadata": {},
   "outputs": [
    {
     "name": "stdout",
     "output_type": "stream",
     "text": [
      "First 10 predictions:  [44.46614662 20.86332385 14.82956915 43.08076354 27.2416444  30.60638506\n",
      " 10.7517029  55.91764782 49.81179655 29.85932625]\n",
      "\n",
      "\n",
      "Estimated intercept coefficients -56021519174.364296\n",
      "\n",
      "\n",
      "Training Score: \n",
      "MSE of linear regression training (one hot encoded data) after scaling:  1348.2431680192215\n",
      "R^2 of linear regression training (one hot encoded data) after scaling:  0.23777450260504152\n",
      "Testing Score: \n",
      "MSE of linear regression testing (one hot encoded data) after scaling:  930.6419304953345\n",
      "R^2 of linear regression testing (one hot encoded data) after scaling:  0.2890274440050715\n"
     ]
    }
   ],
   "source": [
    "X = wine_ohe.drop('price', axis=1)\n",
    "X_train, X_test, y_train, y_test = train_test_split(X, wine_ohe.price, test_size=0.2, random_state=0)\n",
    "\n",
    "lr.fit(X_train, y_train)\n",
    "ohe_pred = lr.predict(X_test)\n",
    "\n",
    "print(\"First 10 predictions: \", le_pred[:10])\n",
    "print(\"\\n\")\n",
    "print(\"Estimated intercept coefficients\", lr.intercept_)\n",
    "# print(\"\\n\")\n",
    "# print(\"Estimated coefficient for features: \")\n",
    "# print(pd.DataFrame({'Features': X_train.columns[:10], 'Estimated Coefficients': lr.coef_[:10]}))\n",
    "print(\"\\n\")\n",
    "print('Training Score: ')\n",
    "print('MSE of linear regression training (one hot encoded data) after scaling: ', (MSE(lr, X_train, y_train)))\n",
    "print('R^2 of linear regression training (one hot encoded data) after scaling: ', r_2_scores(lr, X_train, y_train))\n",
    "print('Testing Score: ')\n",
    "print('MSE of linear regression testing (one hot encoded data) after scaling: ', mean_squared_error(y_test, ohe_pred))\n",
    "print('R^2 of linear regression testing (one hot encoded data) after scaling: ', r2_score(y_test, ohe_pred))\n"
   ]
  },
  {
   "cell_type": "code",
   "execution_count": 28,
   "metadata": {
    "scrolled": true
   },
   "outputs": [
    {
     "data": {
      "image/png": "[encoded data removed]",
      "text/plain": [
       "<Figure size 648x432 with 1 Axes>"
      ]
     },
     "metadata": {},
     "output_type": "display_data"
    }
   ],
   "source": [
    "fig = plt.gcf()\n",
    "fig.set_size_inches(9,6)\n",
    "sns.regplot(ohe_pred, y_test);\n",
    "plt.title('Correlation between predicted wine price and actual wine price using One Hot Encoding');\n",
    "plt.xlabel(\"Predicted wine price\");\n",
    "plt.ylabel(\"Actual wine price\");"
   ]
  },
  {
   "cell_type": "markdown",
   "metadata": {},
   "source": [
    "### 3.2.2 Make a pipeline to scale the data first before fitting "
   ]
  },
  {
   "cell_type": "markdown",
   "metadata": {},
   "source": [
    "Surprisingly, the scaler did not work well with the one hot encoded data here, score of the test drop."
   ]
  },
  {
   "cell_type": "code",
   "execution_count": 29,
   "metadata": {},
   "outputs": [
    {
     "name": "stdout",
     "output_type": "stream",
     "text": [
      "\n",
      "\n",
      "Training Score: \n",
      "MSE of linear regression training (one hot encoded data) after scaling:  1348.271242961213\n",
      "R^2 of linear regression training (one hot encoded data) after scaling:  0.23775714199611597\n",
      "Testing Score: \n",
      "MSE of linear regression testing (one hot encoded data) after scaling:  930.6606458315774\n",
      "R^2 of linear regression testing (one hot encoded data) after scaling:  0.2890131462499318\n"
     ]
    }
   ],
   "source": [
    "pip.fit(X_train, y_train)\n",
    "y_ohe_pip_pred = pip.predict(X_test)\n",
    "\n",
    "print(\"\\n\")\n",
    "print('Training Score: ')\n",
    "print('MSE of linear regression training (one hot encoded data) after scaling: ', (MSE(pip, X_train, y_train)))\n",
    "print('R^2 of linear regression training (one hot encoded data) after scaling: ', r_2_scores(pip, X_train, y_train))\n",
    "print('Testing Score: ')\n",
    "print('MSE of linear regression testing (one hot encoded data) after scaling: ', mean_squared_error(y_test, y_ohe_pip_pred))\n",
    "print('R^2 of linear regression testing (one hot encoded data) after scaling: ', r2_score(y_test, y_ohe_pip_pred))"
   ]
  },
  {
   "cell_type": "markdown",
   "metadata": {},
   "source": [
    "### 3.2.3 Find the best alpha to fit One Hot Encoded data with Ridge regression"
   ]
  },
  {
   "cell_type": "markdown",
   "metadata": {},
   "source": [
    "As label encoded data, there is no huge improvement using both ridge and lasso regression. For hot encoded data, ridge perform slightly better compare to Lasso."
   ]
  },
  {
   "cell_type": "code",
   "execution_count": 30,
   "metadata": {},
   "outputs": [
    {
     "name": "stdout",
     "output_type": "stream",
     "text": [
      "10\n",
      "\n",
      "\n",
      "Training Score: \n",
      "MSE of Ridge regression training (one hot encoded data):  1348.177493311482\n",
      "R^2 of Ridge regression training (one hot encoded data):  0.23782627969684497\n",
      "Testing Score: \n",
      "MSE of Ridge regression testing (one hot encoded data):  930.5994731165548\n",
      "R^2 of Ridge regression testing (one hot encoded data):  0.28905987971436276\n"
     ]
    }
   ],
   "source": [
    "ridge_cv = RidgeCV(alphas=range(0, 1000, 10), cv=5)\n",
    "best_alpha_ridge = ridge_cv.fit(X_train, y_train)\n",
    "print(best_alpha_ridge.alpha_)\n",
    "\n",
    "ridge = Ridge(alpha=10, random_state=0)\n",
    "ridge.fit(X_train, y_train)\n",
    "y_ohe_ridge_pred = ridge.predict(X_test)\n",
    "\n",
    "print(\"\\n\")\n",
    "print('Training Score: ')\n",
    "print('MSE of Ridge regression training (one hot encoded data): ', (MSE(ridge, X_train, y_train)))\n",
    "print('R^2 of Ridge regression training (one hot encoded data): ', r_2_scores(ridge, X_train, y_train))\n",
    "print('Testing Score: ')\n",
    "print('MSE of Ridge regression testing (one hot encoded data): ', mean_squared_error(y_test, y_ohe_ridge_pred))\n",
    "print('R^2 of Ridge regression testing (one hot encoded data): ', r2_score(y_test, y_ohe_ridge_pred))"
   ]
  },
  {
   "cell_type": "markdown",
   "metadata": {},
   "source": [
    "### 3.2.4 Find the best alpha for Lasso regression and compare the result with Ridge regression "
   ]
  },
  {
   "cell_type": "code",
   "execution_count": 31,
   "metadata": {},
   "outputs": [
    {
     "name": "stdout",
     "output_type": "stream",
     "text": [
      "0.0001\n",
      "\n",
      "\n",
      "Training Score: \n",
      "MSE of Lasso regression training (one hot encoded data):  1348.242546547463\n",
      "R^2 of Lasso regression training (one hot encoded data):  0.23777558642271304\n",
      "Testing Score: \n",
      "MSE of Lasso regression testing (one hot encoded data):  930.634325947364\n",
      "R^2 of Lasso regression testing (one hot encoded data):  0.28903325357020127\n"
     ]
    }
   ],
   "source": [
    "lasso_cv = LassoCV(alphas=[0.00001 ,0.0001, 0.001, 0.01, 0.1, 1.0, 10.0,100.0, 1000.0], cv=5)\n",
    "best_alpha_lasso = lasso_cv.fit(X_train, y_train)\n",
    "print(best_alpha_lasso.alpha_)\n",
    "\n",
    "lasso = Lasso(alpha=0.0001)\n",
    "lasso.fit(X_train, y_train)\n",
    "y_ohe_lasso_pred = lasso.predict(X_test)\n",
    "\n",
    "print(\"\\n\")\n",
    "print('Training Score: ')\n",
    "print('MSE of Lasso regression training (one hot encoded data): ', (MSE(lasso, X_train, y_train)))\n",
    "print('R^2 of Lasso regression training (one hot encoded data): ', r_2_scores(lasso, X_train, y_train))\n",
    "print('Testing Score: ')\n",
    "print('MSE of Lasso regression testing (one hot encoded data): ', mean_squared_error(y_test, y_ohe_lasso_pred))\n",
    "print('R^2 of Lasso regression testing (one hot encoded data): ', r2_score(y_test, y_ohe_lasso_pred))"
   ]
  },
  {
   "cell_type": "markdown",
   "metadata": {},
   "source": [
    "## 4. Random forest regression:"
   ]
  },
  {
   "cell_type": "markdown",
   "metadata": {},
   "source": [
    "### 4.1 Import all the toolboxs for random forest regression"
   ]
  },
  {
   "cell_type": "markdown",
   "metadata": {},
   "source": [
    "By plugging in best parameter, MSE: 758.73, R^2: 0.42036, it is a big improvement compare to linear regression method."
   ]
  },
  {
   "cell_type": "code",
   "execution_count": 22,
   "metadata": {},
   "outputs": [],
   "source": [
    "from sklearn.ensemble import RandomForestRegressor\n",
    "from sklearn.datasets import make_regression"
   ]
  },
  {
   "cell_type": "code",
   "execution_count": 23,
   "metadata": {
    "scrolled": true
   },
   "outputs": [],
   "source": [
    "rf = RandomForestRegressor(random_state=0)"
   ]
  },
  {
   "cell_type": "markdown",
   "metadata": {},
   "source": [
    "### 4.2 Use GridSearch to find the best parameters"
   ]
  },
  {
   "cell_type": "code",
   "execution_count": 69,
   "metadata": {},
   "outputs": [
    {
     "data": {
      "text/plain": [
       "GridSearchCV(cv=5, error_score='raise-deprecating',\n",
       "       estimator=RandomForestRegressor(bootstrap=True, criterion='mse', max_depth=None,\n",
       "           max_features='auto', max_leaf_nodes=None,\n",
       "           min_impurity_decrease=0.0, min_impurity_split=None,\n",
       "           min_samples_leaf=1, min_samples_split=2,\n",
       "           min_weight_fraction_leaf=0.0, n_estimators='warn', n_jobs=None,\n",
       "           oob_score=False, random_state=0, verbose=0, warm_start=False),\n",
       "       fit_params=None, iid='warn', n_jobs=None,\n",
       "       param_grid={'max_depth': [3, 4, 5], 'n_estimators': [100, 200, 300], 'max_features': ['auto', 'sqrt', 'log2']},\n",
       "       pre_dispatch='2*n_jobs', refit=True, return_train_score='warn',\n",
       "       scoring=None, verbose=0)"
      ]
     },
     "execution_count": 69,
     "metadata": {},
     "output_type": "execute_result"
    }
   ],
   "source": [
    "from sklearn.model_selection import GridSearchCV\n",
    "# parameters are set for the algorithm you want to use, in this case rf\n",
    "# n_estimator is bootstraping\n",
    "\n",
    "parameters = {'max_depth': [3 ,4, 5], 'n_estimators': [100, 200, 300], 'max_features': ['auto', 'sqrt','log2']}\n",
    "GSCV = GridSearchCV(rf, param_grid=parameters, cv=5)\n",
    "GSCV.fit(X_train, y_train)"
   ]
  },
  {
   "cell_type": "code",
   "execution_count": 70,
   "metadata": {},
   "outputs": [
    {
     "data": {
      "text/plain": [
       "{'max_depth': 5, 'max_features': 'auto', 'n_estimators': 200}"
      ]
     },
     "execution_count": 70,
     "metadata": {},
     "output_type": "execute_result"
    }
   ],
   "source": [
    "GSCV.best_params_"
   ]
  },
  {
   "cell_type": "code",
   "execution_count": 89,
   "metadata": {},
   "outputs": [
    {
     "name": "stdout",
     "output_type": "stream",
     "text": [
      "\n",
      "\n",
      "Training Score: \n",
      "MSE of Random forest regression max_depth=5 training (one hot encoded data):  1149.2273146683347\n",
      "R^2 of Random forest regression max_depth=5 training (one hot encoded data):  0.3480213683837661\n",
      "Testing Score: \n",
      "MSE of Random forest regression max_depth=5 testing (one hot encoded data):  833.5693921451718\n",
      "R^2 of Random forest regression max_depth=5 testing (one hot encoded data):  0.3631869122669379\n"
     ]
    }
   ],
   "source": [
    "rf_5 = RandomForestRegressor(max_depth=5, n_estimators=100, max_features='auto',random_state=0)\n",
    "rf_5.fit(X_train, y_train)\n",
    "y_rf_5_ohe_pred = rf_5.predict(X_test)\n",
    "print(\"\\n\")\n",
    "print('Training Score: ')\n",
    "print('MSE of Random forest regression max_depth=5 training (one hot encoded data): ', (MSE(rf_5, X_train, y_train)))\n",
    "print('R^2 of Random forest regression max_depth=5 training (one hot encoded data): ', r_2_scores(rf_5, X_train, y_train))\n",
    "print('Testing Score: ')\n",
    "print('MSE of Random forest regression max_depth=5 testing (one hot encoded data): ', mean_squared_error(y_test, y_rf_5_ohe_pred))\n",
    "print('R^2 of Random forest regression max_depth=5 testing (one hot encoded data): ', r2_score(y_test, y_rf_5_ohe_pred))"
   ]
  },
  {
   "cell_type": "code",
   "execution_count": 71,
   "metadata": {},
   "outputs": [
    {
     "data": {
      "text/plain": [
       "GridSearchCV(cv=5, error_score='raise-deprecating',\n",
       "       estimator=RandomForestRegressor(bootstrap=True, criterion='mse', max_depth=None,\n",
       "           max_features='auto', max_leaf_nodes=None,\n",
       "           min_impurity_decrease=0.0, min_impurity_split=None,\n",
       "           min_samples_leaf=1, min_samples_split=2,\n",
       "           min_weight_fraction_leaf=0.0, n_estimators='warn', n_jobs=None,\n",
       "           oob_score=False, random_state=0, verbose=0, warm_start=False),\n",
       "       fit_params=None, iid='warn', n_jobs=None,\n",
       "       param_grid={'max_depth': [5, 6, 7], 'n_estimators': [30, 50, 100], 'max_features': ['auto']},\n",
       "       pre_dispatch='2*n_jobs', refit=True, return_train_score='warn',\n",
       "       scoring=None, verbose=0)"
      ]
     },
     "execution_count": 71,
     "metadata": {},
     "output_type": "execute_result"
    }
   ],
   "source": [
    "parameters = {'max_depth': [ 5, 6, 7], 'n_estimators': [30, 50, 100], 'max_features': ['auto']}\n",
    "GSCV = GridSearchCV(rf, param_grid=parameters, cv=5)\n",
    "GSCV.fit(X_train, y_train)"
   ]
  },
  {
   "cell_type": "code",
   "execution_count": 72,
   "metadata": {},
   "outputs": [
    {
     "data": {
      "text/plain": [
       "{'max_depth': 7, 'max_features': 'auto', 'n_estimators': 100}"
      ]
     },
     "execution_count": 72,
     "metadata": {},
     "output_type": "execute_result"
    }
   ],
   "source": [
    "GSCV.best_params_"
   ]
  },
  {
   "cell_type": "code",
   "execution_count": 90,
   "metadata": {
    "scrolled": true
   },
   "outputs": [
    {
     "name": "stdout",
     "output_type": "stream",
     "text": [
      "\n",
      "\n",
      "Training Score: \n",
      "MSE of Random forest regression max_depth=7 training (one hot encoded data):  1115.3948981453318\n",
      "R^2 of Random forest regression max_depth=7 training (one hot encoded data):  0.36478168660401067\n",
      "Testing Score: \n",
      "MSE of Random forest regression max_depth=7 testing (one hot encoded data):  784.8858911012796\n",
      "R^2 of Random forest regression max_depth=7 testing (one hot encoded data):  0.40037912555302446\n"
     ]
    }
   ],
   "source": [
    "rf_7 = RandomForestRegressor(max_depth=7, n_estimators=100, max_features='auto',random_state=0)\n",
    "rf_7.fit(X_train, y_train)\n",
    "y_rf_7_ohe_pred = rf_7.predict(X_test)\n",
    "print(\"\\n\")\n",
    "print('Training Score: ')\n",
    "print('MSE of Random forest regression max_depth=7 training (one hot encoded data): ', (MSE(rf_7, X_train, y_train)))\n",
    "print('R^2 of Random forest regression max_depth=7 training (one hot encoded data): ', r_2_scores(rf_7, X_train, y_train))\n",
    "print('Testing Score: ')\n",
    "print('MSE of Random forest regression max_depth=7 testing (one hot encoded data): ', mean_squared_error(y_test, y_rf_7_ohe_pred))\n",
    "print('R^2 of Random forest regression max_depth=7 testing (one hot encoded data): ', r2_score(y_test, y_rf_7_ohe_pred))"
   ]
  },
  {
   "cell_type": "markdown",
   "metadata": {},
   "source": [
    "### 4.3 Plot out the barplot of MSE for max_depth from 6 to 13\n",
    "Since it is not easy to find the best value for max_depth, I plot out a barplot of MSE scores for max_depth with value between 6 to 13, and found out that random forest perform the best when max_depth=11."
   ]
  },
  {
   "cell_type": "code",
   "execution_count": 93,
   "metadata": {},
   "outputs": [
    {
     "data": {
      "image/png": "[encoded data removed]",
      "text/plain": [
       "<Figure size 432x288 with 1 Axes>"
      ]
     },
     "metadata": {
      "needs_background": "light"
     },
     "output_type": "display_data"
    }
   ],
   "source": [
    "for i in [6, 7, 8, 9, 10, 11, 12, 13]:\n",
    "    rf = RandomForestRegressor(max_depth=i, n_estimators=100, max_features='auto',random_state=0)\n",
    "    rf.fit(X_train, y_train)\n",
    "    plt.bar(i, mean_squared_error(y_test, rf.predict(X_test)))"
   ]
  },
  {
   "cell_type": "code",
   "execution_count": 122,
   "metadata": {},
   "outputs": [
    {
     "name": "stdout",
     "output_type": "stream",
     "text": [
      "\n",
      "\n",
      "Training Score: \n",
      "MSE of Random forest regression max_depth=11 training (one hot encoded data):  1119.2782512501126\n",
      "R^2 of Random forest regression max_depth=11 training (one hot encoded data):  0.35619908153949\n",
      "Testing Score: \n",
      "MSE of Random forest regression max_depth=11 testing (one hot encoded data):  758.7339778851964\n",
      "R^2 of Random forest regression max_depth=11 testing (one hot encoded data):  0.42035812281731055\n"
     ]
    }
   ],
   "source": [
    "rf_11 = RandomForestRegressor(max_depth=11, n_estimators=100, max_features='auto',random_state=0)\n",
    "rf_11.fit(X_train, y_train)\n",
    "y_rf_11_ohe_pred = rf_11.predict(X_test)\n",
    "print(\"\\n\")\n",
    "print('Training Score: ')\n",
    "print('MSE of Random forest regression max_depth=11 training (one hot encoded data): ', (MSE(rf_11, X_train, y_train)))\n",
    "print('R^2 of Random forest regression max_depth=11 training (one hot encoded data): ', r_2_scores(rf_11, X_train, y_train))\n",
    "print('Testing Score: ')\n",
    "print('MSE of Random forest regression max_depth=11 testing (one hot encoded data): ', mean_squared_error(y_test, y_rf_11_ohe_pred))\n",
    "print('R^2 of Random forest regression max_depth=11 testing (one hot encoded data): ', r2_score(y_test, y_rf_11_ohe_pred))"
   ]
  },
  {
   "cell_type": "markdown",
   "metadata": {},
   "source": [
    "### 4.4 Feature important plot\n",
    "From the plot, we can tell that points, year, France, Pinot Noir, US are the most important features for our random forest regressor to make decisions."
   ]
  },
  {
   "cell_type": "markdown",
   "metadata": {},
   "source": [
    "Generally, importance provides a score that indicates how useful or valuable each feature was in the construction of the boosted decision trees within the model. The more an attribute is used to make key decisions with decision trees, the higher its relative importance.\n",
    "\n",
    "Importance is calculated for a single decision tree by the amount that each attribute split point improves the performance measure, weighted by the number of observations the node is responsible for. The performance measure may be the purity (Gini index) used to select the split points or another more specific error function.\n",
    "\n",
    "The feature importances are then averaged across all of the the decision trees within the model."
   ]
  },
  {
   "cell_type": "code",
   "execution_count": 67,
   "metadata": {},
   "outputs": [
    {
     "data": {
      "text/plain": [
       "<Figure size 1080x576 with 0 Axes>"
      ]
     },
     "metadata": {},
     "output_type": "display_data"
    },
    {
     "data": {
      "image/png": "[encoded data removed]",
      "text/plain": [
       "<Figure size 432x288 with 1 Axes>"
      ]
     },
     "metadata": {
      "needs_background": "light"
     },
     "output_type": "display_data"
    }
   ],
   "source": [
    "rf_11 = RandomForestRegressor(max_depth=11, n_estimators=100, max_features='auto',random_state=0, n_jobs=-1)\n",
    "rf_11.fit(X, wine_ohe.price)\n",
    "importances = rf_11.feature_importances_\n",
    "\n",
    "fig = plt.gcf()\n",
    "fig.set_size_inches(15,8)\n",
    "\n",
    "# Sort feature importances in descending order\n",
    "indices = (np.argsort(importances)[::-1])[:20]\n",
    "\n",
    "# Rearrange feature names so they match the sorted feature importances\n",
    "names = [X.columns[i] for i in indices]\n",
    "\n",
    "# Create plot\n",
    "plt.figure()\n",
    "\n",
    "# Create plot title\n",
    "plt.title(\"Feature Importance\")\n",
    "\n",
    "# Add bars\n",
    "plt.bar(range(0, 20), importances[indices])\n",
    "\n",
    "# Add feature names as x-axis labels\n",
    "plt.xticks(range(0, 20), names[:20], rotation=90)\n",
    "\n",
    "# Show plot\n",
    "plt.show();"
   ]
  },
  {
   "cell_type": "code",
   "execution_count": 74,
   "metadata": {
    "scrolled": true
   },
   "outputs": [
    {
     "name": "stdout",
     "output_type": "stream",
     "text": [
      "\n",
      "\n",
      "Training Score: \n",
      "MSE of Random forest regression max_depth=11 training (one hot encoded data) with scaling:  1116.4628326505385\n",
      "R^2 of Random forest regression max_depth=11 training (one hot encoded data) with scaling:  0.3578253661544443\n",
      "Testing Score: \n",
      "MSE of Random forest regression max_depth=11 testing (one hot encoded data) with scaling:  747.243728620946\n",
      "R^2 of Random forest regression max_depth=11 testing (one hot encoded data) with scaling:  0.42913620558011367\n"
     ]
    }
   ],
   "source": [
    "# from sklearn.pipeline import Pipeline\n",
    "# from sklearn.preprocessing import StandardScaler\n",
    "\n",
    "# rf_11_pip = Pipeline([('Scaler', StandardScaler()), ('lr', RandomForestRegressor(max_depth=11, n_estimators=100, max_features='auto',random_state=0, n_jobs=-1))])\n",
    "# rf_11_pip.fit(X_train, y_train)\n",
    "# rf_11_pip_pred = rf_11_pip.predict(X_test)\n",
    "\n",
    "# print(\"\\n\")\n",
    "# print('Training Score: ')\n",
    "# print('MSE of Random forest regression max_depth=11 training (one hot encoded data) with scaling: ', (MSE(rf_11_pip, X_train, y_train)))\n",
    "# print('R^2 of Random forest regression max_depth=11 training (one hot encoded data) with scaling: ', r_2_scores(rf_11_pip, X_train, y_train))\n",
    "# print('Testing Score: ')\n",
    "# print('MSE of Random forest regression max_depth=11 testing (one hot encoded data) with scaling: ', mean_squared_error(y_test, rf_11_pip_pred))\n",
    "# print('R^2 of Random forest regression max_depth=11 testing (one hot encoded data) with scaling: ', r2_score(y_test, rf_11_pip_pred))"
   ]
  },
  {
   "cell_type": "code",
   "execution_count": null,
   "metadata": {},
   "outputs": [],
   "source": [
    "PCA--read "
   ]
  },
  {
   "cell_type": "markdown",
   "metadata": {},
   "source": [
    "# 5. Gradient boosting regressor\n",
    "With MSE: 705.62, R^2: 0.46094, gradient boosting regressor fits the best so far."
   ]
  },
  {
   "cell_type": "markdown",
   "metadata": {},
   "source": [
    "### 5.1 Import all the toolboxs for Gradient boosting regression. \n",
    "Add another variable in GridSearchCV, learning rate, then try to find the best parameters combination."
   ]
  },
  {
   "cell_type": "code",
   "execution_count": 87,
   "metadata": {},
   "outputs": [
    {
     "data": {
      "text/plain": [
       "GridSearchCV(cv=5, error_score='raise-deprecating',\n",
       "       estimator=Pipeline(memory=None,\n",
       "     steps=[('scaler', StandardScaler(copy=True, with_mean=True, with_std=True)), ('gbr', GradientBoostingRegressor(alpha=0.9, criterion='friedman_mse', init=None,\n",
       "             learning_rate=0.1, loss='ls', max_depth=3, max_features=None,\n",
       "             max_leaf_nodes=None, min_impurity_decrease=0.0,\n",
       "     ...one, subsample=1.0, tol=0.0001,\n",
       "             validation_fraction=0.1, verbose=0, warm_start=False))]),\n",
       "       fit_params=None, iid='warn', n_jobs=None,\n",
       "       param_grid={'gbr__max_depth': [10, 11, 12], 'gbr__n_estimators': [80, 90, 100, 110, 120], 'gbr__max_features': ['auto', 'sqrt', 'log2'], 'gbr__learning_rate': [0.1, 0.2, 0.3]},\n",
       "       pre_dispatch='2*n_jobs', refit=True, return_train_score='warn',\n",
       "       scoring=None, verbose=0)"
      ]
     },
     "execution_count": 87,
     "metadata": {},
     "output_type": "execute_result"
    }
   ],
   "source": [
    "from sklearn.model_selection import GridSearchCV\n",
    "from sklearn.ensemble import GradientBoostingRegressor\n",
    "from sklearn.pipeline import Pipeline\n",
    "from sklearn.preprocessing import StandardScaler\n",
    "\n",
    "pip_gbr = Pipeline([('scaler', StandardScaler()),('gbr',GradientBoostingRegressor())])\n",
    "\n",
    "parameters = {'gbr__max_depth': [10 ,11, 12], 'gbr__n_estimators': [80, 90, 100, 110, 120], 'gbr__max_features':['auto','sqrt','log2'], 'gbr__learning_rate':[0.1, 0.2, 0.3]}\n",
    "pip_gbr_cv = GridSearchCV(pip_gbr, param_grid=parameters, cv=5)\n",
    "pip_gbr_cv.fit(X_train, y_train)"
   ]
  },
  {
   "cell_type": "code",
   "execution_count": 88,
   "metadata": {},
   "outputs": [
    {
     "data": {
      "text/plain": [
       "{'gbr__learning_rate': 0.1,\n",
       " 'gbr__max_depth': 10,\n",
       " 'gbr__max_features': 'log2',\n",
       " 'gbr__n_estimators': 90}"
      ]
     },
     "execution_count": 88,
     "metadata": {},
     "output_type": "execute_result"
    }
   ],
   "source": [
    "pip_gbr_cv.best_params_"
   ]
  },
  {
   "cell_type": "code",
   "execution_count": 99,
   "metadata": {},
   "outputs": [
    {
     "data": {
      "text/plain": [
       "GridSearchCV(cv=5, error_score='raise-deprecating',\n",
       "       estimator=Pipeline(memory=None,\n",
       "     steps=[('scaler', StandardScaler(copy=True, with_mean=True, with_std=True)), ('gbr', GradientBoostingRegressor(alpha=0.9, criterion='friedman_mse', init=None,\n",
       "             learning_rate=0.1, loss='ls', max_depth=3, max_features=None,\n",
       "             max_leaf_nodes=None, min_impurity_decrease=0.0,\n",
       "     ...one, subsample=1.0, tol=0.0001,\n",
       "             validation_fraction=0.1, verbose=0, warm_start=False))]),\n",
       "       fit_params=None, iid='warn', n_jobs=None,\n",
       "       param_grid={'gbr__max_depth': [8, 9, 10], 'gbr__n_estimators': [90], 'gbr__max_features': ['log2'], 'gbr__learning_rate': [0.05, 0.08, 0.1], 'gbr__random_state': [0]},\n",
       "       pre_dispatch='2*n_jobs', refit=True, return_train_score='warn',\n",
       "       scoring=None, verbose=0)"
      ]
     },
     "execution_count": 99,
     "metadata": {},
     "output_type": "execute_result"
    }
   ],
   "source": [
    "parameters = {'gbr__max_depth': [8, 9, 10], 'gbr__n_estimators': [90], 'gbr__max_features':['log2'], 'gbr__learning_rate':[0.05, 0.08, 0.1], 'gbr__random_state':[0]}\n",
    "pip_gbr_cv = GridSearchCV(pip_gbr, param_grid=parameters, cv=5)\n",
    "pip_gbr_cv.fit(X_train, y_train)"
   ]
  },
  {
   "cell_type": "code",
   "execution_count": 96,
   "metadata": {},
   "outputs": [
    {
     "data": {
      "text/plain": [
       "{'gbr__learning_rate': 0.1,\n",
       " 'gbr__max_depth': 8,\n",
       " 'gbr__max_features': 'log2',\n",
       " 'gbr__n_estimators': 90}"
      ]
     },
     "execution_count": 96,
     "metadata": {},
     "output_type": "execute_result"
    }
   ],
   "source": [
    "pip_gbr_cv.best_params_"
   ]
  },
  {
   "cell_type": "markdown",
   "metadata": {},
   "source": [
    "### 5.2 Plot out the barplot of MSE for max_depth from 2 to 12\n",
    "We can see from the plot that MSE is minimized when max_depth=8"
   ]
  },
  {
   "cell_type": "code",
   "execution_count": 101,
   "metadata": {},
   "outputs": [
    {
     "data": {
      "image/png": "[encoded data removed]",
      "text/plain": [
       "<Figure size 432x288 with 1 Axes>"
      ]
     },
     "metadata": {
      "needs_background": "light"
     },
     "output_type": "display_data"
    }
   ],
   "source": [
    "for i in [2, 3, 4, 5, 6, 7, 8, 9, 10, 11, 12]:\n",
    "    parameters = {'gbr__max_depth': [i], 'gbr__n_estimators': [90], 'gbr__max_features':['log2'], 'gbr__learning_rate':[0.1],'gbr__random_state':[0]}\n",
    "    pip_gbr_cv = GridSearchCV(pip_gbr, param_grid=parameters, cv=5)\n",
    "    pip_gbr_cv.fit(X_train, y_train)\n",
    "    plt.bar(i, mean_squared_error(y_test, pip_gbr_cv.predict(X_test)))"
   ]
  },
  {
   "cell_type": "code",
   "execution_count": 124,
   "metadata": {
    "scrolled": true
   },
   "outputs": [
    {
     "name": "stdout",
     "output_type": "stream",
     "text": [
      "Training Score: \n",
      "MSE of Gradient boositng regression max_depth=8 training (one hot encoded data):  1047.031531161978\n",
      "R^2 of Gradient boositng regression max_depth=8 training (one hot encoded data):  0.4102148091495385\n",
      "Testing Score: \n",
      "MSE of Gradient boositng regression max_depth=8 testing (one hot encoded data):  705.6196348330493\n",
      "R^2 of Gradient boositng regression max_depth=8 testing (one hot encoded data):  0.460935319053974\n"
     ]
    }
   ],
   "source": [
    "pip_gbr_best_cv = Pipeline([('scaler', StandardScaler()),('gbr',GradientBoostingRegressor(max_depth=8, n_estimators=90, max_features='log2', learning_rate=0.1, random_state=0))])\n",
    "pip_gbr_best_cv.fit(X_train, y_train)\n",
    "y_pip_gbr_best_cv_pred = pip_gbr_best_cv.predict(X_test)\n",
    "\n",
    "print('Training Score: ')\n",
    "print('MSE of Gradient boositng regression max_depth=8 training (one hot encoded data): ', (MSE(pip_gbr_best_cv, X_train, y_train)))\n",
    "print('R^2 of Gradient boositng regression max_depth=8 training (one hot encoded data): ', r_2_scores(pip_gbr_best_cv, X_train, y_train))\n",
    "print('Testing Score: ')\n",
    "print('MSE of Gradient boositng regression max_depth=8 testing (one hot encoded data): ', mean_squared_error(y_test, y_pip_gbr_best_cv_pred))\n",
    "print('R^2 of Gradient boositng regression max_depth=8 testing (one hot encoded data): ', r2_score(y_test, y_pip_gbr_best_cv_pred))"
   ]
  },
  {
   "cell_type": "markdown",
   "metadata": {},
   "source": [
    "### 5.3 Plot out the importance plot \n",
    "From the plot we can see that points, year, France, US, pinot noir, are the top 5 most important features for gradient boosting model to make decisions. "
   ]
  },
  {
   "cell_type": "code",
   "execution_count": 110,
   "metadata": {},
   "outputs": [
    {
     "data": {
      "text/plain": [
       "<Figure size 1080x576 with 0 Axes>"
      ]
     },
     "metadata": {},
     "output_type": "display_data"
    },
    {
     "data": {
      "image/png": "[encoded data removed]",
      "text/plain": [
       "<Figure size 432x288 with 1 Axes>"
      ]
     },
     "metadata": {
      "needs_background": "light"
     },
     "output_type": "display_data"
    }
   ],
   "source": [
    "pip_gbr_best_cv = Pipeline([('scaler', StandardScaler()),('gbr',GradientBoostingRegressor(max_depth=8, n_estimators=90, max_features='log2', learning_rate=0.1, random_state=0))])\n",
    "pip_gbr_best_cv.fit(X, wine_ohe.price)\n",
    "importances = pip_gbr_best_cv.steps[1][1].feature_importances_\n",
    "\n",
    "fig = plt.gcf()\n",
    "fig.set_size_inches(15,8)\n",
    "\n",
    "# Sort feature importances in descending order\n",
    "indices = (np.argsort(importances)[::-1])[:20]\n",
    "\n",
    "# Rearrange feature names so they match the sorted feature importances\n",
    "names = [X.columns[i] for i in indices]\n",
    "\n",
    "# Create plot\n",
    "plt.figure()\n",
    "\n",
    "# Create plot title\n",
    "plt.title(\"Feature Importance\")\n",
    "\n",
    "# Add bars\n",
    "plt.bar(range(0, 20), importances[indices])\n",
    "\n",
    "# Add feature names as x-axis labels\n",
    "plt.xticks(range(0, 20), names[:20], rotation=90)\n",
    "\n",
    "# Show plot\n",
    "plt.show();"
   ]
  },
  {
   "cell_type": "markdown",
   "metadata": {},
   "source": [
    "# 6. Catboost Regression\n",
    "Though the result MSE: 736.26, R^2: 0.43753 is slightly worse than gardient boosting, the speed of running data through the model is impressive."
   ]
  },
  {
   "cell_type": "markdown",
   "metadata": {},
   "source": [
    "### 6.1 Import tool box for catboost regression\n",
    "Make a pipeline to scale the data first, then perform Gridsearch to find the best parameters for Catboost Regressor."
   ]
  },
  {
   "cell_type": "code",
   "execution_count": 2,
   "metadata": {},
   "outputs": [],
   "source": [
    "# # Catboosting u do not have to do encoding first, thats why its call 'cat'egorical boosting\n",
    "\n",
    "# from catboost import Pool, CatBoostRegressor\n",
    "\n",
    "# pip_cat = Pipeline([('scaler', StandardScaler()),('cat',CatBoostRegressor())])\n",
    "\n",
    "# parameters = {'cat__max_depth': [7, 8, 9, 10], 'cat__n_estimators': [90, 100, 110], 'cat__learning_rate':[0.1, 0.2, 0.3], 'cat__random_state':[0]}\n",
    "# pip_cat_cv = GridSearchCV(pip_cat, param_grid=parameters, cv=5)\n",
    "# pip_cat_cv.fit(X_train, y_train)\n",
    "# pip_cat_cv.best_params_\n"
   ]
  },
  {
   "cell_type": "code",
   "execution_count": 121,
   "metadata": {},
   "outputs": [
    {
     "data": {
      "text/plain": [
       "{'cat__learning_rate': 0.1,\n",
       " 'cat__max_depth': 6,\n",
       " 'cat__n_estimators': 80,\n",
       " 'cat__random_state': 0,\n",
       " 'cat__silent': True}"
      ]
     },
     "execution_count": 121,
     "metadata": {},
     "output_type": "execute_result"
    }
   ],
   "source": [
    "from catboost import Pool, CatBoostRegressor\n",
    "\n",
    "pip_cat = Pipeline([('scaler', StandardScaler()),('cat',CatBoostRegressor())])\n",
    "\n",
    "parameters = {'cat__max_depth': [4, 5, 6, 7], 'cat__n_estimators': [70, 80 ,90], 'cat__learning_rate':[0.05, 0.08, 0.1], 'cat__random_state':[0], 'cat__silent':[True]}\n",
    "pip_cat_cv = GridSearchCV(pip_cat, param_grid=parameters, cv=5)\n",
    "pip_cat_cv.fit(X_train, y_train)\n",
    "pip_cat_cv.best_params_"
   ]
  },
  {
   "cell_type": "code",
   "execution_count": 125,
   "metadata": {},
   "outputs": [
    {
     "name": "stdout",
     "output_type": "stream",
     "text": [
      "Training Score: \n",
      "MSE of Catboost regression max_depth=6 training (one hot encoded data):  1051.0047796161289\n",
      "R^2 of Catboost regression max_depth=6 training (one hot encoded data):  0.40458644565986057\n",
      "Testing Score: \n",
      "MSE of Catboost regression max_depth=6 testing (one hot encoded data):  736.2556412006562\n",
      "R^2 of Catboost regression max_depth=6 testing (one hot encoded data):  0.4375306571330768\n"
     ]
    }
   ],
   "source": [
    "pip_cat_best_cv = Pipeline([('scaler', StandardScaler()),('cat',CatBoostRegressor(max_depth=6, n_estimators=80, learning_rate=0.1, random_state=0, silent=True))])\n",
    "pip_cat_best_cv.fit(X_train, y_train)\n",
    "y_pip_cat_best_cv_pred = pip_cat_best_cv.predict(X_test)\n",
    "\n",
    "print('Training Score: ')\n",
    "print('MSE of Catboost regression max_depth=6 training (one hot encoded data): ', (MSE(pip_cat_best_cv, X_train, y_train)))\n",
    "print('R^2 of Catboost regression max_depth=6 training (one hot encoded data): ', r_2_scores(pip_cat_best_cv, X_train, y_train))\n",
    "print('Testing Score: ')\n",
    "print('MSE of Catboost regression max_depth=6 testing (one hot encoded data): ', mean_squared_error(y_test, y_pip_cat_best_cv_pred))\n",
    "print('R^2 of Catboost regression max_depth=6 testing (one hot encoded data): ', r2_score(y_test, y_pip_cat_best_cv_pred))"
   ]
  },
  {
   "cell_type": "markdown",
   "metadata": {},
   "source": [
    "### 6.2 Importance plot\n",
    "\n"
   ]
  },
  {
   "cell_type": "code",
   "execution_count": 126,
   "metadata": {},
   "outputs": [
    {
     "data": {
      "text/plain": [
       "<Figure size 1080x576 with 0 Axes>"
      ]
     },
     "metadata": {},
     "output_type": "display_data"
    },
    {
     "data": {
      "image/png": "[encoded data removed]",
      "text/plain": [
       "<Figure size 432x288 with 1 Axes>"
      ]
     },
     "metadata": {
      "needs_background": "light"
     },
     "output_type": "display_data"
    }
   ],
   "source": [
    "pip_cat_best_cv = Pipeline([('scaler', StandardScaler()),('gbr',GradientBoostingRegressor(max_depth=8, n_estimators=90, max_features='log2', learning_rate=0.1, random_state=0))])\n",
    "pip_cat_best_cv.fit(X, wine_ohe.price)\n",
    "importances = pip_cat_best_cv.steps[1][1].feature_importances_\n",
    "\n",
    "fig = plt.gcf()\n",
    "fig.set_size_inches(15,8)\n",
    "\n",
    "# Sort feature importances in descending order\n",
    "indices = (np.argsort(importances)[::-1])[:20]\n",
    "\n",
    "# Rearrange feature names so they match the sorted feature importances\n",
    "names = [X.columns[i] for i in indices]\n",
    "\n",
    "# Create plot\n",
    "plt.figure()\n",
    "\n",
    "# Create plot title\n",
    "plt.title(\"Feature Importance\")\n",
    "\n",
    "# Add bars\n",
    "plt.bar(range(0, 20), importances[indices])\n",
    "\n",
    "# Add feature names as x-axis labels\n",
    "plt.xticks(range(0, 20), names[:20], rotation=90)\n",
    "\n",
    "# Show plot\n",
    "plt.show();"
   ]
  },
  {
   "cell_type": "markdown",
   "metadata": {},
   "source": [
    "# 7.Xgboosting\n",
    "Result: MSE: 766.29 ,R^2: 0.41459"
   ]
  },
  {
   "cell_type": "markdown",
   "metadata": {},
   "source": [
    "### 7.1 Import all the toolboxs for Xgboost and search for the best parameters combination"
   ]
  },
  {
   "cell_type": "code",
   "execution_count": 16,
   "metadata": {},
   "outputs": [
    {
     "name": "stdout",
     "output_type": "stream",
     "text": [
      "Requirement already satisfied: xgboost in /Users/justin/anaconda3/lib/python3.7/site-packages (0.90)\r\n",
      "Requirement already satisfied: scipy in /Users/justin/anaconda3/lib/python3.7/site-packages (from xgboost) (1.2.1)\r\n",
      "Requirement already satisfied: numpy in /Users/justin/anaconda3/lib/python3.7/site-packages (from xgboost) (1.16.2)\r\n"
     ]
    }
   ],
   "source": [
    "import sys\n",
    "!{sys.executable} -m pip install xgboost"
   ]
  },
  {
   "cell_type": "code",
   "execution_count": 17,
   "metadata": {},
   "outputs": [],
   "source": [
    "import xgboost as xgb\n",
    "from xgboost import XGBRegressor\n",
    "from sklearn.model_selection import GridSearchCV\n",
    "from sklearn.pipeline import Pipeline\n",
    "from sklearn.preprocessing import StandardScaler"
   ]
  },
  {
   "cell_type": "code",
   "execution_count": 38,
   "metadata": {},
   "outputs": [
    {
     "data": {
      "text/plain": [
       "{'xgbr__learning_rate': 0.2,\n",
       " 'xgbr__max_depth': 4,\n",
       " 'xgbr__n_estimators': 90,\n",
       " 'xgbr__random_state': 0,\n",
       " 'xgbr__silent': True}"
      ]
     },
     "execution_count": 38,
     "metadata": {},
     "output_type": "execute_result"
    }
   ],
   "source": [
    "pip_xgbr = Pipeline([('scaler', StandardScaler()),('xgbr',XGBRegressor())])\n",
    "\n",
    "parameters = {'xgbr__max_depth': [4, 5, 6, 7], 'xgbr__n_estimators': [70, 80 ,90], 'xgbr__learning_rate':[0.05, 0.08, 0.1, 0.2], 'xgbr__random_state':[0], 'xgbr__silent':[True]}\n",
    "pip_xgbr_cv = GridSearchCV(pip_xgbr, param_grid=parameters, cv=5)\n",
    "pip_xgbr_cv.fit(X_train, y_train)\n",
    "pip_xgbr_cv.best_params_"
   ]
  },
  {
   "cell_type": "code",
   "execution_count": 39,
   "metadata": {},
   "outputs": [
    {
     "data": {
      "text/plain": [
       "{'xgbr__learning_rate': 0.3,\n",
       " 'xgbr__max_depth': 3,\n",
       " 'xgbr__n_estimators': 110,\n",
       " 'xgbr__random_state': 0,\n",
       " 'xgbr__silent': True}"
      ]
     },
     "execution_count": 39,
     "metadata": {},
     "output_type": "execute_result"
    }
   ],
   "source": [
    "pip_xgbr = Pipeline([('scaler', StandardScaler()),('xgbr',XGBRegressor())])\n",
    "\n",
    "parameters = {'xgbr__max_depth': [2, 3, 4], 'xgbr__n_estimators': [90, 100, 110], 'xgbr__learning_rate':[0.1, 0.2, 0.3], 'xgbr__random_state':[0], 'xgbr__silent':[True]}\n",
    "pip_xgbr_cv = GridSearchCV(pip_xgbr, param_grid=parameters, cv=5)\n",
    "pip_xgbr_cv.fit(X_train, y_train)\n",
    "pip_xgbr_cv.best_params_"
   ]
  },
  {
   "cell_type": "code",
   "execution_count": 18,
   "metadata": {},
   "outputs": [
    {
     "data": {
      "text/plain": [
       "{'xgbr__learning_rate': 0.3,\n",
       " 'xgbr__max_depth': 3,\n",
       " 'xgbr__n_estimators': 120,\n",
       " 'xgbr__random_state': 0,\n",
       " 'xgbr__silent': True}"
      ]
     },
     "execution_count": 18,
     "metadata": {},
     "output_type": "execute_result"
    }
   ],
   "source": [
    "pip_xgbr = Pipeline([('scaler', StandardScaler()),('xgbr',XGBRegressor())])\n",
    "\n",
    "parameters = {'xgbr__max_depth': [3], 'xgbr__n_estimators': [110, 120, 130], 'xgbr__learning_rate':[0.3, 0.4, 0.5], 'xgbr__random_state':[0], 'xgbr__silent':[True]}\n",
    "pip_xgbr_cv = GridSearchCV(pip_xgbr, param_grid=parameters, cv=5)\n",
    "pip_xgbr_cv.fit(X_train, y_train)\n",
    "pip_xgbr_cv.best_params_"
   ]
  },
  {
   "cell_type": "code",
   "execution_count": 21,
   "metadata": {
    "scrolled": true
   },
   "outputs": [
    {
     "name": "stdout",
     "output_type": "stream",
     "text": [
      "Training Score: \n",
      "MSE of Xboost regression max_depth=3 training (one hot encoded data):  1054.8836649010561\n",
      "R^2 of Xboost regression max_depth=3 training (one hot encoded data):  0.40281579117845884\n",
      "Testing Score: \n",
      "MSE of Xboost regression max_depth=3 testing (one hot encoded data):  766.2882760479296\n",
      "R^2 of Xboost regression max_depth=3 testing (one hot encoded data):  0.41458694649534156\n"
     ]
    }
   ],
   "source": [
    "pip_xgbr_best_cv = Pipeline([('scaler', StandardScaler()),('xgbr',XGBRegressor(max_depth=3, n_estimators=120, learning_rate=0.3, random_state=0, silent=True))])\n",
    "pip_xgbr_best_cv.fit(X_train, y_train)\n",
    "y_pip_xgbr_best_cv_pred = pip_xgbr_best_cv.predict(X_test)\n",
    "\n",
    "print('Training Score: ')\n",
    "print('MSE of Xboost regression max_depth=3 training (one hot encoded data): ', (MSE(pip_xgbr_best_cv, X_train, y_train)))\n",
    "print('R^2 of Xboost regression max_depth=3 training (one hot encoded data): ', r_2_scores(pip_xgbr_best_cv, X_train, y_train))\n",
    "print('Testing Score: ')\n",
    "print('MSE of Xboost regression max_depth=3 testing (one hot encoded data): ', mean_squared_error(y_test, y_pip_xgbr_best_cv_pred))\n",
    "print('R^2 of Xboost regression max_depth=3 testing (one hot encoded data): ', r2_score(y_test, y_pip_xgbr_best_cv_pred))"
   ]
  },
  {
   "cell_type": "markdown",
   "metadata": {},
   "source": [
    "# 8. Table and comparison:\n",
    "The data for machine learning purpose are constructed by price, points, country, variety and year.\n",
    "\n",
    "To predict the price of wine, I have to first transform the non-numeric columns into numeric using label encoding and one hot encoding. I tested the two encoding methods and realized that one hot encoded data perform better than label encoded data in linear regression in general. For label encoded data, I first try to smooth the skewness using logarithm transformation, but this transformation degenrate R^2 score and increase MSE, so I applied the orginal data instead. For one hot encoded data, it is not only not ideal to one hot enocode the year column which gives a really bad outcome, but scaling is also not suitable for the one hot encoded data. Both kinds of encoded data generate the best result when using ridge regression. However, in my opinion, the use of label encoding is controversial since the randomly assigned number to different countries and varieties will have the issue of one is greater than other when they should weighed the same.\n",
    "\n",
    "All the more advanced regressors I have applied generate better result compare to linear regression. Among all of them, Gradient boosting method with a MSE: 705.62 and R^2: 0.46 perform the best. However, Catboosting also conduct an impressive result within a relatively short amount of time. For the advanced methods, the top 5 important features for them to make decisions are: points, year, France, US, pinot noir."
   ]
  },
  {
   "cell_type": "code",
   "execution_count": 2,
   "metadata": {},
   "outputs": [
    {
     "ename": "NameError",
     "evalue": "name 'pd' is not defined",
     "output_type": "error",
     "traceback": [
      "\u001b[0;31m---------------------------------------------------------------------------\u001b[0m",
      "\u001b[0;31mNameError\u001b[0m                                 Traceback (most recent call last)",
      "\u001b[0;32m<ipython-input-2-f14ef293df45>\u001b[0m in \u001b[0;36m<module>\u001b[0;34m\u001b[0m\n\u001b[1;32m      1\u001b[0m \u001b[0mindex\u001b[0m \u001b[0;34m=\u001b[0m \u001b[0;34m[\u001b[0m\u001b[0;34m'Linear Regression(label encode) Ridge'\u001b[0m\u001b[0;34m,\u001b[0m \u001b[0;34m'Linear Regression(one hot encode) Ridge'\u001b[0m\u001b[0;34m,\u001b[0m\u001b[0;34m'RandomForestRegressor'\u001b[0m\u001b[0;34m,\u001b[0m\u001b[0;34m'GradientBoostingRegressor'\u001b[0m\u001b[0;34m,\u001b[0m\u001b[0;34m'CatBoostRegressor'\u001b[0m\u001b[0;34m,\u001b[0m\u001b[0;34m'XboostRegressor'\u001b[0m\u001b[0;34m]\u001b[0m\u001b[0;34m\u001b[0m\u001b[0;34m\u001b[0m\u001b[0m\n\u001b[0;32m----> 2\u001b[0;31m \u001b[0mscore_table\u001b[0m \u001b[0;34m=\u001b[0m \u001b[0mpd\u001b[0m\u001b[0;34m.\u001b[0m\u001b[0mDataFrame\u001b[0m\u001b[0;34m(\u001b[0m\u001b[0mindex\u001b[0m \u001b[0;34m=\u001b[0m \u001b[0mindex\u001b[0m\u001b[0;34m,\u001b[0m \u001b[0mcolumns\u001b[0m\u001b[0;34m=\u001b[0m \u001b[0;34m[\u001b[0m\u001b[0;34m'MSE_train'\u001b[0m\u001b[0;34m,\u001b[0m\u001b[0;34m'R^2_train'\u001b[0m\u001b[0;34m,\u001b[0m\u001b[0;34m'MSE_test'\u001b[0m\u001b[0;34m,\u001b[0m\u001b[0;34m'R^2_test'\u001b[0m\u001b[0;34m]\u001b[0m\u001b[0;34m)\u001b[0m\u001b[0;34m\u001b[0m\u001b[0;34m\u001b[0m\u001b[0m\n\u001b[0m",
      "\u001b[0;31mNameError\u001b[0m: name 'pd' is not defined"
     ]
    }
   ],
   "source": [
    "# index = ['Linear Regression(label encode) Ridge', 'Linear Regression(one hot encode) Ridge','RandomForestRegressor','GradientBoostingRegressor','CatBoostRegressor','XboostRegressor']\n",
    "# score_table = pd.DataFrame(index = index, columns= ['MSE_train','R^2_train','MSE_test','R^2_test'])"
   ]
  },
  {
   "cell_type": "code",
   "execution_count": 1,
   "metadata": {},
   "outputs": [
    {
     "ename": "NameError",
     "evalue": "name 'score_table' is not defined",
     "output_type": "error",
     "traceback": [
      "\u001b[0;31m---------------------------------------------------------------------------\u001b[0m",
      "\u001b[0;31mNameError\u001b[0m                                 Traceback (most recent call last)",
      "\u001b[0;32m<ipython-input-1-177ceb669c96>\u001b[0m in \u001b[0;36m<module>\u001b[0;34m\u001b[0m\n\u001b[0;32m----> 1\u001b[0;31m \u001b[0mscore_table\u001b[0m\u001b[0;34m.\u001b[0m\u001b[0mloc\u001b[0m\u001b[0;34m[\u001b[0m\u001b[0;34m'Linear Regression(label encode) Ridge'\u001b[0m\u001b[0;34m,\u001b[0m\u001b[0;34m:\u001b[0m\u001b[0;34m]\u001b[0m\u001b[0;34m=\u001b[0m \u001b[0;34m[\u001b[0m\u001b[0;36m1398.8638926966275\u001b[0m\u001b[0;34m,\u001b[0m \u001b[0;36m0.20819100313987482\u001b[0m\u001b[0;34m,\u001b[0m \u001b[0;36m977.5501875457234\u001b[0m \u001b[0;34m,\u001b[0m\u001b[0;36m0.253191444874201\u001b[0m\u001b[0;34m]\u001b[0m\u001b[0;34m\u001b[0m\u001b[0;34m\u001b[0m\u001b[0m\n\u001b[0m\u001b[1;32m      2\u001b[0m \u001b[0mscore_table\u001b[0m\u001b[0;34m.\u001b[0m\u001b[0mloc\u001b[0m\u001b[0;34m[\u001b[0m\u001b[0;34m'Linear Regression(one hot encode) Ridge'\u001b[0m\u001b[0;34m,\u001b[0m\u001b[0;34m:\u001b[0m\u001b[0;34m]\u001b[0m\u001b[0;34m=\u001b[0m \u001b[0;34m[\u001b[0m\u001b[0;36m1348.177493311482\u001b[0m\u001b[0;34m,\u001b[0m \u001b[0;36m0.23782627969684497\u001b[0m\u001b[0;34m,\u001b[0m \u001b[0;36m930.59947311655484\u001b[0m \u001b[0;34m,\u001b[0m\u001b[0;36m0.28905987971436276\u001b[0m\u001b[0;34m]\u001b[0m\u001b[0;34m\u001b[0m\u001b[0;34m\u001b[0m\u001b[0m\n\u001b[1;32m      3\u001b[0m \u001b[0mscore_table\u001b[0m\u001b[0;34m.\u001b[0m\u001b[0mloc\u001b[0m\u001b[0;34m[\u001b[0m\u001b[0;34m'RandomForestRegressor'\u001b[0m\u001b[0;34m,\u001b[0m\u001b[0;34m:\u001b[0m\u001b[0;34m]\u001b[0m\u001b[0;34m=\u001b[0m \u001b[0;34m[\u001b[0m\u001b[0;36m1119.2782512501126\u001b[0m\u001b[0;34m,\u001b[0m \u001b[0;36m0.35619908153949\u001b[0m\u001b[0;34m,\u001b[0m \u001b[0;36m758.7339778851964\u001b[0m \u001b[0;34m,\u001b[0m\u001b[0;36m0.42035812281731055\u001b[0m\u001b[0;34m]\u001b[0m\u001b[0;34m\u001b[0m\u001b[0;34m\u001b[0m\u001b[0m\n\u001b[1;32m      4\u001b[0m \u001b[0mscore_table\u001b[0m\u001b[0;34m.\u001b[0m\u001b[0mloc\u001b[0m\u001b[0;34m[\u001b[0m\u001b[0;34m'GradientBoostingRegressor'\u001b[0m\u001b[0;34m,\u001b[0m\u001b[0;34m:\u001b[0m\u001b[0;34m]\u001b[0m\u001b[0;34m=\u001b[0m \u001b[0;34m[\u001b[0m\u001b[0;36m1047.031531161978\u001b[0m\u001b[0;34m,\u001b[0m \u001b[0;36m0.4102148091495385\u001b[0m\u001b[0;34m,\u001b[0m \u001b[0;36m705.6196348330493\u001b[0m \u001b[0;34m,\u001b[0m\u001b[0;36m0.460935319053974\u001b[0m\u001b[0;34m]\u001b[0m\u001b[0;34m\u001b[0m\u001b[0;34m\u001b[0m\u001b[0m\n\u001b[1;32m      5\u001b[0m \u001b[0mscore_table\u001b[0m\u001b[0;34m.\u001b[0m\u001b[0mloc\u001b[0m\u001b[0;34m[\u001b[0m\u001b[0;34m'CatBoostRegressor'\u001b[0m\u001b[0;34m,\u001b[0m\u001b[0;34m:\u001b[0m\u001b[0;34m]\u001b[0m\u001b[0;34m=\u001b[0m \u001b[0;34m[\u001b[0m\u001b[0;36m1051.0047796161289\u001b[0m\u001b[0;34m,\u001b[0m \u001b[0;36m0.40458644565986057\u001b[0m\u001b[0;34m,\u001b[0m \u001b[0;36m736.2556412006562\u001b[0m \u001b[0;34m,\u001b[0m\u001b[0;36m0.4375306571330768\u001b[0m\u001b[0;34m]\u001b[0m\u001b[0;34m\u001b[0m\u001b[0;34m\u001b[0m\u001b[0m\n",
      "\u001b[0;31mNameError\u001b[0m: name 'score_table' is not defined"
     ]
    }
   ],
   "source": [
    "score_table.loc['Linear Regression(label encode) Ridge',:]= [1398.8638926966275, 0.20819100313987482, 977.5501875457234 ,0.253191444874201]\n",
    "score_table.loc['Linear Regression(one hot encode) Ridge',:]= [1348.177493311482, 0.23782627969684497, 930.59947311655484 ,0.28905987971436276]\n",
    "score_table.loc['RandomForestRegressor',:]= [1119.2782512501126, 0.35619908153949, 758.7339778851964 ,0.42035812281731055]\n",
    "score_table.loc['GradientBoostingRegressor',:]= [1047.031531161978, 0.4102148091495385, 705.6196348330493 ,0.460935319053974]\n",
    "score_table.loc['CatBoostRegressor',:]= [1051.0047796161289, 0.40458644565986057, 736.2556412006562 ,0.4375306571330768]\n",
    "score_table.loc['XgboostRegressor',:]= [1054.8836649010561, 0.40281579117845884, 766.2882760479296 ,0.41458694649534156]"
   ]
  },
  {
   "cell_type": "code",
   "execution_count": 32,
   "metadata": {
    "scrolled": true
   },
   "outputs": [
    {
     "name": "stdout",
     "output_type": "stream",
     "text": [
      "                                        MSE_train R^2_train MSE_test  R^2_test\n",
      "Linear Regression(label encode) Ridge     1398.86  0.208191   977.55  0.253191\n",
      "Linear Regression(one hot encode) Ridge   1348.18  0.237826  930.599   0.28906\n",
      "RandomForestRegressor                     1119.28  0.356199  758.734  0.420358\n",
      "GradientBoostingRegressor                 1047.03  0.410215   705.62  0.460935\n",
      "CatBoostRegressor                            1051  0.404586  736.256  0.437531\n",
      "XboostRegressor                           1054.88  0.402816  766.288  0.414587\n"
     ]
    }
   ],
   "source": [
    "print(score_table)"
   ]
  },
  {
   "cell_type": "markdown",
   "metadata": {},
   "source": []
  },
  {
   "cell_type": "markdown",
   "metadata": {},
   "source": [
    "# 9. Potential Future Work:\n",
    "   * If there is other methods or ways which can help improving the result?\n",
    "   * Is it possible to improve the result of other methods by using gradient's feature importance?"
   ]
  }
 ],
 "metadata": {
  "kernelspec": {
   "display_name": "Python 3",
   "language": "python",
   "name": "python3"
  },
  "language_info": {
   "codemirror_mode": {
    "name": "ipython",
    "version": 3
   },
   "file_extension": ".py",
   "mimetype": "text/x-python",
   "name": "python",
   "nbconvert_exporter": "python",
   "pygments_lexer": "ipython3",
   "version": "3.7.3"
  }
 },
 "nbformat": 4,
 "nbformat_minor": 2
}
