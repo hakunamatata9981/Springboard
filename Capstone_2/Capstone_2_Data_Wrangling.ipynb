{
 "cells": [
  {
   "cell_type": "markdown",
   "metadata": {},
   "source": [
    "# 0. Getting the data"
   ]
  },
  {
   "cell_type": "markdown",
   "metadata": {},
   "source": [
    "## 0.1. BeautifulSoup Scraping\n",
    "Have tried practicing scraping from several sites for a bit, not only do there exist some features of data which cannot be scapre from those websites, but might have some violations of websites' term of use. To be lawful, I have request for NYC house price from Zillow."
   ]
  },
  {
   "cell_type": "markdown",
   "metadata": {},
   "source": [
    "## 0.2 NYC house price data from NYC.gov:\n",
    "https://www1.nyc.gov/site/finance/taxes/property-annualized-sales-update.page\n",
    "\n",
    "The purpose of this project is to find if there is any correlation between variables and used them to prdict future house price in NYC."
   ]
  },
  {
   "cell_type": "markdown",
   "metadata": {},
   "source": [
    "# 1. Check data and plan out data wrangling strategy\n",
    "## 1.0 Import all the toolboxes needed for analysis purpose"
   ]
  },
  {
   "cell_type": "code",
   "execution_count": 1,
   "metadata": {},
   "outputs": [],
   "source": [
    "import pandas as pd\n",
    "import matplotlib.pyplot as plt\n",
    "import seaborn as sns \n",
    "import numpy as np\n",
    "\n",
    "pd.set_option('display.max_columns', None)\n",
    "# pd.set_option('display.max_rows', None)\n",
    "\n",
    "\n",
    "sns.set()"
   ]
  },
  {
   "cell_type": "markdown",
   "metadata": {},
   "source": [
    "## 1.1 Read csv files, organized & concatenation\n",
    "### 1.1.1 Manhattan"
   ]
  },
  {
   "cell_type": "code",
   "execution_count": 2,
   "metadata": {},
   "outputs": [],
   "source": [
    "man2013 = pd.read_csv('data/NYC/2013_manhattan.csv')\n",
    "man2014 = pd.read_csv('data/NYC/2014_manhattan.csv')\n",
    "man2015 = pd.read_csv('data/NYC/2015_manhattan.csv')\n",
    "man2016 = pd.read_csv('data/NYC/2016_manhattan.csv')\n",
    "man2017 = pd.read_csv('data/NYC/2017_manhattan.csv')\n",
    "man2018 = pd.read_csv('data/NYC/2018_manhattan.csv')\n",
    "man_test = pd.read_csv('data/NYC/rollingsales_manhattan.csv')"
   ]
  },
  {
   "cell_type": "code",
   "execution_count": 3,
   "metadata": {
    "scrolled": true
   },
   "outputs": [
    {
     "data": {
      "text/html": [
       "<div>\n",
       "<style scoped>\n",
       "    .dataframe tbody tr th:only-of-type {\n",
       "        vertical-align: middle;\n",
       "    }\n",
       "\n",
       "    .dataframe tbody tr th {\n",
       "        vertical-align: top;\n",
       "    }\n",
       "\n",
       "    .dataframe thead th {\n",
       "        text-align: right;\n",
       "    }\n",
       "</style>\n",
       "<table border=\"1\" class=\"dataframe\">\n",
       "  <thead>\n",
       "    <tr style=\"text-align: right;\">\n",
       "      <th></th>\n",
       "      <th>MANHATTAN ANNUALIZE SALES FOR 2013.  (All Sales From  Jan 1, 2013 - Dec 31, 2013.)</th>\n",
       "      <th>Unnamed: 1</th>\n",
       "      <th>Unnamed: 2</th>\n",
       "      <th>Unnamed: 3</th>\n",
       "      <th>Unnamed: 4</th>\n",
       "      <th>Unnamed: 5</th>\n",
       "      <th>Unnamed: 6</th>\n",
       "      <th>Unnamed: 7</th>\n",
       "      <th>Unnamed: 8</th>\n",
       "      <th>Unnamed: 9</th>\n",
       "      <th>Unnamed: 10</th>\n",
       "      <th>Unnamed: 11</th>\n",
       "      <th>Unnamed: 12</th>\n",
       "      <th>Unnamed: 13</th>\n",
       "      <th>Unnamed: 14</th>\n",
       "      <th>Unnamed: 15</th>\n",
       "      <th>Unnamed: 16</th>\n",
       "      <th>Unnamed: 17</th>\n",
       "      <th>Unnamed: 18</th>\n",
       "      <th>Unnamed: 19</th>\n",
       "      <th>Unnamed: 20</th>\n",
       "    </tr>\n",
       "  </thead>\n",
       "  <tbody>\n",
       "    <tr>\n",
       "      <th>0</th>\n",
       "      <td>Sales File as of 3/31/2014  Coop Sales Files a...</td>\n",
       "      <td>NaN</td>\n",
       "      <td>NaN</td>\n",
       "      <td>NaN</td>\n",
       "      <td>NaN</td>\n",
       "      <td>NaN</td>\n",
       "      <td>NaN</td>\n",
       "      <td>NaN</td>\n",
       "      <td>NaN</td>\n",
       "      <td>NaN</td>\n",
       "      <td>NaN</td>\n",
       "      <td>NaN</td>\n",
       "      <td>NaN</td>\n",
       "      <td>NaN</td>\n",
       "      <td>NaN</td>\n",
       "      <td>NaN</td>\n",
       "      <td>NaN</td>\n",
       "      <td>NaN</td>\n",
       "      <td>NaN</td>\n",
       "      <td>NaN</td>\n",
       "      <td>NaN</td>\n",
       "    </tr>\n",
       "    <tr>\n",
       "      <th>1</th>\n",
       "      <td>Neighborhood Name and Descriptive Data is as o...</td>\n",
       "      <td>NaN</td>\n",
       "      <td>NaN</td>\n",
       "      <td>NaN</td>\n",
       "      <td>NaN</td>\n",
       "      <td>NaN</td>\n",
       "      <td>NaN</td>\n",
       "      <td>NaN</td>\n",
       "      <td>NaN</td>\n",
       "      <td>NaN</td>\n",
       "      <td>NaN</td>\n",
       "      <td>NaN</td>\n",
       "      <td>NaN</td>\n",
       "      <td>NaN</td>\n",
       "      <td>NaN</td>\n",
       "      <td>NaN</td>\n",
       "      <td>NaN</td>\n",
       "      <td>NaN</td>\n",
       "      <td>NaN</td>\n",
       "      <td>NaN</td>\n",
       "      <td>NaN</td>\n",
       "    </tr>\n",
       "    <tr>\n",
       "      <th>2</th>\n",
       "      <td>Building Class Category is based on Building C...</td>\n",
       "      <td>NaN</td>\n",
       "      <td>NaN</td>\n",
       "      <td>NaN</td>\n",
       "      <td>NaN</td>\n",
       "      <td>NaN</td>\n",
       "      <td>NaN</td>\n",
       "      <td>NaN</td>\n",
       "      <td>NaN</td>\n",
       "      <td>NaN</td>\n",
       "      <td>NaN</td>\n",
       "      <td>NaN</td>\n",
       "      <td>NaN</td>\n",
       "      <td>NaN</td>\n",
       "      <td>NaN</td>\n",
       "      <td>NaN</td>\n",
       "      <td>NaN</td>\n",
       "      <td>NaN</td>\n",
       "      <td>NaN</td>\n",
       "      <td>NaN</td>\n",
       "      <td>NaN</td>\n",
       "    </tr>\n",
       "    <tr>\n",
       "      <th>3</th>\n",
       "      <td>BOROUGH\\n</td>\n",
       "      <td>NEIGHBORHOOD\\n</td>\n",
       "      <td>BUILDING CLASS CATEGORY\\n</td>\n",
       "      <td>TAX CLASS AT PRESENT\\n</td>\n",
       "      <td>BLOCK\\n</td>\n",
       "      <td>LOT\\n</td>\n",
       "      <td>EASE-MENT\\n</td>\n",
       "      <td>BUILDING CLASS AT PRESENT\\n</td>\n",
       "      <td>ADDRESS\\n</td>\n",
       "      <td>APARTMENT NUMBER\\n</td>\n",
       "      <td>ZIP CODE\\n</td>\n",
       "      <td>RESIDENTIAL UNITS\\n</td>\n",
       "      <td>COMMERCIAL UNITS\\n</td>\n",
       "      <td>TOTAL UNITS\\n</td>\n",
       "      <td>LAND SQUARE FEET\\n</td>\n",
       "      <td>GROSS SQUARE FEET\\n</td>\n",
       "      <td>YEAR BUILT\\n</td>\n",
       "      <td>TAX CLASS AT TIME OF SALE\\n</td>\n",
       "      <td>BUILDING CLASS AT TIME OF SALE\\n</td>\n",
       "      <td>SALE PRICE\\n</td>\n",
       "      <td>SALE DATE\\n</td>\n",
       "    </tr>\n",
       "    <tr>\n",
       "      <th>4</th>\n",
       "      <td>1</td>\n",
       "      <td>ALPHABET CITY</td>\n",
       "      <td>02  TWO FAMILY DWELLINGS</td>\n",
       "      <td>1</td>\n",
       "      <td>375</td>\n",
       "      <td>41</td>\n",
       "      <td></td>\n",
       "      <td>S2</td>\n",
       "      <td>65 AVENUE D</td>\n",
       "      <td></td>\n",
       "      <td>10009</td>\n",
       "      <td>2</td>\n",
       "      <td>1</td>\n",
       "      <td>3</td>\n",
       "      <td>1,614</td>\n",
       "      <td>3,040</td>\n",
       "      <td>1899</td>\n",
       "      <td>\\t1</td>\n",
       "      <td>S2</td>\n",
       "      <td>$\\t1,560,000.00</td>\n",
       "      <td>7/18/13</td>\n",
       "    </tr>\n",
       "    <tr>\n",
       "      <th>5</th>\n",
       "      <td>1</td>\n",
       "      <td>ALPHABET CITY</td>\n",
       "      <td>03  THREE FAMILY DWELLINGS</td>\n",
       "      <td>1</td>\n",
       "      <td>377</td>\n",
       "      <td>66</td>\n",
       "      <td></td>\n",
       "      <td>C0</td>\n",
       "      <td>243 EAST 7TH   STREET</td>\n",
       "      <td></td>\n",
       "      <td>10009</td>\n",
       "      <td>3</td>\n",
       "      <td>0</td>\n",
       "      <td>3</td>\n",
       "      <td>2,381</td>\n",
       "      <td>3,084</td>\n",
       "      <td>1899</td>\n",
       "      <td>\\t1</td>\n",
       "      <td>C0</td>\n",
       "      <td>$\\t3,150,000.00</td>\n",
       "      <td>3/6/13</td>\n",
       "    </tr>\n",
       "    <tr>\n",
       "      <th>6</th>\n",
       "      <td>1</td>\n",
       "      <td>ALPHABET CITY</td>\n",
       "      <td>04  TAX CLASS 1 CONDOS</td>\n",
       "      <td>1C</td>\n",
       "      <td>399</td>\n",
       "      <td>1102</td>\n",
       "      <td></td>\n",
       "      <td>R6</td>\n",
       "      <td>238 EAST 4TH   STREET</td>\n",
       "      <td>-</td>\n",
       "      <td>10009</td>\n",
       "      <td>1</td>\n",
       "      <td>0</td>\n",
       "      <td>1</td>\n",
       "      <td>0</td>\n",
       "      <td>0</td>\n",
       "      <td>1955</td>\n",
       "      <td>\\t1</td>\n",
       "      <td>R6</td>\n",
       "      <td>$\\t3,450,000.00</td>\n",
       "      <td>3/27/13</td>\n",
       "    </tr>\n",
       "  </tbody>\n",
       "</table>\n",
       "</div>"
      ],
      "text/plain": [
       "  MANHATTAN ANNUALIZE SALES FOR 2013.  (All Sales From  Jan 1, 2013 - Dec 31, 2013.)  \\\n",
       "0  Sales File as of 3/31/2014  Coop Sales Files a...                                   \n",
       "1  Neighborhood Name and Descriptive Data is as o...                                   \n",
       "2  Building Class Category is based on Building C...                                   \n",
       "3                                          BOROUGH\\n                                   \n",
       "4                                                  1                                   \n",
       "5                                                  1                                   \n",
       "6                                                  1                                   \n",
       "\n",
       "                  Unnamed: 1                                    Unnamed: 2  \\\n",
       "0                        NaN                                           NaN   \n",
       "1                        NaN                                           NaN   \n",
       "2                        NaN                                           NaN   \n",
       "3             NEIGHBORHOOD\\n                     BUILDING CLASS CATEGORY\\n   \n",
       "4  ALPHABET CITY              02  TWO FAMILY DWELLINGS                       \n",
       "5  ALPHABET CITY              03  THREE FAMILY DWELLINGS                     \n",
       "6  ALPHABET CITY              04  TAX CLASS 1 CONDOS                         \n",
       "\n",
       "               Unnamed: 3 Unnamed: 4 Unnamed: 5   Unnamed: 6  \\\n",
       "0                     NaN        NaN        NaN          NaN   \n",
       "1                     NaN        NaN        NaN          NaN   \n",
       "2                     NaN        NaN        NaN          NaN   \n",
       "3  TAX CLASS AT PRESENT\\n    BLOCK\\n      LOT\\n  EASE-MENT\\n   \n",
       "4                       1        375         41                \n",
       "5                       1        377         66                \n",
       "6                      1C        399       1102                \n",
       "\n",
       "                    Unnamed: 7                                 Unnamed: 8  \\\n",
       "0                          NaN                                        NaN   \n",
       "1                          NaN                                        NaN   \n",
       "2                          NaN                                        NaN   \n",
       "3  BUILDING CLASS AT PRESENT\\n                                  ADDRESS\\n   \n",
       "4                           S2  65 AVENUE D                                 \n",
       "5                           C0  243 EAST 7TH   STREET                       \n",
       "6                           R6  238 EAST 4TH   STREET                       \n",
       "\n",
       "           Unnamed: 9 Unnamed: 10          Unnamed: 11         Unnamed: 12  \\\n",
       "0                 NaN         NaN                  NaN                 NaN   \n",
       "1                 NaN         NaN                  NaN                 NaN   \n",
       "2                 NaN         NaN                  NaN                 NaN   \n",
       "3  APARTMENT NUMBER\\n  ZIP CODE\\n  RESIDENTIAL UNITS\\n  COMMERCIAL UNITS\\n   \n",
       "4                           10009                    2                   1   \n",
       "5                           10009                    3                   0   \n",
       "6        -                  10009                    1                   0   \n",
       "\n",
       "     Unnamed: 13         Unnamed: 14          Unnamed: 15   Unnamed: 16  \\\n",
       "0            NaN                 NaN                  NaN           NaN   \n",
       "1            NaN                 NaN                  NaN           NaN   \n",
       "2            NaN                 NaN                  NaN           NaN   \n",
       "3  TOTAL UNITS\\n  LAND SQUARE FEET\\n  GROSS SQUARE FEET\\n  YEAR BUILT\\n   \n",
       "4              3               1,614                3,040          1899   \n",
       "5              3               2,381                3,084          1899   \n",
       "6              1                   0                    0          1955   \n",
       "\n",
       "                   Unnamed: 17                       Unnamed: 18  \\\n",
       "0                          NaN                               NaN   \n",
       "1                          NaN                               NaN   \n",
       "2                          NaN                               NaN   \n",
       "3  TAX CLASS AT TIME OF SALE\\n  BUILDING CLASS AT TIME OF SALE\\n   \n",
       "4                         \\t1                                 S2   \n",
       "5                         \\t1                                 C0   \n",
       "6                         \\t1                                 R6   \n",
       "\n",
       "         Unnamed: 19  Unnamed: 20  \n",
       "0                NaN          NaN  \n",
       "1                NaN          NaN  \n",
       "2                NaN          NaN  \n",
       "3       SALE PRICE\\n  SALE DATE\\n  \n",
       "4   $\\t1,560,000.00       7/18/13  \n",
       "5   $\\t3,150,000.00        3/6/13  \n",
       "6   $\\t3,450,000.00       3/27/13  "
      ]
     },
     "execution_count": 3,
     "metadata": {},
     "output_type": "execute_result"
    }
   ],
   "source": [
    "# Set to show every columns of the dataset\n",
    "pd.set_option('display.max_columns', None)\n",
    "# From the head, realizing that due to the transformation from Excel to csv, the real data starts at row4, \n",
    "# and the column name should be those on row3, so dropping the first 4 rows and concatenate the data, \n",
    "# then replace the column name.\n",
    "man2013.head(7)"
   ]
  },
  {
   "cell_type": "code",
   "execution_count": 4,
   "metadata": {
    "scrolled": true
   },
   "outputs": [],
   "source": [
    "# We realized here that first of all the \\n will be really annoying\n",
    "# Secondly, all the words are uppercase this have to be changed\n",
    "# Thirdly, some features are too lenghthy\n",
    "# Finally, replace spaces with '_'\n",
    "\n",
    "column_name = list(man2013.loc[3])\n",
    "\n",
    "for i in range(0, len(column_name)):\n",
    "    column_name[i] = column_name[i].replace('\\n','')\n",
    "\n",
    "for i in range(0, len(column_name)):\n",
    "    column_name[i] = column_name[i].replace('-','')\n",
    "    \n",
    "for i in range(0, len(column_name)):\n",
    "    column_name[i] = column_name[i].replace(' ','_')   \n",
    "column_name = [i.lower() for i in column_name]\n",
    "\n",
    "#column_name"
   ]
  },
  {
   "cell_type": "code",
   "execution_count": 5,
   "metadata": {
    "scrolled": false
   },
   "outputs": [],
   "source": [
    "# Drop the first 4 rows which happened to be error from the transformation of Excel files\n",
    "man2013 = man2013.drop([0,1,2,3]).reset_index(drop=True)\n",
    "man2014 = man2014.drop([0,1,2,3]).reset_index(drop=True)\n",
    "man2015 = man2015.drop([0,1,2,3]).reset_index(drop=True)\n",
    "man2016 = man2016.drop([0,1,2,3]).reset_index(drop=True)\n",
    "man2017 = man2017.drop([0,1,2,3]).reset_index(drop=True)\n",
    "man2018 = man2018.drop([0,1,2,3]).reset_index(drop=True)\n",
    "man_test = man_test.drop([0,1,2,3]).reset_index(drop=True)\n",
    "# Renamed the columns with the correct features\n",
    "man2013.columns = column_name\n",
    "man2014.columns = column_name\n",
    "man2015.columns = column_name\n",
    "man2016.columns = column_name\n",
    "man2017.columns = column_name\n",
    "man2018.columns = column_name\n",
    "man_test.columns = column_name"
   ]
  },
  {
   "cell_type": "code",
   "execution_count": 6,
   "metadata": {
    "scrolled": false
   },
   "outputs": [],
   "source": [
    "man = pd.concat([man2013, man2014, man2015, man2016, man2017, man2018], ignore_index=True)"
   ]
  },
  {
   "cell_type": "code",
   "execution_count": 7,
   "metadata": {
    "scrolled": false
   },
   "outputs": [],
   "source": [
    "#man.head()"
   ]
  },
  {
   "cell_type": "code",
   "execution_count": 8,
   "metadata": {
    "scrolled": true
   },
   "outputs": [],
   "source": [
    "# man.info()\n",
    "man.to_csv('data/NYC/man.csv', index=False)"
   ]
  },
  {
   "cell_type": "code",
   "execution_count": 9,
   "metadata": {
    "scrolled": true
   },
   "outputs": [
    {
     "data": {
      "text/html": [
       "<div>\n",
       "<style scoped>\n",
       "    .dataframe tbody tr th:only-of-type {\n",
       "        vertical-align: middle;\n",
       "    }\n",
       "\n",
       "    .dataframe tbody tr th {\n",
       "        vertical-align: top;\n",
       "    }\n",
       "\n",
       "    .dataframe thead th {\n",
       "        text-align: right;\n",
       "    }\n",
       "</style>\n",
       "<table border=\"1\" class=\"dataframe\">\n",
       "  <thead>\n",
       "    <tr style=\"text-align: right;\">\n",
       "      <th></th>\n",
       "      <th>borough</th>\n",
       "      <th>neighborhood</th>\n",
       "      <th>building_class_category</th>\n",
       "      <th>tax_class_at_present</th>\n",
       "      <th>block</th>\n",
       "      <th>lot</th>\n",
       "      <th>easement</th>\n",
       "      <th>building_class_at_present</th>\n",
       "      <th>address</th>\n",
       "      <th>apartment_number</th>\n",
       "      <th>zip_code</th>\n",
       "      <th>residential_units</th>\n",
       "      <th>commercial_units</th>\n",
       "      <th>total_units</th>\n",
       "      <th>land_square_feet</th>\n",
       "      <th>gross_square_feet</th>\n",
       "      <th>year_built</th>\n",
       "      <th>tax_class_at_time_of_sale</th>\n",
       "      <th>building_class_at_time_of_sale</th>\n",
       "      <th>sale_price</th>\n",
       "      <th>sale_date</th>\n",
       "    </tr>\n",
       "  </thead>\n",
       "  <tbody>\n",
       "    <tr>\n",
       "      <th>0</th>\n",
       "      <td>1</td>\n",
       "      <td>ALPHABET CITY</td>\n",
       "      <td>02  TWO FAMILY DWELLINGS</td>\n",
       "      <td>1</td>\n",
       "      <td>375</td>\n",
       "      <td>41</td>\n",
       "      <td></td>\n",
       "      <td>S2</td>\n",
       "      <td>65 AVENUE D</td>\n",
       "      <td></td>\n",
       "      <td>10009</td>\n",
       "      <td>2</td>\n",
       "      <td>1</td>\n",
       "      <td>3</td>\n",
       "      <td>1,614</td>\n",
       "      <td>3,040</td>\n",
       "      <td>1899</td>\n",
       "      <td>\\t1</td>\n",
       "      <td>S2</td>\n",
       "      <td>$\\t1,560,000.00</td>\n",
       "      <td>7/18/13</td>\n",
       "    </tr>\n",
       "    <tr>\n",
       "      <th>1</th>\n",
       "      <td>1</td>\n",
       "      <td>ALPHABET CITY</td>\n",
       "      <td>03  THREE FAMILY DWELLINGS</td>\n",
       "      <td>1</td>\n",
       "      <td>377</td>\n",
       "      <td>66</td>\n",
       "      <td></td>\n",
       "      <td>C0</td>\n",
       "      <td>243 EAST 7TH   STREET</td>\n",
       "      <td></td>\n",
       "      <td>10009</td>\n",
       "      <td>3</td>\n",
       "      <td>0</td>\n",
       "      <td>3</td>\n",
       "      <td>2,381</td>\n",
       "      <td>3,084</td>\n",
       "      <td>1899</td>\n",
       "      <td>\\t1</td>\n",
       "      <td>C0</td>\n",
       "      <td>$\\t3,150,000.00</td>\n",
       "      <td>3/6/13</td>\n",
       "    </tr>\n",
       "    <tr>\n",
       "      <th>2</th>\n",
       "      <td>1</td>\n",
       "      <td>ALPHABET CITY</td>\n",
       "      <td>04  TAX CLASS 1 CONDOS</td>\n",
       "      <td>1C</td>\n",
       "      <td>399</td>\n",
       "      <td>1102</td>\n",
       "      <td></td>\n",
       "      <td>R6</td>\n",
       "      <td>238 EAST 4TH   STREET</td>\n",
       "      <td>-</td>\n",
       "      <td>10009</td>\n",
       "      <td>1</td>\n",
       "      <td>0</td>\n",
       "      <td>1</td>\n",
       "      <td>0</td>\n",
       "      <td>0</td>\n",
       "      <td>1955</td>\n",
       "      <td>\\t1</td>\n",
       "      <td>R6</td>\n",
       "      <td>$\\t3,450,000.00</td>\n",
       "      <td>3/27/13</td>\n",
       "    </tr>\n",
       "    <tr>\n",
       "      <th>3</th>\n",
       "      <td>1</td>\n",
       "      <td>ALPHABET CITY</td>\n",
       "      <td>07  RENTALS - WALKUP APARTMENTS</td>\n",
       "      <td>2B</td>\n",
       "      <td>372</td>\n",
       "      <td>6</td>\n",
       "      <td></td>\n",
       "      <td>C4</td>\n",
       "      <td>24 AVENUE C</td>\n",
       "      <td></td>\n",
       "      <td>10009</td>\n",
       "      <td>6</td>\n",
       "      <td>1</td>\n",
       "      <td>7</td>\n",
       "      <td>2,325</td>\n",
       "      <td>5,381</td>\n",
       "      <td>1900</td>\n",
       "      <td>\\t2</td>\n",
       "      <td>C4</td>\n",
       "      <td>$\\t-</td>\n",
       "      <td>12/4/13</td>\n",
       "    </tr>\n",
       "    <tr>\n",
       "      <th>4</th>\n",
       "      <td>1</td>\n",
       "      <td>ALPHABET CITY</td>\n",
       "      <td>07  RENTALS - WALKUP APARTMENTS</td>\n",
       "      <td>2B</td>\n",
       "      <td>374</td>\n",
       "      <td>1</td>\n",
       "      <td></td>\n",
       "      <td>C7</td>\n",
       "      <td>303 EAST 4TH STREET</td>\n",
       "      <td></td>\n",
       "      <td>10009</td>\n",
       "      <td>8</td>\n",
       "      <td>2</td>\n",
       "      <td>10</td>\n",
       "      <td>1,501</td>\n",
       "      <td>6,929</td>\n",
       "      <td>1900</td>\n",
       "      <td>\\t2</td>\n",
       "      <td>C7</td>\n",
       "      <td>$\\t-</td>\n",
       "      <td>2/5/13</td>\n",
       "    </tr>\n",
       "  </tbody>\n",
       "</table>\n",
       "</div>"
      ],
      "text/plain": [
       "  borough               neighborhood  \\\n",
       "0       1  ALPHABET CITY               \n",
       "1       1  ALPHABET CITY               \n",
       "2       1  ALPHABET CITY               \n",
       "3       1  ALPHABET CITY               \n",
       "4       1  ALPHABET CITY               \n",
       "\n",
       "                        building_class_category tax_class_at_present block  \\\n",
       "0  02  TWO FAMILY DWELLINGS                                        1   375   \n",
       "1  03  THREE FAMILY DWELLINGS                                      1   377   \n",
       "2  04  TAX CLASS 1 CONDOS                                         1C   399   \n",
       "3  07  RENTALS - WALKUP APARTMENTS                                2B   372   \n",
       "4  07  RENTALS - WALKUP APARTMENTS                                2B   374   \n",
       "\n",
       "    lot easement building_class_at_present  \\\n",
       "0    41                                 S2   \n",
       "1    66                                 C0   \n",
       "2  1102                                 R6   \n",
       "3     6                                 C4   \n",
       "4     1                                 C7   \n",
       "\n",
       "                                     address apartment_number zip_code  \\\n",
       "0  65 AVENUE D                                                   10009   \n",
       "1  243 EAST 7TH   STREET                                         10009   \n",
       "2  238 EAST 4TH   STREET                         -               10009   \n",
       "3  24 AVENUE C                                                   10009   \n",
       "4  303 EAST 4TH STREET                                           10009   \n",
       "\n",
       "  residential_units commercial_units total_units land_square_feet  \\\n",
       "0                 2                1           3            1,614   \n",
       "1                 3                0           3            2,381   \n",
       "2                 1                0           1                0   \n",
       "3                 6                1           7            2,325   \n",
       "4                 8                2          10            1,501   \n",
       "\n",
       "  gross_square_feet year_built tax_class_at_time_of_sale  \\\n",
       "0             3,040       1899                      \\t1    \n",
       "1             3,084       1899                      \\t1    \n",
       "2                 0       1955                      \\t1    \n",
       "3             5,381       1900                      \\t2    \n",
       "4             6,929       1900                      \\t2    \n",
       "\n",
       "  building_class_at_time_of_sale         sale_price sale_date  \n",
       "0                             S2   $\\t1,560,000.00    7/18/13  \n",
       "1                             C0   $\\t3,150,000.00     3/6/13  \n",
       "2                             R6   $\\t3,450,000.00    3/27/13  \n",
       "3                             C4            $\\t-      12/4/13  \n",
       "4                             C7            $\\t-       2/5/13  "
      ]
     },
     "execution_count": 9,
     "metadata": {},
     "output_type": "execute_result"
    }
   ],
   "source": [
    "# man_test.info()\n",
    "man_test.to_csv('data/NYC/man_test.csv', index=False)\n",
    "man.head()"
   ]
  },
  {
   "cell_type": "markdown",
   "metadata": {},
   "source": [
    "### 1.2.2 Brooklyn"
   ]
  },
  {
   "cell_type": "code",
   "execution_count": 10,
   "metadata": {},
   "outputs": [],
   "source": [
    "bk2013 = pd.read_csv('data/NYC/2013_brooklyn.csv')\n",
    "bk2014 = pd.read_csv('data/NYC/2014_brooklyn.csv')\n",
    "bk2015 = pd.read_csv('data/NYC/2015_brooklyn.csv')\n",
    "bk2016 = pd.read_csv('data/NYC/2016_brooklyn.csv')\n",
    "bk2017 = pd.read_csv('data/NYC/2017_brooklyn.csv')\n",
    "bk2018 = pd.read_csv('data/NYC/2018_brooklyn.csv')\n",
    "bk_test = pd.read_csv('data/NYC/rollingsales_brooklyn.csv')\n",
    "# bk2013.head()\n",
    "bk2013 = bk2013.drop([0,1,2,3]).reset_index(drop=True)\n",
    "bk2014 = bk2014.drop([0,1,2,3]).reset_index(drop=True)\n",
    "bk2015 = bk2015.drop([0,1,2,3]).reset_index(drop=True)\n",
    "bk2016 = bk2016.drop([0,1,2,3]).reset_index(drop=True)\n",
    "bk2017 = bk2017.drop([0,1,2,3]).reset_index(drop=True)\n",
    "bk2018 = bk2018.drop([0,1,2,3]).reset_index(drop=True)\n",
    "bk_test = bk_test.drop([0,1,2,3]).reset_index(drop=True)\n",
    "# Renamed the columns with the correct features\n",
    "bk2013.columns = column_name\n",
    "bk2014.columns = column_name\n",
    "bk2015.columns = column_name\n",
    "bk2016.columns = column_name\n",
    "bk2017.columns = column_name\n",
    "bk2018.columns = column_name\n",
    "bk_test.columns = column_name"
   ]
  },
  {
   "cell_type": "code",
   "execution_count": 11,
   "metadata": {},
   "outputs": [],
   "source": [
    "bk = pd.concat([bk2013, bk2014, bk2015, bk2016, bk2017, bk2018], ignore_index=True)"
   ]
  },
  {
   "cell_type": "code",
   "execution_count": 12,
   "metadata": {},
   "outputs": [],
   "source": [
    "#bk.head()\n",
    "#bk.info()\n",
    "#bk_test.info()\n",
    "bk.to_csv('data/NYC/bk.csv', index=False)\n",
    "bk_test.to_csv('data/NYC/bk_test.csv', index=False)"
   ]
  },
  {
   "cell_type": "markdown",
   "metadata": {},
   "source": [
    "### 1.2.3 Queens"
   ]
  },
  {
   "cell_type": "code",
   "execution_count": 13,
   "metadata": {},
   "outputs": [],
   "source": [
    "qns2013 = pd.read_csv('data/NYC/2013_queens.csv')\n",
    "qns2014 = pd.read_csv('data/NYC/2014_queens.csv')\n",
    "qns2015 = pd.read_csv('data/NYC/2015_queens.csv')\n",
    "qns2016 = pd.read_csv('data/NYC/2016_queens.csv')\n",
    "qns2017 = pd.read_csv('data/NYC/2017_queens.csv')\n",
    "qns2018 = pd.read_csv('data/NYC/2018_queens.csv')\n",
    "qns_test = pd.read_csv('data/NYC/rollingsales_queens.csv')\n",
    "# qns2013.head()\n",
    "qns2013 = qns2013.drop([0,1,2,3]).reset_index(drop=True)\n",
    "qns2014 = qns2014.drop([0,1,2,3]).reset_index(drop=True)\n",
    "qns2015 = qns2015.drop([0,1,2,3]).reset_index(drop=True)\n",
    "qns2016 = qns2016.drop([0,1,2,3]).reset_index(drop=True)\n",
    "qns2017 = qns2017.drop([0,1,2,3]).reset_index(drop=True)\n",
    "qns2018 = qns2018.drop([0,1,2,3]).reset_index(drop=True)\n",
    "qns_test = qns_test.drop([0,1,2,3]).reset_index(drop=True)\n",
    "# Renamed the columns with the correct features\n",
    "qns2013.columns = column_name\n",
    "qns2014.columns = column_name\n",
    "qns2015.columns = column_name\n",
    "qns2016.columns = column_name\n",
    "qns2017.columns = column_name\n",
    "qns2018.columns = column_name\n",
    "qns_test.columns = column_name"
   ]
  },
  {
   "cell_type": "code",
   "execution_count": 14,
   "metadata": {},
   "outputs": [],
   "source": [
    "qns = pd.concat([qns2013, qns2014, qns2015, qns2016, qns2017, qns2018], ignore_index=True)"
   ]
  },
  {
   "cell_type": "code",
   "execution_count": 15,
   "metadata": {},
   "outputs": [],
   "source": [
    "#qns.head()\n",
    "#qns.info()\n",
    "#qns_test.info()\n",
    "qns.to_csv('data/NYC/qns.csv', index=False)\n",
    "qns_test.to_csv('data/NYC/qns_test.csv', index=False)"
   ]
  },
  {
   "cell_type": "markdown",
   "metadata": {},
   "source": [
    "### 1.2.4 Bronx"
   ]
  },
  {
   "cell_type": "code",
   "execution_count": 16,
   "metadata": {},
   "outputs": [],
   "source": [
    "bx2013 = pd.read_csv('data/NYC/2013_bronx.csv')\n",
    "bx2014 = pd.read_csv('data/NYC/2014_bronx.csv')\n",
    "bx2015 = pd.read_csv('data/NYC/2015_bronx.csv')\n",
    "bx2016 = pd.read_csv('data/NYC/2016_bronx.csv')\n",
    "bx2017 = pd.read_csv('data/NYC/2017_bronx.csv')\n",
    "bx2018 = pd.read_csv('data/NYC/2018_bronx.csv')\n",
    "bx_test = pd.read_csv('data/NYC/rollingsales_bronx.csv')\n",
    "# qns2013.head()\n",
    "bx2013 = bx2013.drop([0,1,2,3]).reset_index(drop=True)\n",
    "bx2014 = bx2014.drop([0,1,2,3]).reset_index(drop=True)\n",
    "bx2015 = bx2015.drop([0,1,2,3]).reset_index(drop=True)\n",
    "bx2016 = bx2016.drop([0,1,2,3]).reset_index(drop=True)\n",
    "bx2017 = bx2017.drop([0,1,2,3]).reset_index(drop=True)\n",
    "bx2018 = bx2018.drop([0,1,2,3]).reset_index(drop=True)\n",
    "bx_test = bx_test.drop([0,1,2,3]).reset_index(drop=True)\n",
    "# Renamed the columns with the correct features\n",
    "bx2013.columns = column_name\n",
    "bx2014.columns = column_name\n",
    "bx2015.columns = column_name\n",
    "bx2016.columns = column_name\n",
    "bx2017.columns = column_name\n",
    "bx2018.columns = column_name\n",
    "bx_test.columns = column_name"
   ]
  },
  {
   "cell_type": "code",
   "execution_count": 17,
   "metadata": {},
   "outputs": [],
   "source": [
    "bx = pd.concat([bx2013, bx2014, bx2015, bx2016, bx2017, bx2018], ignore_index=True)"
   ]
  },
  {
   "cell_type": "code",
   "execution_count": 18,
   "metadata": {},
   "outputs": [],
   "source": [
    "#bx.head()\n",
    "#bx.info()\n",
    "#bx_test.info()\n",
    "bx.to_csv('data/NYC/bx.csv', index=False)\n",
    "bx_test.to_csv('data/NYC/bx_test.csv', index=False)"
   ]
  },
  {
   "cell_type": "markdown",
   "metadata": {},
   "source": [
    "### 1.2.5 Staten Island"
   ]
  },
  {
   "cell_type": "code",
   "execution_count": 19,
   "metadata": {},
   "outputs": [],
   "source": [
    "stn2013 = pd.read_csv('data/NYC/2013_statenisland.csv')\n",
    "stn2014 = pd.read_csv('data/NYC/2014_statenisland.csv')\n",
    "stn2015 = pd.read_csv('data/NYC/2015_statenisland.csv')\n",
    "stn2016 = pd.read_csv('data/NYC/2016_statenisland.csv')\n",
    "stn2017 = pd.read_csv('data/NYC/2017_statenisland.csv')\n",
    "stn2018 = pd.read_csv('data/NYC/2018_statenisland.csv')\n",
    "stn_test = pd.read_csv('data/NYC/rollingsales_statenisland.csv')\n",
    "# qns2013.head()\n",
    "stn2013 = stn2013.drop([0,1,2,3]).reset_index(drop=True)\n",
    "stn2014 = stn2014.drop([0,1,2,3]).reset_index(drop=True)\n",
    "stn2015 = stn2015.drop([0,1,2,3]).reset_index(drop=True)\n",
    "stn2016 = stn2016.drop([0,1,2,3]).reset_index(drop=True)\n",
    "stn2017 = stn2017.drop([0,1,2,3]).reset_index(drop=True)\n",
    "stn2018 = stn2018.drop([0,1,2,3]).reset_index(drop=True)\n",
    "stn_test = stn_test.drop([0,1,2,3]).reset_index(drop=True)\n",
    "# Renamed the columns with the correct features\n",
    "stn2013.columns = column_name\n",
    "stn2014.columns = column_name\n",
    "stn2015.columns = column_name\n",
    "stn2016.columns = column_name\n",
    "stn2017.columns = column_name\n",
    "stn2018.columns = column_name\n",
    "stn_test.columns = column_name"
   ]
  },
  {
   "cell_type": "code",
   "execution_count": 20,
   "metadata": {},
   "outputs": [],
   "source": [
    "stn = pd.concat([stn2013, stn2014, stn2015, stn2016, stn2017, stn2018], ignore_index=True)"
   ]
  },
  {
   "cell_type": "code",
   "execution_count": 21,
   "metadata": {},
   "outputs": [],
   "source": [
    "#stn.head()\n",
    "#stn.info()\n",
    "#stn_test.info()\n",
    "stn.to_csv('data/NYC/stn.csv', index=False)\n",
    "stn_test.to_csv('data/NYC/stn_test.csv', index=False)"
   ]
  },
  {
   "cell_type": "markdown",
   "metadata": {},
   "source": [
    "### 1.2.6 New York City"
   ]
  },
  {
   "cell_type": "code",
   "execution_count": 22,
   "metadata": {},
   "outputs": [],
   "source": [
    "nyc = pd.concat([man, bk, qns, bx, stn], ignore_index=True)\n",
    "nyc_test = pd.concat([man_test, bk_test, qns_test, bx_test, stn_test], ignore_index=True)"
   ]
  },
  {
   "cell_type": "code",
   "execution_count": 23,
   "metadata": {},
   "outputs": [],
   "source": [
    "# nyc = pd.concat([man, bk, qns, bx, stn, man_test, bk_test, qns_test, bx_test, stn_test], ignore_index=True)"
   ]
  },
  {
   "cell_type": "markdown",
   "metadata": {},
   "source": [
    "# 2. Understand, clean up & format each column:"
   ]
  },
  {
   "cell_type": "markdown",
   "metadata": {},
   "source": [
    "## 2.1 Understand each column"
   ]
  },
  {
   "cell_type": "markdown",
   "metadata": {},
   "source": [
    "find other dataset, population, stock market"
   ]
  },
  {
   "cell_type": "code",
   "execution_count": 24,
   "metadata": {},
   "outputs": [],
   "source": [
    "## nyc.sale_date.describe()--change it to time stamp."
   ]
  },
  {
   "cell_type": "code",
   "execution_count": 25,
   "metadata": {},
   "outputs": [],
   "source": [
    "# nyc.head()"
   ]
  },
  {
   "cell_type": "code",
   "execution_count": 26,
   "metadata": {
    "scrolled": true
   },
   "outputs": [
    {
     "data": {
      "text/plain": [
       "Index(['borough', 'neighborhood', 'building_class_category',\n",
       "       'tax_class_at_present', 'block', 'lot', 'easement',\n",
       "       'building_class_at_present', 'address', 'apartment_number', 'zip_code',\n",
       "       'residential_units', 'commercial_units', 'total_units',\n",
       "       'land_square_feet', 'gross_square_feet', 'year_built',\n",
       "       'tax_class_at_time_of_sale', 'building_class_at_time_of_sale',\n",
       "       'sale_price', 'sale_date'],\n",
       "      dtype='object')"
      ]
     },
     "execution_count": 26,
     "metadata": {},
     "output_type": "execute_result"
    }
   ],
   "source": [
    "nyc.columns"
   ]
  },
  {
   "cell_type": "markdown",
   "metadata": {},
   "source": [
    "## 2.2 Borough & Neighborhood column:"
   ]
  },
  {
   "cell_type": "markdown",
   "metadata": {},
   "source": [
    "### 2.2.1 Borough\n",
    "There is no problem for the borough columns"
   ]
  },
  {
   "cell_type": "code",
   "execution_count": 27,
   "metadata": {},
   "outputs": [],
   "source": [
    "# nyc.borough.unique()"
   ]
  },
  {
   "cell_type": "markdown",
   "metadata": {},
   "source": [
    "### 2.2.2 Neighborhood\n",
    "By sorting out the neighboorhood column, I realized there exist variables with '-' which is going to be replaced by '_' here. There are some values with spaces which cause repetition(eg: 'Flushing', 'Flushing        '), going to use the strip method to remove the spaces. With all the space in between two words(eg: 'Alphabet    City'), going to replace it with '_'. Finally, lowercase everything. Since the dataset is kind of huge, going to run it with progression line to estimate runtime."
   ]
  },
  {
   "cell_type": "code",
   "execution_count": 28,
   "metadata": {},
   "outputs": [],
   "source": [
    "# Import time bar to know the progression\n",
    "from tqdm import tqdm_notebook as tqdm"
   ]
  },
  {
   "cell_type": "code",
   "execution_count": 29,
   "metadata": {},
   "outputs": [],
   "source": [
    "nyc.neighborhood = nyc.neighborhood.str.replace('-','_')\n",
    "nyc.neighborhood = nyc.neighborhood.str.strip()\n",
    "nyc.neighborhood = nyc.neighborhood.str.replace('/','_')\n",
    "nyc.neighborhood = nyc.neighborhood.str.replace('.','')\n",
    "nyc.neighborhood = nyc.neighborhood.str.replace(' ','_')"
   ]
  },
  {
   "cell_type": "code",
   "execution_count": 30,
   "metadata": {
    "scrolled": true
   },
   "outputs": [],
   "source": [
    "nyc.neighborhood = nyc.neighborhood.str.lower()"
   ]
  },
  {
   "cell_type": "code",
   "execution_count": 31,
   "metadata": {},
   "outputs": [
    {
     "name": "stderr",
     "output_type": "stream",
     "text": [
      "/Users/justin/anaconda3/lib/python3.7/site-packages/IPython/core/interactiveshell.py:3049: DtypeWarning: Columns (6,11,12,13) have mixed types. Specify dtype option on import or set low_memory=False.\n",
      "  interactivity=interactivity, compiler=compiler, result=result)\n"
     ]
    }
   ],
   "source": [
    "# nyc1 is a dataset with a cleaned neighborhood column.\n",
    "nyc.to_csv('data/NYC/nyc1.csv', index=False)\n",
    "nyc1 = pd.read_csv('data/NYC/nyc1.csv', index_col=False)"
   ]
  },
  {
   "cell_type": "markdown",
   "metadata": {},
   "source": [
    "## 2.3 Sale_price( target variables )\n",
    "The procedure of sorting through the neighborhood column takes a significant amount of time, and I start to realized that our target variable is the price, the price column should be sorted and cleaned first, since those rows without a price will be dropped, which can save me some time for future data wranggling."
   ]
  },
  {
   "cell_type": "markdown",
   "metadata": {},
   "source": [
    "### 2.3.1 Sale_price cleaning"
   ]
  },
  {
   "cell_type": "code",
   "execution_count": 32,
   "metadata": {
    "scrolled": true
   },
   "outputs": [],
   "source": [
    "# nyc1.sale_price.value_counts()"
   ]
  },
  {
   "cell_type": "code",
   "execution_count": 33,
   "metadata": {
    "scrolled": false
   },
   "outputs": [
    {
     "name": "stdout",
     "output_type": "stream",
     "text": [
      "161105\n"
     ]
    }
   ],
   "source": [
    "# Find the sum of all the 0 or nan, for latter check\n",
    "print(len(nyc1[nyc1.sale_price==' $\\t-   '])+len(nyc1[nyc.sale_price==' \\t-   '])+len(nyc1[nyc.sale_price=='$0'])+len(nyc1[nyc.sale_price=='0']))"
   ]
  },
  {
   "cell_type": "code",
   "execution_count": 34,
   "metadata": {
    "scrolled": true
   },
   "outputs": [],
   "source": [
    "# nyc1.sale_price.value_counts()\n",
    "# Realized there are $\\t-, that need to be get rid off\n",
    "# Clean - up . part later just incase they turn add tenth, hundredth into interger\n",
    "\n",
    "nyc1.sale_price = nyc1.sale_price.str.replace('$','')\n",
    "nyc1.sale_price = nyc1.sale_price.str.replace('\\t','')\n",
    "nyc1.sale_price = nyc1.sale_price.str.replace('-','')\n",
    "nyc1.sale_price = nyc1.sale_price.str.replace(',','')\n",
    "nyc1.sale_price = nyc1.sale_price.str.strip()\n",
    "# This will replace all the '' with 0(Indicate it has to start with blank and end with blanks with ^ and $)\n",
    "nyc1.sale_price.replace(r'^\\s*$', '0', regex=True, inplace = True)\n",
    "# nyc1.sale_price = nyc1.sale_price.str.replace('.00','')\n"
   ]
  },
  {
   "cell_type": "code",
   "execution_count": 35,
   "metadata": {},
   "outputs": [],
   "source": [
    "# Using the following function first will generate error:\n",
    "# invalid literal for int() with base 10: '3650100.00'\n",
    "# nyc1.sale_price.astype(int)"
   ]
  },
  {
   "cell_type": "code",
   "execution_count": 36,
   "metadata": {
    "scrolled": true
   },
   "outputs": [
    {
     "data": {
      "text/plain": [
       "161105"
      ]
     },
     "execution_count": 36,
     "metadata": {},
     "output_type": "execute_result"
    }
   ],
   "source": [
    "# nyc1.sale_price = nyc1.sale_price.str.replace('.00','')--> cannot use this, will clean\n",
    "# up all the double 00\n",
    "len(nyc1[nyc1.sale_price=='0'])\n",
    "\n",
    "# By adding the to_numeric can use astype to change the series into int\n",
    "nyc1.sale_price = pd.to_numeric(nyc1.sale_price)\n",
    "# Int will have issue with those data with decimals\n",
    "nyc1.sale_price.astype(int)\n",
    "len(nyc1[nyc1.sale_price==0])"
   ]
  },
  {
   "cell_type": "code",
   "execution_count": 37,
   "metadata": {},
   "outputs": [],
   "source": [
    "nyc1.to_csv('data/NYC/nyc2.csv', index=False)\n",
    "nyc2 = pd.read_csv('data/NYC/nyc2.csv', index_col=False)"
   ]
  },
  {
   "cell_type": "markdown",
   "metadata": {},
   "source": [
    "### 2.3.2 Define & remove outliers from column sale_price (To be continue later)\n",
    "It is hard to define the lower end outliers, need to clean up other columns to help set filter to define outliers."
   ]
  },
  {
   "cell_type": "code",
   "execution_count": 38,
   "metadata": {
    "scrolled": true
   },
   "outputs": [],
   "source": [
    "nyc3 = nyc2[nyc2.sale_price != 0].reset_index(drop=True)\n",
    "# c = nyc2.sale_price.value_counts()\n",
    "# nyc3.sale_price.describe()"
   ]
  },
  {
   "cell_type": "code",
   "execution_count": 39,
   "metadata": {},
   "outputs": [
    {
     "data": {
      "text/html": [
       "<div>\n",
       "<style scoped>\n",
       "    .dataframe tbody tr th:only-of-type {\n",
       "        vertical-align: middle;\n",
       "    }\n",
       "\n",
       "    .dataframe tbody tr th {\n",
       "        vertical-align: top;\n",
       "    }\n",
       "\n",
       "    .dataframe thead th {\n",
       "        text-align: right;\n",
       "    }\n",
       "</style>\n",
       "<table border=\"1\" class=\"dataframe\">\n",
       "  <thead>\n",
       "    <tr style=\"text-align: right;\">\n",
       "      <th></th>\n",
       "      <th>borough</th>\n",
       "      <th>neighborhood</th>\n",
       "      <th>building_class_category</th>\n",
       "      <th>tax_class_at_present</th>\n",
       "      <th>block</th>\n",
       "      <th>lot</th>\n",
       "      <th>easement</th>\n",
       "      <th>building_class_at_present</th>\n",
       "      <th>address</th>\n",
       "      <th>apartment_number</th>\n",
       "      <th>zip_code</th>\n",
       "      <th>residential_units</th>\n",
       "      <th>commercial_units</th>\n",
       "      <th>total_units</th>\n",
       "      <th>land_square_feet</th>\n",
       "      <th>gross_square_feet</th>\n",
       "      <th>year_built</th>\n",
       "      <th>tax_class_at_time_of_sale</th>\n",
       "      <th>building_class_at_time_of_sale</th>\n",
       "      <th>sale_price</th>\n",
       "      <th>sale_date</th>\n",
       "    </tr>\n",
       "  </thead>\n",
       "  <tbody>\n",
       "    <tr>\n",
       "      <th>58302</th>\n",
       "      <td>1</td>\n",
       "      <td>kips_bay</td>\n",
       "      <td>08  RENTALS - ELEVATOR APARTMENTS</td>\n",
       "      <td>2</td>\n",
       "      <td>972</td>\n",
       "      <td>1</td>\n",
       "      <td></td>\n",
       "      <td>D7</td>\n",
       "      <td>240 1 AVENUE</td>\n",
       "      <td></td>\n",
       "      <td>10009</td>\n",
       "      <td>8,759</td>\n",
       "      <td>46</td>\n",
       "      <td>8,805</td>\n",
       "      <td>2,675,000</td>\n",
       "      <td>8,942,176</td>\n",
       "      <td>1945</td>\n",
       "      <td>\\t2</td>\n",
       "      <td>D7</td>\n",
       "      <td>$4,111,111,766</td>\n",
       "      <td>12/18/15</td>\n",
       "    </tr>\n",
       "  </tbody>\n",
       "</table>\n",
       "</div>"
      ],
      "text/plain": [
       "      borough neighborhood                       building_class_category  \\\n",
       "58302       1     kips_bay  08  RENTALS - ELEVATOR APARTMENTS              \n",
       "\n",
       "      tax_class_at_present block lot easement building_class_at_present  \\\n",
       "58302                    2   972   1                                 D7   \n",
       "\n",
       "                                         address apartment_number zip_code  \\\n",
       "58302  240 1 AVENUE                                                  10009   \n",
       "\n",
       "      residential_units commercial_units total_units land_square_feet  \\\n",
       "58302             8,759               46       8,805        2,675,000   \n",
       "\n",
       "      gross_square_feet year_built tax_class_at_time_of_sale  \\\n",
       "58302         8,942,176       1945                      \\t2    \n",
       "\n",
       "      building_class_at_time_of_sale      sale_price sale_date  \n",
       "58302                             D7  $4,111,111,766  12/18/15  "
      ]
     },
     "execution_count": 39,
     "metadata": {},
     "output_type": "execute_result"
    }
   ],
   "source": [
    "# Originally thought that 4 billion dollars house is not possible,\n",
    "# after printing out the property of that price, however, it contains 8,805 units,\n",
    "# which makes it reasonable for the price.\n",
    "# Since, the higher price is reasonable, going to focus on defining outliers on the lower end.\n",
    "\n",
    "# c = sorted(set(nyc.sale_price.unique()))\n",
    "nyc[nyc.sale_price.str.contains('4,111,111,766')]"
   ]
  },
  {
   "cell_type": "code",
   "execution_count": 40,
   "metadata": {
    "scrolled": false
   },
   "outputs": [
    {
     "name": "stdout",
     "output_type": "stream",
     "text": [
      "10.0\n",
      "52500.0\n"
     ]
    },
    {
     "data": {
      "image/png": "[encoded data removed]",
      "text/plain": [
       "<Figure size 432x288 with 1 Axes>"
      ]
     },
     "metadata": {
      "needs_background": "light"
     },
     "output_type": "display_data"
    }
   ],
   "source": [
    "# Try to plot out the boxplot to see where to set the unreasonable price and drop them,\n",
    "# But we cannot really see the outliers from the plot\n",
    "sns.boxplot(nyc3.sale_price)\n",
    "plt.xlim(0, 500000)\n",
    "# print(len(nyc3[nyc3.sale_price <= 20000]))\n",
    "\n",
    "\n",
    "\n",
    "#It appears, by testing, that seaborn uses whis=1.5 as the default.\n",
    "# whis is defined as the\n",
    "# Proportion of the IQR past the low and high quartiles to extend the plot whiskers.\n",
    "# For a normal distribution, the interquartile range contains 50% of the population \n",
    "# and 1.5 * IQR contains about 99%.\n",
    "\n",
    "# interquartile range (IQR): 25th to the 75th percentile.\n",
    "#“maximum”: Q3 + 1.5*IQR\n",
    "#“minimum”: Q1 -1.5*IQR\n",
    "\n",
    "# whisker is the line in boxplot connecting minimum and 25%, 75% and maximum\n",
    "\n",
    "\n",
    "# winsorized trimming for the lower end\n",
    "# winsorixed mean is just the mean after removal of percentiles at the tails\n",
    "# This trimming method should be helpful to remove the 1% of tails, but it is $10 for the\n",
    "# 1% percentile which is still not reasonable\n",
    "# Setting at 5%, can have dangerous losing some valuable data\n",
    "# Going to use other methods to define outliers\n",
    "print(np.percentile(nyc3.sale_price, 1))\n",
    "print(np.percentile(nyc3.sale_price, 5))"
   ]
  },
  {
   "cell_type": "code",
   "execution_count": 41,
   "metadata": {},
   "outputs": [],
   "source": [
    "# Choose a price that's a little bit higher than the 5% percentile($52500),\n",
    "# From observation we realized that it could be possible to get a house with $60000\n",
    "# if the house is more than a 100 years old with a fairly small gross sq feet\n",
    "# Before making filter, going to first organized the \n",
    "# land_square_feet, gross_square_feet, year_built columns\n",
    "\n",
    "\n",
    "# nyc3[nyc3.sale_price==60000]"
   ]
  },
  {
   "cell_type": "markdown",
   "metadata": {},
   "source": [
    "## 2.4 Land_square_feet & gross_square_feet & year_built columns\n",
    "SQ_feet / 10 = SQ_meter"
   ]
  },
  {
   "cell_type": "markdown",
   "metadata": {},
   "source": [
    "### 2.4.1 Land_square_feet\n",
    "The land area of the property listed in square feet. "
   ]
  },
  {
   "cell_type": "code",
   "execution_count": 42,
   "metadata": {},
   "outputs": [
    {
     "data": {
      "text/plain": [
       "0"
      ]
     },
     "execution_count": 42,
     "metadata": {},
     "output_type": "execute_result"
    }
   ],
   "source": [
    "# Since originally there are no 0 in this column, so the replaced 0 can be see as NaN later.\n",
    "len(nyc3[nyc3.land_square_feet==0])"
   ]
  },
  {
   "cell_type": "code",
   "execution_count": 43,
   "metadata": {},
   "outputs": [],
   "source": [
    "nyc3.land_square_feet.value_counts()\n",
    "\n",
    "nyc3.land_square_feet = nyc3.land_square_feet.str.replace('\\t','')\n",
    "nyc3.land_square_feet = nyc3.land_square_feet.str.replace('-','')\n",
    "nyc3.land_square_feet = nyc3.land_square_feet.str.replace(',','')\n",
    "nyc3.land_square_feet = nyc3.land_square_feet.str.strip()\n",
    "nyc3.land_square_feet.replace(r'^\\s*$', '0', regex=True, inplace = True)\n",
    "# nyc3.land_square_feet.value_counts()"
   ]
  },
  {
   "cell_type": "markdown",
   "metadata": {},
   "source": [
    "### 2.4.2 Gross_square_feet\n",
    "The total area of all the floors of a building as measured from the exterior surfaces of the outside walls of the building, including the land area and space within any building or structure on the property. "
   ]
  },
  {
   "cell_type": "code",
   "execution_count": 44,
   "metadata": {
    "scrolled": true
   },
   "outputs": [
    {
     "data": {
      "text/plain": [
       "0"
      ]
     },
     "execution_count": 44,
     "metadata": {},
     "output_type": "execute_result"
    }
   ],
   "source": [
    "# Since originally there are no 0 in this column, so the replaced 0 can be see as NaN later.\n",
    "len(nyc3[nyc3.gross_square_feet==0])"
   ]
  },
  {
   "cell_type": "code",
   "execution_count": 45,
   "metadata": {},
   "outputs": [],
   "source": [
    "nyc3.gross_square_feet.value_counts()\n",
    "nyc3.gross_square_feet = nyc3.gross_square_feet.str.replace('\\t','')\n",
    "nyc3.gross_square_feet = nyc3.gross_square_feet.str.replace('-','')\n",
    "nyc3.gross_square_feet = nyc3.gross_square_feet.str.replace(',','')\n",
    "nyc3.gross_square_feet = nyc3.gross_square_feet.str.strip()\n",
    "nyc3.gross_square_feet.replace(r'^\\s*$', '0', regex=True, inplace = True)\n",
    "# nyc3.gross_square_feet.value_counts()"
   ]
  },
  {
   "cell_type": "markdown",
   "metadata": {},
   "source": [
    "### 2.4.3 Year_built"
   ]
  },
  {
   "cell_type": "code",
   "execution_count": 46,
   "metadata": {
    "scrolled": true
   },
   "outputs": [
    {
     "data": {
      "text/html": [
       "<div>\n",
       "<style scoped>\n",
       "    .dataframe tbody tr th:only-of-type {\n",
       "        vertical-align: middle;\n",
       "    }\n",
       "\n",
       "    .dataframe tbody tr th {\n",
       "        vertical-align: top;\n",
       "    }\n",
       "\n",
       "    .dataframe thead th {\n",
       "        text-align: right;\n",
       "    }\n",
       "</style>\n",
       "<table border=\"1\" class=\"dataframe\">\n",
       "  <thead>\n",
       "    <tr style=\"text-align: right;\">\n",
       "      <th></th>\n",
       "      <th>borough</th>\n",
       "      <th>neighborhood</th>\n",
       "      <th>building_class_category</th>\n",
       "      <th>tax_class_at_present</th>\n",
       "      <th>block</th>\n",
       "      <th>lot</th>\n",
       "      <th>easement</th>\n",
       "      <th>building_class_at_present</th>\n",
       "      <th>address</th>\n",
       "      <th>apartment_number</th>\n",
       "      <th>zip_code</th>\n",
       "      <th>residential_units</th>\n",
       "      <th>commercial_units</th>\n",
       "      <th>total_units</th>\n",
       "      <th>land_square_feet</th>\n",
       "      <th>gross_square_feet</th>\n",
       "      <th>year_built</th>\n",
       "      <th>tax_class_at_time_of_sale</th>\n",
       "      <th>building_class_at_time_of_sale</th>\n",
       "      <th>sale_price</th>\n",
       "      <th>sale_date</th>\n",
       "    </tr>\n",
       "  </thead>\n",
       "  <tbody>\n",
       "    <tr>\n",
       "      <th>42524</th>\n",
       "      <td>1</td>\n",
       "      <td>greenwich_village_west</td>\n",
       "      <td>03  THREE FAMILY DWELLINGS</td>\n",
       "      <td>1</td>\n",
       "      <td>586</td>\n",
       "      <td>16</td>\n",
       "      <td></td>\n",
       "      <td>C0</td>\n",
       "      <td>14 LEROY STREET</td>\n",
       "      <td></td>\n",
       "      <td>10014.0</td>\n",
       "      <td>3</td>\n",
       "      <td>0</td>\n",
       "      <td>3</td>\n",
       "      <td>1600</td>\n",
       "      <td>4360</td>\n",
       "      <td>1798.0</td>\n",
       "      <td>1</td>\n",
       "      <td>C0</td>\n",
       "      <td>6615000.0</td>\n",
       "      <td>1/29/15</td>\n",
       "    </tr>\n",
       "    <tr>\n",
       "      <th>75970</th>\n",
       "      <td>1</td>\n",
       "      <td>chelsea</td>\n",
       "      <td>29 COMMERCIAL GARAGES</td>\n",
       "      <td>4</td>\n",
       "      <td>799</td>\n",
       "      <td>70</td>\n",
       "      <td></td>\n",
       "      <td>G6</td>\n",
       "      <td>7 AVENUE</td>\n",
       "      <td></td>\n",
       "      <td>10011.0</td>\n",
       "      <td>0</td>\n",
       "      <td>0</td>\n",
       "      <td>0</td>\n",
       "      <td>2125</td>\n",
       "      <td>0</td>\n",
       "      <td>1111.0</td>\n",
       "      <td>4</td>\n",
       "      <td>G6</td>\n",
       "      <td>8208750.0</td>\n",
       "      <td>4/21/17</td>\n",
       "    </tr>\n",
       "    <tr>\n",
       "      <th>125207</th>\n",
       "      <td>3</td>\n",
       "      <td>crown_heights</td>\n",
       "      <td>03  THREE FAMILY DWELLINGS</td>\n",
       "      <td>1</td>\n",
       "      <td>1380</td>\n",
       "      <td>73</td>\n",
       "      <td></td>\n",
       "      <td>C0</td>\n",
       "      <td>1521 SAINT JOHNS PLACE</td>\n",
       "      <td></td>\n",
       "      <td>11213.0</td>\n",
       "      <td>3</td>\n",
       "      <td>1</td>\n",
       "      <td>3</td>\n",
       "      <td>2405</td>\n",
       "      <td>3340</td>\n",
       "      <td>1380.0</td>\n",
       "      <td>1</td>\n",
       "      <td>C0</td>\n",
       "      <td>600000.0</td>\n",
       "      <td>12/10/14</td>\n",
       "    </tr>\n",
       "    <tr>\n",
       "      <th>125208</th>\n",
       "      <td>3</td>\n",
       "      <td>crown_heights</td>\n",
       "      <td>03  THREE FAMILY DWELLINGS</td>\n",
       "      <td>1</td>\n",
       "      <td>1380</td>\n",
       "      <td>73</td>\n",
       "      <td></td>\n",
       "      <td>C0</td>\n",
       "      <td>1521 SAINT JOHNS PLACE</td>\n",
       "      <td></td>\n",
       "      <td>11213.0</td>\n",
       "      <td>3</td>\n",
       "      <td>1</td>\n",
       "      <td>3</td>\n",
       "      <td>2405</td>\n",
       "      <td>3340</td>\n",
       "      <td>1380.0</td>\n",
       "      <td>1</td>\n",
       "      <td>C0</td>\n",
       "      <td>10.0</td>\n",
       "      <td>12/10/14</td>\n",
       "    </tr>\n",
       "    <tr>\n",
       "      <th>136195</th>\n",
       "      <td>3</td>\n",
       "      <td>bedford_stuyvesant</td>\n",
       "      <td>02  TWO FAMILY DWELLINGS</td>\n",
       "      <td>1</td>\n",
       "      <td>1664</td>\n",
       "      <td>62</td>\n",
       "      <td></td>\n",
       "      <td>B3</td>\n",
       "      <td>391 MACON STREET</td>\n",
       "      <td></td>\n",
       "      <td>11233.0</td>\n",
       "      <td>2</td>\n",
       "      <td>0</td>\n",
       "      <td>2</td>\n",
       "      <td>1975</td>\n",
       "      <td>3420</td>\n",
       "      <td>1050.0</td>\n",
       "      <td>1</td>\n",
       "      <td>B3</td>\n",
       "      <td>2200000.0</td>\n",
       "      <td>6/4/15</td>\n",
       "    </tr>\n",
       "  </tbody>\n",
       "</table>\n",
       "</div>"
      ],
      "text/plain": [
       "        borough            neighborhood  \\\n",
       "42524         1  greenwich_village_west   \n",
       "75970         1                 chelsea   \n",
       "125207        3           crown_heights   \n",
       "125208        3           crown_heights   \n",
       "136195        3      bedford_stuyvesant   \n",
       "\n",
       "                             building_class_category tax_class_at_present  \\\n",
       "42524   03  THREE FAMILY DWELLINGS                                      1   \n",
       "75970    29 COMMERCIAL GARAGES                                          4   \n",
       "125207  03  THREE FAMILY DWELLINGS                                      1   \n",
       "125208  03  THREE FAMILY DWELLINGS                                      1   \n",
       "136195  02  TWO FAMILY DWELLINGS                                        1   \n",
       "\n",
       "        block  lot easement building_class_at_present  \\\n",
       "42524     586   16                                 C0   \n",
       "75970     799   70                                 G6   \n",
       "125207   1380   73                                 C0   \n",
       "125208   1380   73                                 C0   \n",
       "136195   1664   62                                 B3   \n",
       "\n",
       "                                          address apartment_number  zip_code  \\\n",
       "42524   14 LEROY STREET                                              10014.0   \n",
       "75970                                    7 AVENUE                    10011.0   \n",
       "125207  1521 SAINT JOHNS PLACE                                       11213.0   \n",
       "125208  1521 SAINT JOHNS PLACE                                       11213.0   \n",
       "136195  391 MACON STREET                                             11233.0   \n",
       "\n",
       "       residential_units commercial_units total_units land_square_feet  \\\n",
       "42524                  3                0           3             1600   \n",
       "75970                  0                0           0             2125   \n",
       "125207                 3                1           3             2405   \n",
       "125208                 3                1           3             2405   \n",
       "136195                 2                0           2             1975   \n",
       "\n",
       "       gross_square_feet  year_built  tax_class_at_time_of_sale  \\\n",
       "42524               4360      1798.0                          1   \n",
       "75970                  0      1111.0                          4   \n",
       "125207              3340      1380.0                          1   \n",
       "125208              3340      1380.0                          1   \n",
       "136195              3420      1050.0                          1   \n",
       "\n",
       "       building_class_at_time_of_sale  sale_price sale_date  \n",
       "42524                              C0   6615000.0   1/29/15  \n",
       "75970                              G6   8208750.0   4/21/17  \n",
       "125207                             C0    600000.0  12/10/14  \n",
       "125208                             C0        10.0  12/10/14  \n",
       "136195                             B3   2200000.0    6/4/15  "
      ]
     },
     "execution_count": 46,
     "metadata": {},
     "output_type": "execute_result"
    }
   ],
   "source": [
    "nyc3[(nyc3.year_built < 1800) & (nyc3.year_built != 0)]"
   ]
  },
  {
   "cell_type": "code",
   "execution_count": 47,
   "metadata": {
    "scrolled": true
   },
   "outputs": [
    {
     "name": "stderr",
     "output_type": "stream",
     "text": [
      "/Users/justin/anaconda3/lib/python3.7/site-packages/pandas/core/indexing.py:190: SettingWithCopyWarning: \n",
      "A value is trying to be set on a copy of a slice from a DataFrame\n",
      "\n",
      "See the caveats in the documentation: http://pandas.pydata.org/pandas-docs/stable/indexing.html#indexing-view-versus-copy\n",
      "  self._setitem_with_indexer(indexer, value)\n"
     ]
    }
   ],
   "source": [
    "# It is not suspicious for the building built after year 1800 \n",
    "nyc3.year_built.value_counts()\n",
    "\n",
    "# After researching on the following 5 building, \n",
    "# 75957 cannot be checked, going to drop this row.\n",
    "# 125207, 125208, 136195 are all built in 1899, going to replace the value\n",
    "nyc3.year_built.iloc[75970]==np.NaN\n",
    "nyc3.year_built.iloc[125207]='1899'\n",
    "nyc3.year_built.iloc[125208]='1899'\n",
    "nyc3.year_built.iloc[136195]='1899'"
   ]
  },
  {
   "cell_type": "code",
   "execution_count": 48,
   "metadata": {},
   "outputs": [],
   "source": [
    "nyc3.year_built.fillna('0', inplace=True)"
   ]
  },
  {
   "cell_type": "code",
   "execution_count": 49,
   "metadata": {
    "scrolled": true
   },
   "outputs": [
    {
     "name": "stderr",
     "output_type": "stream",
     "text": [
      "/Users/justin/anaconda3/lib/python3.7/site-packages/IPython/core/interactiveshell.py:3049: DtypeWarning: Columns (11,12,13) have mixed types. Specify dtype option on import or set low_memory=False.\n",
      "  interactivity=interactivity, compiler=compiler, result=result)\n"
     ]
    }
   ],
   "source": [
    "dtype={'land_square_feet': int}\n",
    "dtype={'gross_square_feet': int}\n",
    "dtype={'year_built': int}\n",
    "nyc3.to_csv('data/NYC/nyc3.csv', index=False)\n",
    "nyc4 = pd.read_csv('data/NYC/nyc3.csv', index_col=False)"
   ]
  },
  {
   "cell_type": "code",
   "execution_count": 50,
   "metadata": {},
   "outputs": [],
   "source": [
    "nyc4.to_csv('data/NYC/nyc4.csv', index=False)\n",
    "nyc5 = pd.read_csv('data/NYC/nyc4.csv', index_col=False)"
   ]
  },
  {
   "cell_type": "markdown",
   "metadata": {},
   "source": [
    "## 2.5 Clean outliers in the sale_price column ( To Be continued!)"
   ]
  },
  {
   "cell_type": "markdown",
   "metadata": {},
   "source": [
    "### How to make a filter to filter out noise and error, and can avoid biased?"
   ]
  },
  {
   "cell_type": "code",
   "execution_count": 51,
   "metadata": {},
   "outputs": [],
   "source": [
    "# you usually have to save it to a new datafram when doing modification \n",
    "# inplace()can help you to save it to the original\n",
    "## it is always better to save it to a new one"
   ]
  },
  {
   "cell_type": "markdown",
   "metadata": {},
   "source": [
    "By plotting out the graph for sales price VS gross sqaure feet, I thought I will have a clear cluster of outliers which I can remove, but from the distribution of the points in the graph it does not seem like there is a definite outliers. It is hard to define a thershold in this case since I filter out those with property which are sold at 40000USD with less than 200 sqft, the appear to be parking lot, which is totally possible. \n",
    "\n",
    "In this case, my first concern is to group and clean property type, which is the building_class_category column."
   ]
  },
  {
   "cell_type": "code",
   "execution_count": 52,
   "metadata": {},
   "outputs": [
    {
     "data": {
      "image/png": "[encoded data removed]",
      "text/plain": [
       "<Figure size 1296x720 with 1 Axes>"
      ]
     },
     "metadata": {},
     "output_type": "display_data"
    }
   ],
   "source": [
    "sns.set(rc={'figure.figsize':(18,10)})\n",
    "\n",
    "# nyc5.info()\n",
    "ax = sns.scatterplot(nyc5.sale_price, nyc5.gross_square_feet, hue=(nyc5.year_built<=1940));\n",
    "ax.set(xlim = (0, 100000));\n",
    "ax.set(ylim = (0, 10000));\n",
    "plt.title(\"Property sales price & gross square feet\", size=20);\n",
    "\n",
    "# pick cut off 40K, takes 2 groups compare median and mean"
   ]
  },
  {
   "cell_type": "code",
   "execution_count": 53,
   "metadata": {
    "scrolled": true
   },
   "outputs": [
    {
     "data": {
      "text/html": [
       "<div>\n",
       "<style scoped>\n",
       "    .dataframe tbody tr th:only-of-type {\n",
       "        vertical-align: middle;\n",
       "    }\n",
       "\n",
       "    .dataframe tbody tr th {\n",
       "        vertical-align: top;\n",
       "    }\n",
       "\n",
       "    .dataframe thead th {\n",
       "        text-align: right;\n",
       "    }\n",
       "</style>\n",
       "<table border=\"1\" class=\"dataframe\">\n",
       "  <thead>\n",
       "    <tr style=\"text-align: right;\">\n",
       "      <th></th>\n",
       "      <th>borough</th>\n",
       "      <th>neighborhood</th>\n",
       "      <th>building_class_category</th>\n",
       "      <th>tax_class_at_present</th>\n",
       "      <th>block</th>\n",
       "      <th>lot</th>\n",
       "      <th>easement</th>\n",
       "      <th>building_class_at_present</th>\n",
       "      <th>address</th>\n",
       "      <th>apartment_number</th>\n",
       "      <th>zip_code</th>\n",
       "      <th>residential_units</th>\n",
       "      <th>commercial_units</th>\n",
       "      <th>total_units</th>\n",
       "      <th>land_square_feet</th>\n",
       "      <th>gross_square_feet</th>\n",
       "      <th>year_built</th>\n",
       "      <th>tax_class_at_time_of_sale</th>\n",
       "      <th>building_class_at_time_of_sale</th>\n",
       "      <th>sale_price</th>\n",
       "      <th>sale_date</th>\n",
       "    </tr>\n",
       "  </thead>\n",
       "  <tbody>\n",
       "    <tr>\n",
       "      <th>184604</th>\n",
       "      <td>3</td>\n",
       "      <td>bedford_stuyvesant</td>\n",
       "      <td>44 CONDO PARKING</td>\n",
       "      <td>4</td>\n",
       "      <td>1896</td>\n",
       "      <td>1231</td>\n",
       "      <td>NaN</td>\n",
       "      <td>RG</td>\n",
       "      <td>159 CLASSON AVENUE</td>\n",
       "      <td>P5</td>\n",
       "      <td>11205.0</td>\n",
       "      <td>0</td>\n",
       "      <td>1</td>\n",
       "      <td>1</td>\n",
       "      <td>10530.0</td>\n",
       "      <td>153.0</td>\n",
       "      <td>2005.0</td>\n",
       "      <td>4</td>\n",
       "      <td>RG</td>\n",
       "      <td>40000.0</td>\n",
       "      <td>8/30/18</td>\n",
       "    </tr>\n",
       "    <tr>\n",
       "      <th>295490</th>\n",
       "      <td>4</td>\n",
       "      <td>flushing_south</td>\n",
       "      <td>44 CONDO PARKING</td>\n",
       "      <td>4</td>\n",
       "      <td>6542</td>\n",
       "      <td>1092</td>\n",
       "      <td>NaN</td>\n",
       "      <td>RG</td>\n",
       "      <td>152-72 MELBOURNE AVENUE</td>\n",
       "      <td>2</td>\n",
       "      <td>11367.0</td>\n",
       "      <td>0</td>\n",
       "      <td>1.0</td>\n",
       "      <td>1</td>\n",
       "      <td>20732.0</td>\n",
       "      <td>162.0</td>\n",
       "      <td>1963.0</td>\n",
       "      <td>4</td>\n",
       "      <td>RG</td>\n",
       "      <td>40000.0</td>\n",
       "      <td>3/26/18</td>\n",
       "    </tr>\n",
       "  </tbody>\n",
       "</table>\n",
       "</div>"
      ],
      "text/plain": [
       "        borough        neighborhood building_class_category  \\\n",
       "184604        3  bedford_stuyvesant        44 CONDO PARKING   \n",
       "295490        4      flushing_south        44 CONDO PARKING   \n",
       "\n",
       "       tax_class_at_present  block   lot easement building_class_at_present  \\\n",
       "184604                    4   1896  1231      NaN                        RG   \n",
       "295490                    4   6542  1092      NaN                        RG   \n",
       "\n",
       "                        address apartment_number  zip_code residential_units  \\\n",
       "184604       159 CLASSON AVENUE               P5   11205.0                 0   \n",
       "295490  152-72 MELBOURNE AVENUE                2   11367.0                 0   \n",
       "\n",
       "       commercial_units total_units  land_square_feet  gross_square_feet  \\\n",
       "184604                1           1           10530.0              153.0   \n",
       "295490              1.0           1           20732.0              162.0   \n",
       "\n",
       "        year_built  tax_class_at_time_of_sale building_class_at_time_of_sale  \\\n",
       "184604      2005.0                          4                             RG   \n",
       "295490      1963.0                          4                             RG   \n",
       "\n",
       "        sale_price sale_date  \n",
       "184604     40000.0   8/30/18  \n",
       "295490     40000.0   3/26/18  "
      ]
     },
     "execution_count": 53,
     "metadata": {},
     "output_type": "execute_result"
    }
   ],
   "source": [
    "nyc5[(nyc5.sale_price==40000) & (nyc5.gross_square_feet <= 200) &  (nyc5.gross_square_feet > 0)]"
   ]
  },
  {
   "cell_type": "markdown",
   "metadata": {},
   "source": [
    "My second thought is to creat a price per sqft column to use it to filter out outliers"
   ]
  },
  {
   "cell_type": "code",
   "execution_count": 54,
   "metadata": {},
   "outputs": [],
   "source": [
    "# nyc5.cost_per_sq.value_counts()"
   ]
  },
  {
   "cell_type": "code",
   "execution_count": 55,
   "metadata": {},
   "outputs": [],
   "source": [
    "# nyc5['cost_per_sq'] = (nyc5.sale_price / nyc5.gross_square_feet)\n",
    "# nyc5.cost_per_sq.replace(np.inf, 0, inplace=True)\n",
    "# nyc5.cost_per_sq.replace(np.NaN, 0, inplace=True)\n",
    "\n",
    "\n",
    "# x = sns.boxplot(nyc5.cost_per_sq)\n",
    "# x.set(xlim=(0,10000))"
   ]
  },
  {
   "cell_type": "markdown",
   "metadata": {},
   "source": [
    "The plot above seems to be heavily affect by all the 0 value of gross sqft, so going to create a new dataset for non zero sqft see if the result will be different."
   ]
  },
  {
   "cell_type": "code",
   "execution_count": 56,
   "metadata": {},
   "outputs": [],
   "source": [
    "non_zero_sqft = nyc5[nyc5.gross_square_feet!=0]"
   ]
  },
  {
   "cell_type": "code",
   "execution_count": 57,
   "metadata": {},
   "outputs": [],
   "source": [
    "#non_zero_sqft.cost_per_sq.describe()"
   ]
  },
  {
   "cell_type": "markdown",
   "metadata": {},
   "source": [
    "For percentile 3 ~ 10 in non_zero_sqft dataset the number looked like 0.33814798,  0.53548144, 3.79395623, 23.33159204, 53.41322487, 73.52941176, 87.74011374, 99.64850507, which is still hard to define where the thershold should be.\n",
    "\n",
    "Some of the data missed the land_square_feet, and the other missed gross_square_feet, how to organized and combine and dropped this two data with the property type will the next mission of cleaning this dataset before setting the thershold."
   ]
  },
  {
   "cell_type": "code",
   "execution_count": 58,
   "metadata": {
    "scrolled": true
   },
   "outputs": [
    {
     "name": "stderr",
     "output_type": "stream",
     "text": [
      "/Users/justin/anaconda3/lib/python3.7/site-packages/ipykernel_launcher.py:1: SettingWithCopyWarning: \n",
      "A value is trying to be set on a copy of a slice from a DataFrame.\n",
      "Try using .loc[row_indexer,col_indexer] = value instead\n",
      "\n",
      "See the caveats in the documentation: http://pandas.pydata.org/pandas-docs/stable/indexing.html#indexing-view-versus-copy\n",
      "  \"\"\"Entry point for launching an IPython kernel.\n",
      "/Users/justin/anaconda3/lib/python3.7/site-packages/pandas/core/generic.py:6586: SettingWithCopyWarning: \n",
      "A value is trying to be set on a copy of a slice from a DataFrame\n",
      "\n",
      "See the caveats in the documentation: http://pandas.pydata.org/pandas-docs/stable/indexing.html#indexing-view-versus-copy\n",
      "  self._update_inplace(new_data)\n"
     ]
    },
    {
     "data": {
      "text/plain": [
       "array([ 0.33814798,  0.53555977,  3.79824002, 23.33333333, 53.41880342,\n",
       "       73.52941176, 87.7572083 , 99.65546523])"
      ]
     },
     "execution_count": 58,
     "metadata": {},
     "output_type": "execute_result"
    },
    {
     "data": {
      "image/png": "[encoded data removed]",
      "text/plain": [
       "<Figure size 1296x720 with 1 Axes>"
      ]
     },
     "metadata": {},
     "output_type": "display_data"
    }
   ],
   "source": [
    "non_zero_sqft['cost_per_sq'] = (non_zero_sqft.sale_price / non_zero_sqft.gross_square_feet)\n",
    "# non_zero_sqft.cost_per_sq.replace(np.inf, 0, inplace=True)\n",
    "non_zero_sqft.cost_per_sq.replace(np.NaN, 0, inplace=True)\n",
    "\n",
    "x = sns.boxplot(non_zero_sqft.cost_per_sq)\n",
    "x.set(xlim=(0,10000))\n",
    "\n",
    "np.percentile(non_zero_sqft.cost_per_sq,[3,4,5,6,7,8,9,10])\n"
   ]
  },
  {
   "cell_type": "markdown",
   "metadata": {},
   "source": [
    "There are some data which cost more than 100000USD per sqft, which is not reasonable, by printing out these data, I realized that is because of the noise of gross_sqft, how to combine and filter land sqft and gross sqft will be the next mission."
   ]
  },
  {
   "cell_type": "code",
   "execution_count": 59,
   "metadata": {
    "scrolled": true
   },
   "outputs": [
    {
     "data": {
      "text/html": [
       "<div>\n",
       "<style scoped>\n",
       "    .dataframe tbody tr th:only-of-type {\n",
       "        vertical-align: middle;\n",
       "    }\n",
       "\n",
       "    .dataframe tbody tr th {\n",
       "        vertical-align: top;\n",
       "    }\n",
       "\n",
       "    .dataframe thead th {\n",
       "        text-align: right;\n",
       "    }\n",
       "</style>\n",
       "<table border=\"1\" class=\"dataframe\">\n",
       "  <thead>\n",
       "    <tr style=\"text-align: right;\">\n",
       "      <th></th>\n",
       "      <th>borough</th>\n",
       "      <th>neighborhood</th>\n",
       "      <th>building_class_category</th>\n",
       "      <th>tax_class_at_present</th>\n",
       "      <th>block</th>\n",
       "      <th>lot</th>\n",
       "      <th>easement</th>\n",
       "      <th>building_class_at_present</th>\n",
       "      <th>address</th>\n",
       "      <th>apartment_number</th>\n",
       "      <th>zip_code</th>\n",
       "      <th>residential_units</th>\n",
       "      <th>commercial_units</th>\n",
       "      <th>total_units</th>\n",
       "      <th>land_square_feet</th>\n",
       "      <th>gross_square_feet</th>\n",
       "      <th>year_built</th>\n",
       "      <th>tax_class_at_time_of_sale</th>\n",
       "      <th>building_class_at_time_of_sale</th>\n",
       "      <th>sale_price</th>\n",
       "      <th>sale_date</th>\n",
       "      <th>cost_per_sq</th>\n",
       "    </tr>\n",
       "  </thead>\n",
       "  <tbody>\n",
       "    <tr>\n",
       "      <th>130520</th>\n",
       "      <td>3</td>\n",
       "      <td>midwood</td>\n",
       "      <td>05  TAX CLASS 1 VACANT LAND</td>\n",
       "      <td>1</td>\n",
       "      <td>7628</td>\n",
       "      <td>16</td>\n",
       "      <td></td>\n",
       "      <td>B3</td>\n",
       "      <td>1171 EAST 28TH STREET</td>\n",
       "      <td></td>\n",
       "      <td>11210.0</td>\n",
       "      <td>2</td>\n",
       "      <td>0</td>\n",
       "      <td>2</td>\n",
       "      <td>6667.0</td>\n",
       "      <td>1.0</td>\n",
       "      <td>1940.0</td>\n",
       "      <td>1</td>\n",
       "      <td>V0</td>\n",
       "      <td>1810000.0</td>\n",
       "      <td>11/14/14</td>\n",
       "      <td>1810000.0</td>\n",
       "    </tr>\n",
       "    <tr>\n",
       "      <th>211732</th>\n",
       "      <td>4</td>\n",
       "      <td>richmond_hill</td>\n",
       "      <td>02  TWO FAMILY DWELLINGS</td>\n",
       "      <td>1</td>\n",
       "      <td>9417</td>\n",
       "      <td>42</td>\n",
       "      <td></td>\n",
       "      <td>B1</td>\n",
       "      <td>97-30 116 STREET</td>\n",
       "      <td></td>\n",
       "      <td>11419.0</td>\n",
       "      <td>2</td>\n",
       "      <td>0</td>\n",
       "      <td>2</td>\n",
       "      <td>2785.0</td>\n",
       "      <td>1.0</td>\n",
       "      <td>2010.0</td>\n",
       "      <td>1</td>\n",
       "      <td>B1</td>\n",
       "      <td>260000.0</td>\n",
       "      <td>6/28/13</td>\n",
       "      <td>260000.0</td>\n",
       "    </tr>\n",
       "    <tr>\n",
       "      <th>214277</th>\n",
       "      <td>4</td>\n",
       "      <td>st_albans</td>\n",
       "      <td>41  TAX CLASS 4 - OTHER</td>\n",
       "      <td>4</td>\n",
       "      <td>12406</td>\n",
       "      <td>122</td>\n",
       "      <td></td>\n",
       "      <td>Z9</td>\n",
       "      <td>116-21 MERRICK BOULEVARD</td>\n",
       "      <td></td>\n",
       "      <td>11434.0</td>\n",
       "      <td>0</td>\n",
       "      <td>0</td>\n",
       "      <td>0</td>\n",
       "      <td>6871.0</td>\n",
       "      <td>1.0</td>\n",
       "      <td>2005.0</td>\n",
       "      <td>4</td>\n",
       "      <td>Z9</td>\n",
       "      <td>160000.0</td>\n",
       "      <td>3/5/13</td>\n",
       "      <td>160000.0</td>\n",
       "    </tr>\n",
       "    <tr>\n",
       "      <th>222206</th>\n",
       "      <td>4</td>\n",
       "      <td>forest_hills</td>\n",
       "      <td>01  ONE FAMILY DWELLINGS</td>\n",
       "      <td>1</td>\n",
       "      <td>2193</td>\n",
       "      <td>42</td>\n",
       "      <td></td>\n",
       "      <td>A5</td>\n",
       "      <td>110-45 68TH   ROAD</td>\n",
       "      <td></td>\n",
       "      <td>11375.0</td>\n",
       "      <td>1</td>\n",
       "      <td>0</td>\n",
       "      <td>1</td>\n",
       "      <td>6242.0</td>\n",
       "      <td>1.0</td>\n",
       "      <td>2009.0</td>\n",
       "      <td>1</td>\n",
       "      <td>A5</td>\n",
       "      <td>1350000.0</td>\n",
       "      <td>1/13/14</td>\n",
       "      <td>1350000.0</td>\n",
       "    </tr>\n",
       "    <tr>\n",
       "      <th>226310</th>\n",
       "      <td>4</td>\n",
       "      <td>little_neck</td>\n",
       "      <td>01  ONE FAMILY DWELLINGS</td>\n",
       "      <td>1</td>\n",
       "      <td>8340</td>\n",
       "      <td>71</td>\n",
       "      <td></td>\n",
       "      <td>A1</td>\n",
       "      <td>56-15 251ST STREET</td>\n",
       "      <td></td>\n",
       "      <td>11362.0</td>\n",
       "      <td>1</td>\n",
       "      <td>0</td>\n",
       "      <td>1</td>\n",
       "      <td>5429.0</td>\n",
       "      <td>2.0</td>\n",
       "      <td>1945.0</td>\n",
       "      <td>1</td>\n",
       "      <td>A1</td>\n",
       "      <td>345000.0</td>\n",
       "      <td>6/2/14</td>\n",
       "      <td>172500.0</td>\n",
       "    </tr>\n",
       "    <tr>\n",
       "      <th>230853</th>\n",
       "      <td>4</td>\n",
       "      <td>south_jamaica</td>\n",
       "      <td>03  THREE FAMILY DWELLINGS</td>\n",
       "      <td>1</td>\n",
       "      <td>10238</td>\n",
       "      <td>53</td>\n",
       "      <td></td>\n",
       "      <td>C0</td>\n",
       "      <td>169-01 107TH   AVENUE</td>\n",
       "      <td></td>\n",
       "      <td>11433.0</td>\n",
       "      <td>3</td>\n",
       "      <td>0</td>\n",
       "      <td>3</td>\n",
       "      <td>16000.0</td>\n",
       "      <td>1.0</td>\n",
       "      <td>2008.0</td>\n",
       "      <td>1</td>\n",
       "      <td>C0</td>\n",
       "      <td>710000.0</td>\n",
       "      <td>9/12/14</td>\n",
       "      <td>710000.0</td>\n",
       "    </tr>\n",
       "    <tr>\n",
       "      <th>249053</th>\n",
       "      <td>4</td>\n",
       "      <td>south_jamaica</td>\n",
       "      <td>03  THREE FAMILY DWELLINGS</td>\n",
       "      <td>1</td>\n",
       "      <td>10238</td>\n",
       "      <td>53</td>\n",
       "      <td></td>\n",
       "      <td>C0</td>\n",
       "      <td>169-01 107TH   AVENUE</td>\n",
       "      <td></td>\n",
       "      <td>11433.0</td>\n",
       "      <td>3</td>\n",
       "      <td>0</td>\n",
       "      <td>3</td>\n",
       "      <td>16000.0</td>\n",
       "      <td>1.0</td>\n",
       "      <td>2008.0</td>\n",
       "      <td>1</td>\n",
       "      <td>C0</td>\n",
       "      <td>999000.0</td>\n",
       "      <td>4/24/15</td>\n",
       "      <td>999000.0</td>\n",
       "    </tr>\n",
       "    <tr>\n",
       "      <th>269926</th>\n",
       "      <td>4</td>\n",
       "      <td>astoria</td>\n",
       "      <td>02 TWO FAMILY DWELLINGS</td>\n",
       "      <td>1</td>\n",
       "      <td>511</td>\n",
       "      <td>22</td>\n",
       "      <td></td>\n",
       "      <td>B1</td>\n",
       "      <td>12-02 27TH AVENUE</td>\n",
       "      <td></td>\n",
       "      <td>11102.0</td>\n",
       "      <td>2</td>\n",
       "      <td>0</td>\n",
       "      <td>2</td>\n",
       "      <td>4290.0</td>\n",
       "      <td>1.0</td>\n",
       "      <td>2015.0</td>\n",
       "      <td>1</td>\n",
       "      <td>B1</td>\n",
       "      <td>1425550.0</td>\n",
       "      <td>12/11/17</td>\n",
       "      <td>1425550.0</td>\n",
       "    </tr>\n",
       "    <tr>\n",
       "      <th>298867</th>\n",
       "      <td>4</td>\n",
       "      <td>jamaica</td>\n",
       "      <td>41 TAX CLASS 4 - OTHER</td>\n",
       "      <td>4</td>\n",
       "      <td>9796</td>\n",
       "      <td>63</td>\n",
       "      <td>NaN</td>\n",
       "      <td>Z2</td>\n",
       "      <td>90-02 168TH STREET</td>\n",
       "      <td>NaN</td>\n",
       "      <td>11432.0</td>\n",
       "      <td>0</td>\n",
       "      <td>1</td>\n",
       "      <td>1</td>\n",
       "      <td>99500.0</td>\n",
       "      <td>40.0</td>\n",
       "      <td>0.0</td>\n",
       "      <td>4</td>\n",
       "      <td>Z2</td>\n",
       "      <td>20500000.0</td>\n",
       "      <td>12/27/18</td>\n",
       "      <td>512500.0</td>\n",
       "    </tr>\n",
       "    <tr>\n",
       "      <th>352427</th>\n",
       "      <td>5</td>\n",
       "      <td>arrochar</td>\n",
       "      <td>01  ONE FAMILY DWELLINGS</td>\n",
       "      <td>1</td>\n",
       "      <td>3103</td>\n",
       "      <td>1</td>\n",
       "      <td></td>\n",
       "      <td>A1</td>\n",
       "      <td>105 HASTINGS STREET</td>\n",
       "      <td></td>\n",
       "      <td>10305.0</td>\n",
       "      <td>\\t1</td>\n",
       "      <td>\\t-</td>\n",
       "      <td>\\t1</td>\n",
       "      <td>6000.0</td>\n",
       "      <td>2.0</td>\n",
       "      <td>2006.0</td>\n",
       "      <td>1</td>\n",
       "      <td>A1</td>\n",
       "      <td>385000.0</td>\n",
       "      <td>2/16/2016</td>\n",
       "      <td>192500.0</td>\n",
       "    </tr>\n",
       "  </tbody>\n",
       "</table>\n",
       "</div>"
      ],
      "text/plain": [
       "        borough   neighborhood                       building_class_category  \\\n",
       "130520        3        midwood  05  TAX CLASS 1 VACANT LAND                    \n",
       "211732        4  richmond_hill  02  TWO FAMILY DWELLINGS                       \n",
       "214277        4      st_albans  41  TAX CLASS 4 - OTHER                        \n",
       "222206        4   forest_hills  01  ONE FAMILY DWELLINGS                       \n",
       "226310        4    little_neck  01  ONE FAMILY DWELLINGS                       \n",
       "230853        4  south_jamaica  03  THREE FAMILY DWELLINGS                     \n",
       "249053        4  south_jamaica  03  THREE FAMILY DWELLINGS                     \n",
       "269926        4        astoria   02 TWO FAMILY DWELLINGS                       \n",
       "298867        4        jamaica                        41 TAX CLASS 4 - OTHER   \n",
       "352427        5       arrochar  01  ONE FAMILY DWELLINGS                       \n",
       "\n",
       "       tax_class_at_present  block  lot easement building_class_at_present  \\\n",
       "130520                    1   7628   16                                 B3   \n",
       "211732                    1   9417   42                                 B1   \n",
       "214277                    4  12406  122                                 Z9   \n",
       "222206                    1   2193   42                                 A5   \n",
       "226310                    1   8340   71                                 A1   \n",
       "230853                    1  10238   53                                 C0   \n",
       "249053                    1  10238   53                                 C0   \n",
       "269926                    1    511   22                                 B1   \n",
       "298867                    4   9796   63      NaN                        Z2   \n",
       "352427                    1   3103    1                                 A1   \n",
       "\n",
       "                                          address apartment_number  zip_code  \\\n",
       "130520  1171 EAST 28TH STREET                                        11210.0   \n",
       "211732  97-30 116 STREET                                             11419.0   \n",
       "214277  116-21 MERRICK BOULEVARD                                     11434.0   \n",
       "222206  110-45 68TH   ROAD                                           11375.0   \n",
       "226310  56-15 251ST STREET                                           11362.0   \n",
       "230853  169-01 107TH   AVENUE                                        11433.0   \n",
       "249053  169-01 107TH   AVENUE                                        11433.0   \n",
       "269926                          12-02 27TH AVENUE                    11102.0   \n",
       "298867                         90-02 168TH STREET              NaN   11432.0   \n",
       "352427  105 HASTINGS STREET                                          10305.0   \n",
       "\n",
       "       residential_units commercial_units total_units  land_square_feet  \\\n",
       "130520                 2                0           2            6667.0   \n",
       "211732                 2                0           2            2785.0   \n",
       "214277                 0                0           0            6871.0   \n",
       "222206                 1                0           1            6242.0   \n",
       "226310                 1                0           1            5429.0   \n",
       "230853                 3                0           3           16000.0   \n",
       "249053                 3                0           3           16000.0   \n",
       "269926                 2                0           2            4290.0   \n",
       "298867                 0                1           1           99500.0   \n",
       "352427              \\t1            \\t-           \\t1             6000.0   \n",
       "\n",
       "        gross_square_feet  year_built  tax_class_at_time_of_sale  \\\n",
       "130520                1.0      1940.0                          1   \n",
       "211732                1.0      2010.0                          1   \n",
       "214277                1.0      2005.0                          4   \n",
       "222206                1.0      2009.0                          1   \n",
       "226310                2.0      1945.0                          1   \n",
       "230853                1.0      2008.0                          1   \n",
       "249053                1.0      2008.0                          1   \n",
       "269926                1.0      2015.0                          1   \n",
       "298867               40.0         0.0                          4   \n",
       "352427                2.0      2006.0                          1   \n",
       "\n",
       "       building_class_at_time_of_sale  sale_price  sale_date  cost_per_sq  \n",
       "130520                             V0   1810000.0   11/14/14    1810000.0  \n",
       "211732                             B1    260000.0    6/28/13     260000.0  \n",
       "214277                             Z9    160000.0     3/5/13     160000.0  \n",
       "222206                             A5   1350000.0    1/13/14    1350000.0  \n",
       "226310                             A1    345000.0     6/2/14     172500.0  \n",
       "230853                             C0    710000.0    9/12/14     710000.0  \n",
       "249053                             C0    999000.0    4/24/15     999000.0  \n",
       "269926                             B1   1425550.0   12/11/17    1425550.0  \n",
       "298867                             Z2  20500000.0   12/27/18     512500.0  \n",
       "352427                             A1    385000.0  2/16/2016     192500.0  "
      ]
     },
     "execution_count": 59,
     "metadata": {},
     "output_type": "execute_result"
    }
   ],
   "source": [
    "non_zero_sqft[(non_zero_sqft.cost_per_sq >= 100000)]"
   ]
  },
  {
   "cell_type": "markdown",
   "metadata": {},
   "source": [
    "## 2.6 building_class_category, tax_class_at_time_of_sale, tax_class_at_present,  building_class_at_time_of_sale, building_class_at_present\n",
    "\n",
    "* Condo -- buy a house, more expensive, you own what you own. \n",
    "\n",
    "* Coop  -- buy a share from the company who owns the building, chearper price, 75% of NYC house market(we can check later), strict rental condition, high maintanace fee."
   ]
  },
  {
   "cell_type": "code",
   "execution_count": 60,
   "metadata": {},
   "outputs": [],
   "source": [
    "dtype={'land_square_feet': int}\n",
    "dtype={'gross_square_feet': int}\n",
    "dtype={'year_built': int}"
   ]
  },
  {
   "cell_type": "code",
   "execution_count": 61,
   "metadata": {
    "scrolled": true
   },
   "outputs": [],
   "source": [
    "# WHY?\n",
    "nyc5 = pd.read_csv('data/NYC/nyc4.csv', index_col=False)"
   ]
  },
  {
   "cell_type": "code",
   "execution_count": 62,
   "metadata": {},
   "outputs": [],
   "source": [
    "# Change square_feet to sqft\n",
    "nyc5.columns = ['borough', 'neighborhood', 'building_class_category',\n",
    "       'tax_class_at_present', 'block', 'lot', 'easement',\n",
    "       'building_class_at_present', 'address', 'apartment_number', 'zip_code',\n",
    "       'residential_units', 'commercial_units', 'total_units',\n",
    "       'land_sqft', 'gross_sqft', 'year_built',\n",
    "       'tax_class_at_time_of_sale', 'building_class_at_time_of_sale',\n",
    "       'sale_price', 'sale_date']"
   ]
  },
  {
   "cell_type": "code",
   "execution_count": 63,
   "metadata": {},
   "outputs": [
    {
     "name": "stdout",
     "output_type": "stream",
     "text": [
      "<class 'pandas.core.frame.DataFrame'>\n",
      "RangeIndex: 371250 entries, 0 to 371249\n",
      "Data columns (total 21 columns):\n",
      "borough                           371250 non-null int64\n",
      "neighborhood                      371250 non-null object\n",
      "building_class_category           371250 non-null object\n",
      "tax_class_at_present              371209 non-null object\n",
      "block                             371250 non-null int64\n",
      "lot                               371250 non-null int64\n",
      "easement                          312951 non-null object\n",
      "building_class_at_present         371209 non-null object\n",
      "address                           371250 non-null object\n",
      "apartment_number                  325772 non-null object\n",
      "zip_code                          371248 non-null float64\n",
      "residential_units                 371209 non-null object\n",
      "commercial_units                  371209 non-null object\n",
      "total_units                       371209 non-null object\n",
      "land_sqft                         371209 non-null float64\n",
      "gross_sqft                        371209 non-null float64\n",
      "year_built                        371250 non-null float64\n",
      "tax_class_at_time_of_sale         371250 non-null int64\n",
      "building_class_at_time_of_sale    371250 non-null object\n",
      "sale_price                        371250 non-null float64\n",
      "sale_date                         371250 non-null object\n",
      "dtypes: float64(5), int64(4), object(12)\n",
      "memory usage: 59.5+ MB\n"
     ]
    }
   ],
   "source": [
    "nyc5.info()"
   ]
  },
  {
   "cell_type": "code",
   "execution_count": 64,
   "metadata": {},
   "outputs": [],
   "source": [
    "#nyc5.building_class_category.value_counts()"
   ]
  },
  {
   "cell_type": "markdown",
   "metadata": {},
   "source": []
  },
  {
   "cell_type": "markdown",
   "metadata": {},
   "source": [
    "### 2.6.1 Building class Category:\n",
    "\n",
    "This is a field that we are including so that users of the Rolling Sales Files can easily\n",
    "identify similar properties by broad usage (e.g. One Family Homes) without looking up\n",
    "individual Building Classes. Files are sorted by Borough, Neighborhood, Building Class\n",
    "Category, Block and Lot.\n",
    "\n",
    "* Format this column"
   ]
  },
  {
   "cell_type": "code",
   "execution_count": 65,
   "metadata": {},
   "outputs": [],
   "source": [
    "nyc5.building_class_category = nyc5.building_class_category.str.replace(' - ','_')\n",
    "nyc5.building_class_category = nyc5.building_class_category.str.replace('  ',' ')\n",
    "nyc5.building_class_category = nyc5.building_class_category.str.strip()\n",
    "nyc5.building_class_category = nyc5.building_class_category.str.replace(' ','_')\n",
    "nyc5.building_class_category = nyc5.building_class_category.str.replace('-','_')\n",
    "nyc5.building_class_category = nyc5.building_class_category.str.replace('/','_')\n",
    "nyc5.building_class_category = nyc5.building_class_category.str.lower()"
   ]
  },
  {
   "cell_type": "code",
   "execution_count": 66,
   "metadata": {
    "scrolled": true
   },
   "outputs": [],
   "source": [
    "# nyc5.building_class_category.value_counts()"
   ]
  },
  {
   "cell_type": "code",
   "execution_count": 67,
   "metadata": {},
   "outputs": [],
   "source": [
    "# uni = nyc5.building_class_category.unique()\n",
    "# uni.sort()\n",
    "# uni"
   ]
  },
  {
   "cell_type": "markdown",
   "metadata": {},
   "source": [
    "### 2.6.2 Building Class:\n",
    "\n",
    "The Building Classification is used to describe a property’s constructive use. The first\n",
    "position of the Building Class is a letter that is used to describe a general class of\n",
    "properties (for example “A” signifies one-family homes, “O” signifies office buildings. “R”\n",
    "signifies condominiums). The second position, a number, adds more specific information\n",
    "about the property’s use or construction style (using our previous examples “A0” is a Cape\n",
    "Cod style one family home, “O4” is a tower type office building and “R5” is a commercial\n",
    "condominium unit). The term Building Class as used by the Department of Finance is\n",
    "interchangeable with the term Building Code as used by the Department of Buildings. "
   ]
  },
  {
   "cell_type": "markdown",
   "metadata": {},
   "source": [
    "#### 2.6.2.1 building_class_at_time_of_sale:"
   ]
  },
  {
   "cell_type": "code",
   "execution_count": 68,
   "metadata": {},
   "outputs": [],
   "source": [
    "# clean column\n",
    "# nyc5.building_class_at_time_of_sale.value_counts()"
   ]
  },
  {
   "cell_type": "markdown",
   "metadata": {},
   "source": [
    "#### 2.6.2.2 building_class_at_present:"
   ]
  },
  {
   "cell_type": "code",
   "execution_count": 69,
   "metadata": {},
   "outputs": [],
   "source": [
    "# First trying to groupby and see if there is any relationship between tax class \n",
    "# or building class, and forward fill & backward fill them, but so far cannot \n",
    "# find the relationship between them, going to put NaN in stead.\n",
    "\n",
    "# nyc5.building_class_at_present.unique()\n",
    "# nyc5[nyc5.building_class_at_present==' ']\n",
    "# tax_class_at_present_filling = nyc5.groupby(['tax_class_at_time_of_sale', 'building_class_category', 'block', 'lot', 'building_class_at_present', 'tax_class_at_present']).size().to_frame(name='count').reset_index()\n",
    "nyc5.building_class_at_present = nyc5.building_class_at_present.str.replace('  ', '0')\n",
    "nyc5.building_class_at_present = nyc5.building_class_at_present.str.replace(' ' , '0')"
   ]
  },
  {
   "cell_type": "code",
   "execution_count": 70,
   "metadata": {
    "scrolled": true
   },
   "outputs": [],
   "source": [
    "nyc5.building_class_at_present.fillna('0', inplace=True)"
   ]
  },
  {
   "cell_type": "code",
   "execution_count": 71,
   "metadata": {},
   "outputs": [],
   "source": [
    "# nyc5.building_class_at_present.unique()"
   ]
  },
  {
   "cell_type": "code",
   "execution_count": 72,
   "metadata": {},
   "outputs": [],
   "source": [
    "# nyc5.building_class_at_time_of_sale.value_counts()"
   ]
  },
  {
   "cell_type": "markdown",
   "metadata": {},
   "source": [
    "### 2.6.3 Tax Class:\n",
    "\n",
    "Every property in the city is assigned to one of four tax classes (Classes 1, 2, 3, and 4),\n",
    "based on the use of the property.\n",
    "\n",
    "* Class 1: Includes most residential property of up to three units (such as one-, two-, and three-family homes and small stores or offices with one or two attached apartments), vacant land that is zoned for residential use, and most condominiums that are not more than three stories.\n",
    "* Class 2: Includes all other property that is primarily residential, such as cooperatives and condominiums.\n",
    "* Class 3: Includes property with equipment owned by a gas, telephone or electric company.\n",
    "* Class 4: Includes all other properties not included in class 1,2, and 3, such as offices, factories, warehouses, garage buildings, etc. \n"
   ]
  },
  {
   "cell_type": "markdown",
   "metadata": {},
   "source": [
    "#### 2.6.3.1 tax_class_at_present:"
   ]
  },
  {
   "cell_type": "code",
   "execution_count": 73,
   "metadata": {},
   "outputs": [
    {
     "data": {
      "text/plain": [
       "2    182964\n",
       "1    161167\n",
       "4     27109\n",
       "3        10\n",
       "Name: tax_class_at_time_of_sale, dtype: int64"
      ]
     },
     "execution_count": 73,
     "metadata": {},
     "output_type": "execute_result"
    }
   ],
   "source": [
    "# It is a clean column\n",
    "nyc5.tax_class_at_time_of_sale.value_counts()"
   ]
  },
  {
   "cell_type": "markdown",
   "metadata": {},
   "source": [
    "#### 2.6.3.2 tax_class_at_present:"
   ]
  },
  {
   "cell_type": "code",
   "execution_count": 74,
   "metadata": {},
   "outputs": [],
   "source": [
    "# There are some missing values, gonna try using forward filling.\n",
    "\n",
    "# tax_class_at_present_filling = nyc5.groupby(['tax_class_at_time_of_sale', 'building_class_category', 'total_units', 'tax_class_at_present']).size().to_frame(name='count').reset_index()\n",
    "# tax_class_at_present_filling\n",
    "nyc5.tax_class_at_present = nyc5.tax_class_at_present.str.replace('  ', '0')\n",
    "nyc5.tax_class_at_present = nyc5.tax_class_at_present.str.replace(' ' , '0')\n",
    "nyc5.tax_class_at_present.fillna('0', inplace=True)"
   ]
  },
  {
   "cell_type": "code",
   "execution_count": 75,
   "metadata": {},
   "outputs": [
    {
     "data": {
      "text/plain": [
       "array(['1', '1C', '2A', '2B', '2', '2C', '4', '0', '1A', '1B', '3', '1D'],\n",
       "      dtype=object)"
      ]
     },
     "execution_count": 75,
     "metadata": {},
     "output_type": "execute_result"
    }
   ],
   "source": [
    "nyc5.tax_class_at_present.unique()"
   ]
  },
  {
   "cell_type": "code",
   "execution_count": 76,
   "metadata": {},
   "outputs": [],
   "source": [
    "# nyc5.building_class_at_time_of_sale.value_counts()"
   ]
  },
  {
   "cell_type": "code",
   "execution_count": 77,
   "metadata": {},
   "outputs": [],
   "source": [
    "# tax1 = test[test.tax_class_at_time_of_sale==1]\n",
    "# tax2 = test[test.tax_class_at_time_of_sale==2]\n",
    "# tax3 = test[test.tax_class_at_time_of_sale==3]\n",
    "# tax4 = test[test.tax_class_at_time_of_sale==4]"
   ]
  },
  {
   "cell_type": "code",
   "execution_count": 78,
   "metadata": {
    "scrolled": true
   },
   "outputs": [],
   "source": [
    "# tax2.tax_class_at_present.unique()"
   ]
  },
  {
   "cell_type": "code",
   "execution_count": 79,
   "metadata": {},
   "outputs": [],
   "source": [
    "# tax3.tax_class_at_present.unique()"
   ]
  },
  {
   "cell_type": "code",
   "execution_count": 80,
   "metadata": {
    "scrolled": true
   },
   "outputs": [],
   "source": [
    "# tax4.tax_class_at_present.unique()"
   ]
  },
  {
   "cell_type": "code",
   "execution_count": 81,
   "metadata": {},
   "outputs": [],
   "source": [
    "# tax1.building_class_category.unique()"
   ]
  },
  {
   "cell_type": "code",
   "execution_count": 82,
   "metadata": {},
   "outputs": [],
   "source": [
    "# tax2.building_class_category.unique()"
   ]
  },
  {
   "cell_type": "code",
   "execution_count": 83,
   "metadata": {},
   "outputs": [],
   "source": [
    "# tax3.building_class_category.unique()"
   ]
  },
  {
   "cell_type": "code",
   "execution_count": 84,
   "metadata": {},
   "outputs": [],
   "source": [
    "# tax4.building_class_category.unique()"
   ]
  },
  {
   "cell_type": "code",
   "execution_count": 85,
   "metadata": {},
   "outputs": [],
   "source": [
    "# tax1.building_class_at_time_of_sale.unique()"
   ]
  },
  {
   "cell_type": "code",
   "execution_count": 86,
   "metadata": {},
   "outputs": [],
   "source": [
    "# tax2.building_class_at_time_of_sale.unique()"
   ]
  },
  {
   "cell_type": "code",
   "execution_count": 87,
   "metadata": {},
   "outputs": [],
   "source": [
    "# tax3.building_class_at_time_of_sale.unique()"
   ]
  },
  {
   "cell_type": "code",
   "execution_count": 88,
   "metadata": {},
   "outputs": [],
   "source": [
    "# tax4.building_class_at_time_of_sale.unique()"
   ]
  },
  {
   "cell_type": "code",
   "execution_count": 89,
   "metadata": {},
   "outputs": [
    {
     "name": "stdout",
     "output_type": "stream",
     "text": [
      "<class 'pandas.core.frame.DataFrame'>\n",
      "RangeIndex: 371250 entries, 0 to 371249\n",
      "Data columns (total 21 columns):\n",
      "borough                           371250 non-null int64\n",
      "neighborhood                      371250 non-null object\n",
      "building_class_category           371250 non-null object\n",
      "tax_class_at_present              371250 non-null object\n",
      "block                             371250 non-null int64\n",
      "lot                               371250 non-null int64\n",
      "easement                          312951 non-null object\n",
      "building_class_at_present         371250 non-null object\n",
      "address                           371250 non-null object\n",
      "apartment_number                  325772 non-null object\n",
      "zip_code                          371248 non-null float64\n",
      "residential_units                 371209 non-null object\n",
      "commercial_units                  371209 non-null object\n",
      "total_units                       371209 non-null object\n",
      "land_sqft                         371209 non-null float64\n",
      "gross_sqft                        371209 non-null float64\n",
      "year_built                        371250 non-null float64\n",
      "tax_class_at_time_of_sale         371250 non-null int64\n",
      "building_class_at_time_of_sale    371250 non-null object\n",
      "sale_price                        371250 non-null float64\n",
      "sale_date                         371250 non-null object\n",
      "dtypes: float64(5), int64(4), object(12)\n",
      "memory usage: 59.5+ MB\n"
     ]
    }
   ],
   "source": [
    "nyc5.info()"
   ]
  },
  {
   "cell_type": "markdown",
   "metadata": {},
   "source": [
    "## 2.7 lot, block"
   ]
  },
  {
   "cell_type": "markdown",
   "metadata": {},
   "source": [
    "### 2.7.1 lot:\n",
    "A Tax Lot is a subdivision of a Tax Block and represents the property unique location."
   ]
  },
  {
   "cell_type": "code",
   "execution_count": 90,
   "metadata": {
    "scrolled": true
   },
   "outputs": [],
   "source": [
    "# This column is clean\n",
    "# nyc5.lot.unique()\n",
    "# nyc5[nyc5.lot.isnull()]"
   ]
  },
  {
   "cell_type": "markdown",
   "metadata": {},
   "source": [
    "### 2.7.2 block:\n",
    "A Tax Block is a sub-division of the borough on which real properties are located.\n",
    "The Department of Finance uses a Borough-Block-Lot classification to label all real\n",
    "property in the City. “Whereas” addresses describe the street location of a property, the\n",
    "block and lot distinguishes one unit of real property from another, such as the different\n",
    "condominiums in a single building. Also, block and lots are not subject to name changes\n",
    "based on which side of the parcel the building puts its entrance on. "
   ]
  },
  {
   "cell_type": "code",
   "execution_count": 91,
   "metadata": {},
   "outputs": [],
   "source": [
    "# This column is clean\n",
    "# nyc5.block.unique()\n",
    "# nyc5[nyc5.block.isnull()]"
   ]
  },
  {
   "cell_type": "code",
   "execution_count": 92,
   "metadata": {},
   "outputs": [],
   "source": [
    "nyc5.to_csv('data/NYC/nyc5.csv', index=False)"
   ]
  },
  {
   "cell_type": "code",
   "execution_count": 93,
   "metadata": {},
   "outputs": [],
   "source": [
    "nyc6 = pd.read_csv('data/NYC/nyc5.csv', index_col=False) "
   ]
  },
  {
   "cell_type": "markdown",
   "metadata": {},
   "source": [
    "## 2.8 address , apartment_number, zip_code"
   ]
  },
  {
   "cell_type": "markdown",
   "metadata": {},
   "source": [
    "### 2.8.1 address:\n",
    "The street address of the property as listed on the Sales File. Coop sales\n",
    "include the apartment number in the address field. "
   ]
  },
  {
   "cell_type": "code",
   "execution_count": 94,
   "metadata": {},
   "outputs": [],
   "source": [
    "nyc6.address = nyc6.address.str.replace('-','_')\n",
    "nyc6.address = nyc6.address.str.strip()\n",
    "nyc6.address = nyc6.address.str.replace('/','_')\n",
    "nyc6.address = nyc6.address.str.replace('.','')\n",
    "nyc6.address = nyc6.address.str.replace(',','_')\n",
    "nyc6.address = nyc6.address.str.replace(' ','_')\n",
    "nyc6.address = nyc6.address.str.replace('__','_')\n",
    "nyc6.address = nyc6.address.str.replace('___','_')\n",
    "nyc6.address = nyc6.address.str.lower()"
   ]
  },
  {
   "cell_type": "code",
   "execution_count": 95,
   "metadata": {},
   "outputs": [],
   "source": [
    "# nyc6.address.value_counts()"
   ]
  },
  {
   "cell_type": "markdown",
   "metadata": {},
   "source": [
    "### 2.8.2 apartment_number"
   ]
  },
  {
   "cell_type": "code",
   "execution_count": 96,
   "metadata": {},
   "outputs": [],
   "source": [
    "nyc6.apartment_number = nyc6.apartment_number.replace('            ','0')\n",
    "nyc6.apartment_number = nyc6.apartment_number.replace(' ','0')\n",
    "nyc6.apartment_number = nyc6.apartment_number.str.rstrip()\n",
    "nyc6.apartment_number = nyc6.apartment_number.str.replace('/','_')\n",
    "nyc6.apartment_number = nyc6.apartment_number.str.replace('-','_')\n",
    "nyc6.apartment_number = nyc6.apartment_number.str.replace(',','_')\n",
    "nyc6.apartment_number = nyc6.apartment_number.str.replace(' ','_')\n",
    "nyc6.apartment_number = nyc6.apartment_number.str.replace('`','_')\n",
    "nyc6.apartment_number = nyc6.apartment_number.str.replace('.','')\n",
    "nyc6.apartment_number = nyc6.apartment_number.replace('_','0')"
   ]
  },
  {
   "cell_type": "code",
   "execution_count": 97,
   "metadata": {},
   "outputs": [],
   "source": [
    "nyc6.apartment_number = nyc6.apartment_number.str.lower()"
   ]
  },
  {
   "cell_type": "code",
   "execution_count": 98,
   "metadata": {
    "scrolled": true
   },
   "outputs": [],
   "source": [
    "nyc6.apartment_number.fillna('0', inplace=True)"
   ]
  },
  {
   "cell_type": "code",
   "execution_count": 99,
   "metadata": {},
   "outputs": [],
   "source": [
    "# nyc6.apartment_number.value_counts()"
   ]
  },
  {
   "cell_type": "markdown",
   "metadata": {},
   "source": [
    "### 2.8.2 zip_code:\n",
    "The property’s postal code "
   ]
  },
  {
   "cell_type": "code",
   "execution_count": 100,
   "metadata": {},
   "outputs": [],
   "source": [
    "nyc6.zip_code.fillna('0', inplace=True)"
   ]
  },
  {
   "cell_type": "code",
   "execution_count": 101,
   "metadata": {
    "scrolled": true
   },
   "outputs": [],
   "source": [
    "# nyc6.info()"
   ]
  },
  {
   "cell_type": "code",
   "execution_count": 102,
   "metadata": {
    "scrolled": true
   },
   "outputs": [],
   "source": [
    "nyc6.to_csv('data/NYC/nyc6.csv', index=False)"
   ]
  },
  {
   "cell_type": "code",
   "execution_count": 103,
   "metadata": {},
   "outputs": [],
   "source": [
    "nyc7 = pd.read_csv('data/NYC/nyc6.csv', index_col=False)"
   ]
  },
  {
   "cell_type": "markdown",
   "metadata": {},
   "source": [
    "## 2.9 residential_units, commercial_units, total_units \n",
    "For the columns organzied above(except gross sqft, land sqft), the columns do not contain value 0, so nan are replaced with value 0. Here columns(residential_units, commercial_units, total_units) + columns(gross sqft, land sqft) originally have 0 value, but since the 0 value in there is same as NaN, so going to first fill the NaN with 0 in these five columns. "
   ]
  },
  {
   "cell_type": "markdown",
   "metadata": {},
   "source": [
    "### 2.9.1 residential_units:"
   ]
  },
  {
   "cell_type": "code",
   "execution_count": 104,
   "metadata": {
    "scrolled": true
   },
   "outputs": [
    {
     "data": {
      "text/plain": [
       "41"
      ]
     },
     "execution_count": 104,
     "metadata": {},
     "output_type": "execute_result"
    }
   ],
   "source": [
    "nyc7.residential_units.isnull().sum()"
   ]
  },
  {
   "cell_type": "code",
   "execution_count": 105,
   "metadata": {},
   "outputs": [
    {
     "data": {
      "text/plain": [
       "int"
      ]
     },
     "execution_count": 105,
     "metadata": {},
     "output_type": "execute_result"
    }
   ],
   "source": [
    "type(nyc7.residential_units.iloc[98304])"
   ]
  },
  {
   "cell_type": "code",
   "execution_count": 106,
   "metadata": {},
   "outputs": [],
   "source": [
    "# nyc7.residential_units.value_counts()"
   ]
  },
  {
   "cell_type": "code",
   "execution_count": 107,
   "metadata": {},
   "outputs": [],
   "source": [
    "# nyc7.residential_units.head(50)"
   ]
  },
  {
   "cell_type": "markdown",
   "metadata": {},
   "source": [
    "If I do not turn this column into str in the first place, later when use the str.replace, the null value will increase to 76000+, they turn some of the 0 value into null with no reason, so have to save this column into string first"
   ]
  },
  {
   "cell_type": "code",
   "execution_count": 108,
   "metadata": {},
   "outputs": [],
   "source": [
    "nyc7.residential_units = nyc7.residential_units.astype(str)"
   ]
  },
  {
   "cell_type": "code",
   "execution_count": 109,
   "metadata": {},
   "outputs": [
    {
     "data": {
      "text/plain": [
       "0"
      ]
     },
     "execution_count": 109,
     "metadata": {},
     "output_type": "execute_result"
    }
   ],
   "source": [
    "nyc7.residential_units.isnull().sum()"
   ]
  },
  {
   "cell_type": "code",
   "execution_count": 110,
   "metadata": {},
   "outputs": [
    {
     "data": {
      "text/plain": [
       "0"
      ]
     },
     "execution_count": 110,
     "metadata": {},
     "output_type": "execute_result"
    }
   ],
   "source": [
    "nyc7.residential_units = nyc7.residential_units.replace('\\t', '')\n",
    "nyc7.residential_units = nyc7.residential_units.str.strip()\n",
    "nyc7.residential_units = nyc7.residential_units.replace('-', '0')\n",
    "nyc7.residential_units = nyc7.residential_units.str.replace(',','')\n",
    "nyc7.residential_units = nyc7.residential_units.replace('nan','0')\n",
    "\n",
    "\n",
    "nyc7.residential_units.isnull().sum()"
   ]
  },
  {
   "cell_type": "code",
   "execution_count": 111,
   "metadata": {},
   "outputs": [],
   "source": [
    "nyc7.residential_units = nyc7.residential_units.astype(float).astype(int)"
   ]
  },
  {
   "cell_type": "code",
   "execution_count": 112,
   "metadata": {},
   "outputs": [],
   "source": [
    "# type(nyc7.residential_units.iloc[98304])"
   ]
  },
  {
   "cell_type": "code",
   "execution_count": 113,
   "metadata": {},
   "outputs": [],
   "source": [
    "# nyc7.residential_units.iloc[98304]"
   ]
  },
  {
   "cell_type": "code",
   "execution_count": 114,
   "metadata": {},
   "outputs": [],
   "source": [
    "# nyc7.residential_units.value_counts()"
   ]
  },
  {
   "cell_type": "markdown",
   "metadata": {},
   "source": [
    "### 2.9.2 Commercial_units"
   ]
  },
  {
   "cell_type": "code",
   "execution_count": 115,
   "metadata": {},
   "outputs": [],
   "source": [
    "nyc7.commercial_units = nyc7.commercial_units.astype(str)"
   ]
  },
  {
   "cell_type": "code",
   "execution_count": 116,
   "metadata": {},
   "outputs": [
    {
     "data": {
      "text/plain": [
       "0"
      ]
     },
     "execution_count": 116,
     "metadata": {},
     "output_type": "execute_result"
    }
   ],
   "source": [
    "nyc7.commercial_units.isnull().sum()"
   ]
  },
  {
   "cell_type": "code",
   "execution_count": 117,
   "metadata": {},
   "outputs": [
    {
     "data": {
      "text/plain": [
       "0"
      ]
     },
     "execution_count": 117,
     "metadata": {},
     "output_type": "execute_result"
    }
   ],
   "source": [
    "nyc7.commercial_units = nyc7.commercial_units.replace('\\t', '')\n",
    "nyc7.commercial_units = nyc7.commercial_units.str.strip()\n",
    "nyc7.commercial_units = nyc7.commercial_units.replace('-', '0')\n",
    "nyc7.commercial_units = nyc7.commercial_units.str.replace(',','')\n",
    "nyc7.commercial_units = nyc7.commercial_units.replace('nan','0')\n",
    "\n",
    "\n",
    "nyc7.commercial_units.isnull().sum()"
   ]
  },
  {
   "cell_type": "code",
   "execution_count": 118,
   "metadata": {},
   "outputs": [],
   "source": [
    "nyc7.commercial_units = nyc7.commercial_units.astype(float).astype(int)"
   ]
  },
  {
   "cell_type": "markdown",
   "metadata": {},
   "source": [
    "### 2.9.3 Total_units"
   ]
  },
  {
   "cell_type": "code",
   "execution_count": 119,
   "metadata": {},
   "outputs": [],
   "source": [
    "nyc7.total_units = nyc7.total_units.astype(str)"
   ]
  },
  {
   "cell_type": "code",
   "execution_count": 120,
   "metadata": {},
   "outputs": [
    {
     "data": {
      "text/plain": [
       "0"
      ]
     },
     "execution_count": 120,
     "metadata": {},
     "output_type": "execute_result"
    }
   ],
   "source": [
    "nyc7.total_units.isnull().sum()"
   ]
  },
  {
   "cell_type": "code",
   "execution_count": 121,
   "metadata": {},
   "outputs": [
    {
     "data": {
      "text/plain": [
       "0"
      ]
     },
     "execution_count": 121,
     "metadata": {},
     "output_type": "execute_result"
    }
   ],
   "source": [
    "nyc7.total_units = nyc7.total_units.replace('\\t', '')\n",
    "nyc7.total_units = nyc7.total_units.str.strip()\n",
    "nyc7.total_units = nyc7.total_units.replace('-', '0')\n",
    "nyc7.total_units = nyc7.total_units.str.replace(',','')\n",
    "nyc7.total_units = nyc7.total_units.replace('nan','0')\n",
    "\n",
    "\n",
    "nyc7.total_units.isnull().sum()"
   ]
  },
  {
   "cell_type": "code",
   "execution_count": 122,
   "metadata": {},
   "outputs": [],
   "source": [
    "nyc7.total_units = nyc7.total_units.astype(float).astype(int)"
   ]
  },
  {
   "cell_type": "code",
   "execution_count": 123,
   "metadata": {},
   "outputs": [],
   "source": [
    "# nyc7.total_units.value_counts()"
   ]
  },
  {
   "cell_type": "code",
   "execution_count": 124,
   "metadata": {},
   "outputs": [],
   "source": [
    "# Stop point for testing set"
   ]
  },
  {
   "cell_type": "markdown",
   "metadata": {},
   "source": [
    "## 2.9.4 Drop rows that do not add up:"
   ]
  },
  {
   "cell_type": "code",
   "execution_count": 125,
   "metadata": {
    "scrolled": true
   },
   "outputs": [
    {
     "data": {
      "application/vnd.jupyter.widget-view+json": {
       "model_id": "3d05730ff4564dd8b7ea669ba9c608b1",
       "version_major": 2,
       "version_minor": 0
      },
      "text/plain": [
       "HBox(children=(IntProgress(value=0, max=371250), HTML(value='')))"
      ]
     },
     "metadata": {},
     "output_type": "display_data"
    },
    {
     "name": "stdout",
     "output_type": "stream",
     "text": [
      "\n"
     ]
    }
   ],
   "source": [
    "# By grouping and observation, we realize some rows which \n",
    "# residential_units + commercial_units != total_units\n",
    "# And the counts with these do not add up are small\n",
    "\n",
    "adds_up = []\n",
    "\n",
    "rct = nyc7.groupby(['residential_units', 'commercial_units', 'total_units']).size().to_frame(name='count').reset_index()\n",
    "len(rct)\n",
    "\n",
    "for i in tqdm(range(0, len(nyc7))):\n",
    "    if nyc7.residential_units.iloc[i] + nyc7.commercial_units.iloc[i] == nyc7.total_units.iloc[i]:\n",
    "        adds_up.append(i)"
   ]
  },
  {
   "cell_type": "code",
   "execution_count": 126,
   "metadata": {},
   "outputs": [],
   "source": [
    "nyc7 = nyc7.iloc[adds_up]"
   ]
  },
  {
   "cell_type": "code",
   "execution_count": 127,
   "metadata": {},
   "outputs": [],
   "source": [
    "# len(adds_up)\n",
    "# rct = nyc7.groupby(['residential_units', 'commercial_units', 'total_units']).size().to_frame(name='count').reset_index()"
   ]
  },
  {
   "cell_type": "markdown",
   "metadata": {},
   "source": [
    "## 2.9.5 Fill in 0 for null value in gross_sqft, land_sqft"
   ]
  },
  {
   "cell_type": "code",
   "execution_count": 128,
   "metadata": {},
   "outputs": [],
   "source": [
    "nyc7.land_sqft.fillna('0', inplace=True)"
   ]
  },
  {
   "cell_type": "code",
   "execution_count": 129,
   "metadata": {},
   "outputs": [],
   "source": [
    "nyc7.gross_sqft.fillna('0', inplace=True)"
   ]
  },
  {
   "cell_type": "code",
   "execution_count": 130,
   "metadata": {},
   "outputs": [],
   "source": [
    "nyc7.to_csv('data/NYC/nyc7.csv', index=False)"
   ]
  },
  {
   "cell_type": "code",
   "execution_count": 131,
   "metadata": {},
   "outputs": [
    {
     "name": "stderr",
     "output_type": "stream",
     "text": [
      "/Users/justin/anaconda3/lib/python3.7/site-packages/IPython/core/interactiveshell.py:3049: DtypeWarning: Columns (6) have mixed types. Specify dtype option on import or set low_memory=False.\n",
      "  interactivity=interactivity, compiler=compiler, result=result)\n"
     ]
    }
   ],
   "source": [
    "nyc8 = pd.read_csv('data/NYC/nyc7.csv', index_col=False)"
   ]
  },
  {
   "cell_type": "code",
   "execution_count": 132,
   "metadata": {},
   "outputs": [],
   "source": [
    "# nyc8.info()"
   ]
  },
  {
   "cell_type": "markdown",
   "metadata": {},
   "source": [
    "## 2.10 Easement, sale_date"
   ]
  },
  {
   "cell_type": "markdown",
   "metadata": {},
   "source": [
    "### 2.10.1 Easement:\n",
    "\n",
    "An easement is a right, such as a right of way, which allows an entity to make limited use of another’s real property. For example: MTA railroad tracks that run across a portion of another property. "
   ]
  },
  {
   "cell_type": "code",
   "execution_count": 133,
   "metadata": {},
   "outputs": [
    {
     "data": {
      "text/plain": [
       "     302732\n",
       "E         1\n",
       "Name: easement, dtype: int64"
      ]
     },
     "execution_count": 133,
     "metadata": {},
     "output_type": "execute_result"
    }
   ],
   "source": [
    "nyc8.easement.value_counts()"
   ]
  },
  {
   "cell_type": "code",
   "execution_count": 134,
   "metadata": {},
   "outputs": [
    {
     "data": {
      "text/html": [
       "<div>\n",
       "<style scoped>\n",
       "    .dataframe tbody tr th:only-of-type {\n",
       "        vertical-align: middle;\n",
       "    }\n",
       "\n",
       "    .dataframe tbody tr th {\n",
       "        vertical-align: top;\n",
       "    }\n",
       "\n",
       "    .dataframe thead th {\n",
       "        text-align: right;\n",
       "    }\n",
       "</style>\n",
       "<table border=\"1\" class=\"dataframe\">\n",
       "  <thead>\n",
       "    <tr style=\"text-align: right;\">\n",
       "      <th></th>\n",
       "      <th>borough</th>\n",
       "      <th>neighborhood</th>\n",
       "      <th>building_class_category</th>\n",
       "      <th>tax_class_at_present</th>\n",
       "      <th>block</th>\n",
       "      <th>lot</th>\n",
       "      <th>easement</th>\n",
       "      <th>building_class_at_present</th>\n",
       "      <th>address</th>\n",
       "      <th>apartment_number</th>\n",
       "      <th>zip_code</th>\n",
       "      <th>residential_units</th>\n",
       "      <th>commercial_units</th>\n",
       "      <th>total_units</th>\n",
       "      <th>land_sqft</th>\n",
       "      <th>gross_sqft</th>\n",
       "      <th>year_built</th>\n",
       "      <th>tax_class_at_time_of_sale</th>\n",
       "      <th>building_class_at_time_of_sale</th>\n",
       "      <th>sale_price</th>\n",
       "      <th>sale_date</th>\n",
       "    </tr>\n",
       "  </thead>\n",
       "  <tbody>\n",
       "    <tr>\n",
       "      <th>338201</th>\n",
       "      <td>5</td>\n",
       "      <td>huguenot</td>\n",
       "      <td>41_tax_class_4_other</td>\n",
       "      <td>4</td>\n",
       "      <td>6821</td>\n",
       "      <td>61</td>\n",
       "      <td>E</td>\n",
       "      <td>Z7</td>\n",
       "      <td>90_west_terrace</td>\n",
       "      <td>0</td>\n",
       "      <td>10312.0</td>\n",
       "      <td>0</td>\n",
       "      <td>0</td>\n",
       "      <td>0</td>\n",
       "      <td>1000.0</td>\n",
       "      <td>0.0</td>\n",
       "      <td>0.0</td>\n",
       "      <td>4</td>\n",
       "      <td>Z7</td>\n",
       "      <td>5000.0</td>\n",
       "      <td>8/20/15</td>\n",
       "    </tr>\n",
       "  </tbody>\n",
       "</table>\n",
       "</div>"
      ],
      "text/plain": [
       "        borough neighborhood building_class_category tax_class_at_present  \\\n",
       "338201        5     huguenot    41_tax_class_4_other                    4   \n",
       "\n",
       "        block  lot easement building_class_at_present          address  \\\n",
       "338201   6821   61        E                        Z7  90_west_terrace   \n",
       "\n",
       "       apartment_number  zip_code  residential_units  commercial_units  \\\n",
       "338201                0   10312.0                  0                 0   \n",
       "\n",
       "        total_units  land_sqft  gross_sqft  year_built  \\\n",
       "338201            0     1000.0         0.0         0.0   \n",
       "\n",
       "        tax_class_at_time_of_sale building_class_at_time_of_sale  sale_price  \\\n",
       "338201                          4                             Z7      5000.0   \n",
       "\n",
       "       sale_date  \n",
       "338201   8/20/15  "
      ]
     },
     "execution_count": 134,
     "metadata": {},
     "output_type": "execute_result"
    }
   ],
   "source": [
    "nyc8[nyc8.easement=='E']"
   ]
  },
  {
   "cell_type": "markdown",
   "metadata": {},
   "source": [
    "Since the easement column is not really useful in this case, I am just going to drop the whole column."
   ]
  },
  {
   "cell_type": "code",
   "execution_count": 135,
   "metadata": {},
   "outputs": [],
   "source": [
    "nyc9 = nyc8.drop('easement', axis=1)"
   ]
  },
  {
   "cell_type": "markdown",
   "metadata": {},
   "source": [
    "### 2.10.2 Sale_date:"
   ]
  },
  {
   "cell_type": "code",
   "execution_count": 136,
   "metadata": {},
   "outputs": [],
   "source": [
    "# nyc9.info()"
   ]
  },
  {
   "cell_type": "markdown",
   "metadata": {},
   "source": [
    "what is a good format of time to do ML, and plotting?"
   ]
  },
  {
   "cell_type": "code",
   "execution_count": 137,
   "metadata": {
    "scrolled": true
   },
   "outputs": [
    {
     "data": {
      "text/plain": [
       "str"
      ]
     },
     "execution_count": 137,
     "metadata": {},
     "output_type": "execute_result"
    }
   ],
   "source": [
    "type(nyc9.sale_date.iloc[1])"
   ]
  },
  {
   "cell_type": "markdown",
   "metadata": {},
   "source": [
    "format them into datetime format: "
   ]
  },
  {
   "cell_type": "code",
   "execution_count": 138,
   "metadata": {},
   "outputs": [
    {
     "data": {
      "text/html": [
       "<div>\n",
       "<style scoped>\n",
       "    .dataframe tbody tr th:only-of-type {\n",
       "        vertical-align: middle;\n",
       "    }\n",
       "\n",
       "    .dataframe tbody tr th {\n",
       "        vertical-align: top;\n",
       "    }\n",
       "\n",
       "    .dataframe thead th {\n",
       "        text-align: right;\n",
       "    }\n",
       "</style>\n",
       "<table border=\"1\" class=\"dataframe\">\n",
       "  <thead>\n",
       "    <tr style=\"text-align: right;\">\n",
       "      <th></th>\n",
       "      <th>borough</th>\n",
       "      <th>neighborhood</th>\n",
       "      <th>building_class_category</th>\n",
       "      <th>tax_class_at_present</th>\n",
       "      <th>block</th>\n",
       "      <th>lot</th>\n",
       "      <th>building_class_at_present</th>\n",
       "      <th>address</th>\n",
       "      <th>apartment_number</th>\n",
       "      <th>zip_code</th>\n",
       "      <th>residential_units</th>\n",
       "      <th>commercial_units</th>\n",
       "      <th>total_units</th>\n",
       "      <th>land_sqft</th>\n",
       "      <th>gross_sqft</th>\n",
       "      <th>year_built</th>\n",
       "      <th>tax_class_at_time_of_sale</th>\n",
       "      <th>building_class_at_time_of_sale</th>\n",
       "      <th>sale_price</th>\n",
       "      <th>sale_date</th>\n",
       "    </tr>\n",
       "  </thead>\n",
       "  <tbody>\n",
       "    <tr>\n",
       "      <th>0</th>\n",
       "      <td>1</td>\n",
       "      <td>alphabet_city</td>\n",
       "      <td>02_two_family_dwellings</td>\n",
       "      <td>1</td>\n",
       "      <td>375</td>\n",
       "      <td>41</td>\n",
       "      <td>S2</td>\n",
       "      <td>65_avenue_d</td>\n",
       "      <td>0</td>\n",
       "      <td>10009.0</td>\n",
       "      <td>2</td>\n",
       "      <td>1</td>\n",
       "      <td>3</td>\n",
       "      <td>1614.0</td>\n",
       "      <td>3040.0</td>\n",
       "      <td>1899.0</td>\n",
       "      <td>1</td>\n",
       "      <td>S2</td>\n",
       "      <td>1560000.0</td>\n",
       "      <td>7/18/13</td>\n",
       "    </tr>\n",
       "    <tr>\n",
       "      <th>1</th>\n",
       "      <td>1</td>\n",
       "      <td>alphabet_city</td>\n",
       "      <td>03_three_family_dwellings</td>\n",
       "      <td>1</td>\n",
       "      <td>377</td>\n",
       "      <td>66</td>\n",
       "      <td>C0</td>\n",
       "      <td>243_east_7th__street</td>\n",
       "      <td>0</td>\n",
       "      <td>10009.0</td>\n",
       "      <td>3</td>\n",
       "      <td>0</td>\n",
       "      <td>3</td>\n",
       "      <td>2381.0</td>\n",
       "      <td>3084.0</td>\n",
       "      <td>1899.0</td>\n",
       "      <td>1</td>\n",
       "      <td>C0</td>\n",
       "      <td>3150000.0</td>\n",
       "      <td>3/6/13</td>\n",
       "    </tr>\n",
       "    <tr>\n",
       "      <th>2</th>\n",
       "      <td>1</td>\n",
       "      <td>alphabet_city</td>\n",
       "      <td>04_tax_class_1_condos</td>\n",
       "      <td>1C</td>\n",
       "      <td>399</td>\n",
       "      <td>1102</td>\n",
       "      <td>R6</td>\n",
       "      <td>238_east_4th__street</td>\n",
       "      <td>0</td>\n",
       "      <td>10009.0</td>\n",
       "      <td>1</td>\n",
       "      <td>0</td>\n",
       "      <td>1</td>\n",
       "      <td>0.0</td>\n",
       "      <td>0.0</td>\n",
       "      <td>1955.0</td>\n",
       "      <td>1</td>\n",
       "      <td>R6</td>\n",
       "      <td>3450000.0</td>\n",
       "      <td>3/27/13</td>\n",
       "    </tr>\n",
       "    <tr>\n",
       "      <th>3</th>\n",
       "      <td>1</td>\n",
       "      <td>alphabet_city</td>\n",
       "      <td>07_rentals_walkup_apartments</td>\n",
       "      <td>2A</td>\n",
       "      <td>376</td>\n",
       "      <td>26</td>\n",
       "      <td>C3</td>\n",
       "      <td>268_east_7th_street</td>\n",
       "      <td>0</td>\n",
       "      <td>10009.0</td>\n",
       "      <td>4</td>\n",
       "      <td>0</td>\n",
       "      <td>4</td>\n",
       "      <td>2065.0</td>\n",
       "      <td>3491.0</td>\n",
       "      <td>1900.0</td>\n",
       "      <td>2</td>\n",
       "      <td>C3</td>\n",
       "      <td>3650100.0</td>\n",
       "      <td>8/23/13</td>\n",
       "    </tr>\n",
       "    <tr>\n",
       "      <th>4</th>\n",
       "      <td>1</td>\n",
       "      <td>alphabet_city</td>\n",
       "      <td>07_rentals_walkup_apartments</td>\n",
       "      <td>2B</td>\n",
       "      <td>385</td>\n",
       "      <td>1</td>\n",
       "      <td>C7</td>\n",
       "      <td>17_avenue_b</td>\n",
       "      <td>0</td>\n",
       "      <td>10009.0</td>\n",
       "      <td>7</td>\n",
       "      <td>1</td>\n",
       "      <td>8</td>\n",
       "      <td>2093.0</td>\n",
       "      <td>5852.0</td>\n",
       "      <td>1997.0</td>\n",
       "      <td>2</td>\n",
       "      <td>C7</td>\n",
       "      <td>283.0</td>\n",
       "      <td>4/18/13</td>\n",
       "    </tr>\n",
       "  </tbody>\n",
       "</table>\n",
       "</div>"
      ],
      "text/plain": [
       "   borough   neighborhood       building_class_category tax_class_at_present  \\\n",
       "0        1  alphabet_city       02_two_family_dwellings                    1   \n",
       "1        1  alphabet_city     03_three_family_dwellings                    1   \n",
       "2        1  alphabet_city         04_tax_class_1_condos                   1C   \n",
       "3        1  alphabet_city  07_rentals_walkup_apartments                   2A   \n",
       "4        1  alphabet_city  07_rentals_walkup_apartments                   2B   \n",
       "\n",
       "   block   lot building_class_at_present               address  \\\n",
       "0    375    41                        S2           65_avenue_d   \n",
       "1    377    66                        C0  243_east_7th__street   \n",
       "2    399  1102                        R6  238_east_4th__street   \n",
       "3    376    26                        C3   268_east_7th_street   \n",
       "4    385     1                        C7           17_avenue_b   \n",
       "\n",
       "  apartment_number  zip_code  residential_units  commercial_units  \\\n",
       "0                0   10009.0                  2                 1   \n",
       "1                0   10009.0                  3                 0   \n",
       "2                0   10009.0                  1                 0   \n",
       "3                0   10009.0                  4                 0   \n",
       "4                0   10009.0                  7                 1   \n",
       "\n",
       "   total_units  land_sqft  gross_sqft  year_built  tax_class_at_time_of_sale  \\\n",
       "0            3     1614.0      3040.0      1899.0                          1   \n",
       "1            3     2381.0      3084.0      1899.0                          1   \n",
       "2            1        0.0         0.0      1955.0                          1   \n",
       "3            4     2065.0      3491.0      1900.0                          2   \n",
       "4            8     2093.0      5852.0      1997.0                          2   \n",
       "\n",
       "  building_class_at_time_of_sale  sale_price sale_date  \n",
       "0                             S2   1560000.0   7/18/13  \n",
       "1                             C0   3150000.0    3/6/13  \n",
       "2                             R6   3450000.0   3/27/13  \n",
       "3                             C3   3650100.0   8/23/13  \n",
       "4                             C7       283.0   4/18/13  "
      ]
     },
     "execution_count": 138,
     "metadata": {},
     "output_type": "execute_result"
    }
   ],
   "source": [
    "# pd.set_option('display.max_rows', None)\n",
    "\n",
    "nyc9.sale_date.str.replace('2016', '16')\n",
    "nyc9.head()"
   ]
  },
  {
   "cell_type": "code",
   "execution_count": 139,
   "metadata": {},
   "outputs": [
    {
     "name": "stdout",
     "output_type": "stream",
     "text": [
      "<class 'pandas.core.frame.DataFrame'>\n",
      "RangeIndex: 360854 entries, 0 to 360853\n",
      "Data columns (total 20 columns):\n",
      "borough                           360854 non-null int64\n",
      "neighborhood                      360854 non-null object\n",
      "building_class_category           360854 non-null object\n",
      "tax_class_at_present              360854 non-null object\n",
      "block                             360854 non-null int64\n",
      "lot                               360854 non-null int64\n",
      "building_class_at_present         360854 non-null object\n",
      "address                           360854 non-null object\n",
      "apartment_number                  360854 non-null object\n",
      "zip_code                          360854 non-null float64\n",
      "residential_units                 360854 non-null int64\n",
      "commercial_units                  360854 non-null int64\n",
      "total_units                       360854 non-null int64\n",
      "land_sqft                         360854 non-null float64\n",
      "gross_sqft                        360854 non-null float64\n",
      "year_built                        360854 non-null float64\n",
      "tax_class_at_time_of_sale         360854 non-null int64\n",
      "building_class_at_time_of_sale    360854 non-null object\n",
      "sale_price                        360854 non-null float64\n",
      "sale_date                         360854 non-null datetime64[ns]\n",
      "dtypes: datetime64[ns](1), float64(5), int64(7), object(7)\n",
      "memory usage: 55.1+ MB\n"
     ]
    }
   ],
   "source": [
    "nyc9.sale_date= pd.to_datetime(nyc9.sale_date) \n",
    "  \n",
    "nyc9.info() "
   ]
  },
  {
   "cell_type": "markdown",
   "metadata": {},
   "source": [
    "## 2.10 Some thoughts before dropping rows or columns:\n",
    "For those with square feet = 0, if I dropped these rows, there will only be half of the data left, so my current strategy is:\n",
    "\n",
    "* First of all, if one rows have more than half of the features that I think will affect the price is missing, drop them.\n",
    "\n",
    "* Then, prepare 3 dataset, one keep all the NaN, one turns NaN to 0, one drop them all. See which one perform better in ML."
   ]
  },
  {
   "cell_type": "markdown",
   "metadata": {},
   "source": [
    "## 2.10.1 nyc9 is a dataframe with all the missing value been placed as 0"
   ]
  },
  {
   "cell_type": "code",
   "execution_count": 140,
   "metadata": {},
   "outputs": [],
   "source": [
    "nyc9.to_csv('data/NYC/nyc9.csv', index=False)"
   ]
  },
  {
   "cell_type": "code",
   "execution_count": 141,
   "metadata": {},
   "outputs": [],
   "source": [
    "# nyc9.to_csv('data/NYC/nyc_train_and_test.csv', index=False)"
   ]
  },
  {
   "cell_type": "code",
   "execution_count": 142,
   "metadata": {},
   "outputs": [],
   "source": [
    "# Stop point for testing set"
   ]
  },
  {
   "cell_type": "markdown",
   "metadata": {},
   "source": [
    "## 2.10.2 nyc10 is a dataframe with all the 0 in certain columns been drop, for plotting and ML purpose."
   ]
  },
  {
   "cell_type": "markdown",
   "metadata": {},
   "source": [
    "Now, for plotting purpose, going to drop all the zero value row for plotting purpose, will first start with year_built, gross_sqft, land_sqft"
   ]
  },
  {
   "cell_type": "code",
   "execution_count": 143,
   "metadata": {},
   "outputs": [],
   "source": [
    "to_clean = pd.read_csv('data/NYC/nyc9.csv', index_col=False)"
   ]
  },
  {
   "cell_type": "code",
   "execution_count": 144,
   "metadata": {},
   "outputs": [],
   "source": [
    "clean_year = to_clean[to_clean.year_built != 0]"
   ]
  },
  {
   "cell_type": "code",
   "execution_count": 145,
   "metadata": {},
   "outputs": [],
   "source": [
    "clean_land_sqft = clean_year[clean_year.land_sqft != 0]"
   ]
  },
  {
   "cell_type": "code",
   "execution_count": 146,
   "metadata": {},
   "outputs": [],
   "source": [
    "clean_gross_sqft = clean_land_sqft[clean_land_sqft.gross_sqft != 0]"
   ]
  },
  {
   "cell_type": "markdown",
   "metadata": {},
   "source": [
    "After dropping 0 in year, land_sqft, gross_sqft, there are no 0 in column tax_class_at_present, building_class_at_present, address, apartment number"
   ]
  },
  {
   "cell_type": "code",
   "execution_count": 147,
   "metadata": {},
   "outputs": [],
   "source": [
    "# Drop the thirty 0 in zip_code:\n",
    "clean_zip_code = clean_gross_sqft[clean_gross_sqft.zip_code != 0]"
   ]
  },
  {
   "cell_type": "markdown",
   "metadata": {},
   "source": [
    "Since total_units = residential_units + commercial_units, so here going to only drop the 0 in total_units"
   ]
  },
  {
   "cell_type": "code",
   "execution_count": 148,
   "metadata": {},
   "outputs": [],
   "source": [
    "clean_total_units = clean_zip_code[clean_zip_code.total_units != 0]"
   ]
  },
  {
   "cell_type": "code",
   "execution_count": 149,
   "metadata": {
    "scrolled": true
   },
   "outputs": [
    {
     "name": "stdout",
     "output_type": "stream",
     "text": [
      "<class 'pandas.core.frame.DataFrame'>\n",
      "Int64Index: 184822 entries, 0 to 360853\n",
      "Data columns (total 20 columns):\n",
      "borough                           184822 non-null int64\n",
      "neighborhood                      184822 non-null object\n",
      "building_class_category           184822 non-null object\n",
      "tax_class_at_present              184822 non-null object\n",
      "block                             184822 non-null int64\n",
      "lot                               184822 non-null int64\n",
      "building_class_at_present         184822 non-null object\n",
      "address                           184822 non-null object\n",
      "apartment_number                  184822 non-null object\n",
      "zip_code                          184822 non-null float64\n",
      "residential_units                 184822 non-null int64\n",
      "commercial_units                  184822 non-null int64\n",
      "total_units                       184822 non-null int64\n",
      "land_sqft                         184822 non-null float64\n",
      "gross_sqft                        184822 non-null float64\n",
      "year_built                        184822 non-null float64\n",
      "tax_class_at_time_of_sale         184822 non-null int64\n",
      "building_class_at_time_of_sale    184822 non-null object\n",
      "sale_price                        184822 non-null float64\n",
      "sale_date                         184822 non-null object\n",
      "dtypes: float64(5), int64(7), object(8)\n",
      "memory usage: 29.6+ MB\n"
     ]
    }
   ],
   "source": [
    "clean_total_units.info()"
   ]
  },
  {
   "cell_type": "code",
   "execution_count": 150,
   "metadata": {},
   "outputs": [],
   "source": [
    "clean_total_units.to_csv('data/NYC/nyc10.csv', index=False)"
   ]
  },
  {
   "cell_type": "markdown",
   "metadata": {},
   "source": [
    "## 2.10.3 nyc11 is to drop the rows which have more than half of the values in these columns(year_built, tax_class_at_present, building_class_at_present, land_sqft, gross_sqft, zip_code, apartment_number, total_units) == 0, since if we drop every rows that contain 0, there will only be half of the rows left."
   ]
  },
  {
   "cell_type": "code",
   "execution_count": 151,
   "metadata": {},
   "outputs": [],
   "source": [
    "find_zero = pd.read_csv('data/NYC/nyc9.csv', index_col=False)"
   ]
  },
  {
   "cell_type": "code",
   "execution_count": 152,
   "metadata": {
    "scrolled": true
   },
   "outputs": [
    {
     "data": {
      "text/html": [
       "<div>\n",
       "<style scoped>\n",
       "    .dataframe tbody tr th:only-of-type {\n",
       "        vertical-align: middle;\n",
       "    }\n",
       "\n",
       "    .dataframe tbody tr th {\n",
       "        vertical-align: top;\n",
       "    }\n",
       "\n",
       "    .dataframe thead th {\n",
       "        text-align: right;\n",
       "    }\n",
       "</style>\n",
       "<table border=\"1\" class=\"dataframe\">\n",
       "  <thead>\n",
       "    <tr style=\"text-align: right;\">\n",
       "      <th></th>\n",
       "      <th>year_built</th>\n",
       "      <th>tax_class_at_present</th>\n",
       "      <th>building_class_at_present</th>\n",
       "      <th>land_sqft</th>\n",
       "      <th>gross_sqft</th>\n",
       "      <th>zip_code</th>\n",
       "      <th>apartment_number</th>\n",
       "      <th>total_units</th>\n",
       "    </tr>\n",
       "  </thead>\n",
       "  <tbody>\n",
       "    <tr>\n",
       "      <th>0</th>\n",
       "      <td>1899.0</td>\n",
       "      <td>1</td>\n",
       "      <td>S2</td>\n",
       "      <td>1614.0</td>\n",
       "      <td>3040.0</td>\n",
       "      <td>10009.0</td>\n",
       "      <td>0</td>\n",
       "      <td>3</td>\n",
       "    </tr>\n",
       "    <tr>\n",
       "      <th>1</th>\n",
       "      <td>1899.0</td>\n",
       "      <td>1</td>\n",
       "      <td>C0</td>\n",
       "      <td>2381.0</td>\n",
       "      <td>3084.0</td>\n",
       "      <td>10009.0</td>\n",
       "      <td>0</td>\n",
       "      <td>3</td>\n",
       "    </tr>\n",
       "    <tr>\n",
       "      <th>2</th>\n",
       "      <td>1955.0</td>\n",
       "      <td>1C</td>\n",
       "      <td>R6</td>\n",
       "      <td>0.0</td>\n",
       "      <td>0.0</td>\n",
       "      <td>10009.0</td>\n",
       "      <td>0</td>\n",
       "      <td>1</td>\n",
       "    </tr>\n",
       "    <tr>\n",
       "      <th>3</th>\n",
       "      <td>1900.0</td>\n",
       "      <td>2A</td>\n",
       "      <td>C3</td>\n",
       "      <td>2065.0</td>\n",
       "      <td>3491.0</td>\n",
       "      <td>10009.0</td>\n",
       "      <td>0</td>\n",
       "      <td>4</td>\n",
       "    </tr>\n",
       "    <tr>\n",
       "      <th>4</th>\n",
       "      <td>1997.0</td>\n",
       "      <td>2B</td>\n",
       "      <td>C7</td>\n",
       "      <td>2093.0</td>\n",
       "      <td>5852.0</td>\n",
       "      <td>10009.0</td>\n",
       "      <td>0</td>\n",
       "      <td>8</td>\n",
       "    </tr>\n",
       "  </tbody>\n",
       "</table>\n",
       "</div>"
      ],
      "text/plain": [
       "   year_built tax_class_at_present building_class_at_present  land_sqft  \\\n",
       "0      1899.0                    1                        S2     1614.0   \n",
       "1      1899.0                    1                        C0     2381.0   \n",
       "2      1955.0                   1C                        R6        0.0   \n",
       "3      1900.0                   2A                        C3     2065.0   \n",
       "4      1997.0                   2B                        C7     2093.0   \n",
       "\n",
       "   gross_sqft  zip_code apartment_number  total_units  \n",
       "0      3040.0   10009.0                0            3  \n",
       "1      3084.0   10009.0                0            3  \n",
       "2         0.0   10009.0                0            1  \n",
       "3      3491.0   10009.0                0            4  \n",
       "4      5852.0   10009.0                0            8  "
      ]
     },
     "execution_count": 152,
     "metadata": {},
     "output_type": "execute_result"
    }
   ],
   "source": [
    "find_zero1 = find_zero[['year_built', 'tax_class_at_present', 'building_class_at_present', 'land_sqft', 'gross_sqft', 'zip_code', 'apartment_number', 'total_units']]\n",
    "\n",
    "find_zero1.head()"
   ]
  },
  {
   "cell_type": "code",
   "execution_count": 154,
   "metadata": {},
   "outputs": [
    {
     "data": {
      "text/html": [
       "<div>\n",
       "<style scoped>\n",
       "    .dataframe tbody tr th:only-of-type {\n",
       "        vertical-align: middle;\n",
       "    }\n",
       "\n",
       "    .dataframe tbody tr th {\n",
       "        vertical-align: top;\n",
       "    }\n",
       "\n",
       "    .dataframe thead th {\n",
       "        text-align: right;\n",
       "    }\n",
       "</style>\n",
       "<table border=\"1\" class=\"dataframe\">\n",
       "  <thead>\n",
       "    <tr style=\"text-align: right;\">\n",
       "      <th></th>\n",
       "      <th>year_built</th>\n",
       "      <th>tax_class_at_present</th>\n",
       "      <th>building_class_at_present</th>\n",
       "      <th>land_sqft</th>\n",
       "      <th>gross_sqft</th>\n",
       "      <th>zip_code</th>\n",
       "      <th>apartment_number</th>\n",
       "      <th>total_units</th>\n",
       "    </tr>\n",
       "  </thead>\n",
       "  <tbody>\n",
       "    <tr>\n",
       "      <th>0</th>\n",
       "      <td>False</td>\n",
       "      <td>False</td>\n",
       "      <td>False</td>\n",
       "      <td>False</td>\n",
       "      <td>False</td>\n",
       "      <td>False</td>\n",
       "      <td>False</td>\n",
       "      <td>False</td>\n",
       "    </tr>\n",
       "    <tr>\n",
       "      <th>1</th>\n",
       "      <td>False</td>\n",
       "      <td>False</td>\n",
       "      <td>False</td>\n",
       "      <td>False</td>\n",
       "      <td>False</td>\n",
       "      <td>False</td>\n",
       "      <td>False</td>\n",
       "      <td>False</td>\n",
       "    </tr>\n",
       "    <tr>\n",
       "      <th>2</th>\n",
       "      <td>False</td>\n",
       "      <td>False</td>\n",
       "      <td>False</td>\n",
       "      <td>True</td>\n",
       "      <td>True</td>\n",
       "      <td>False</td>\n",
       "      <td>False</td>\n",
       "      <td>False</td>\n",
       "    </tr>\n",
       "    <tr>\n",
       "      <th>3</th>\n",
       "      <td>False</td>\n",
       "      <td>False</td>\n",
       "      <td>False</td>\n",
       "      <td>False</td>\n",
       "      <td>False</td>\n",
       "      <td>False</td>\n",
       "      <td>False</td>\n",
       "      <td>False</td>\n",
       "    </tr>\n",
       "    <tr>\n",
       "      <th>4</th>\n",
       "      <td>False</td>\n",
       "      <td>False</td>\n",
       "      <td>False</td>\n",
       "      <td>False</td>\n",
       "      <td>False</td>\n",
       "      <td>False</td>\n",
       "      <td>False</td>\n",
       "      <td>False</td>\n",
       "    </tr>\n",
       "  </tbody>\n",
       "</table>\n",
       "</div>"
      ],
      "text/plain": [
       "   year_built  tax_class_at_present  building_class_at_present  land_sqft  \\\n",
       "0       False                 False                      False      False   \n",
       "1       False                 False                      False      False   \n",
       "2       False                 False                      False       True   \n",
       "3       False                 False                      False      False   \n",
       "4       False                 False                      False      False   \n",
       "\n",
       "   gross_sqft  zip_code  apartment_number  total_units  \n",
       "0       False     False             False        False  \n",
       "1       False     False             False        False  \n",
       "2        True     False             False        False  \n",
       "3       False     False             False        False  \n",
       "4       False     False             False        False  "
      ]
     },
     "execution_count": 154,
     "metadata": {},
     "output_type": "execute_result"
    }
   ],
   "source": [
    "(find_zero1 == 0).head()"
   ]
  },
  {
   "cell_type": "code",
   "execution_count": 155,
   "metadata": {},
   "outputs": [],
   "source": [
    "find_zero2 = (find_zero1 == 0).astype(int)"
   ]
  },
  {
   "cell_type": "code",
   "execution_count": 156,
   "metadata": {},
   "outputs": [
    {
     "data": {
      "text/html": [
       "<div>\n",
       "<style scoped>\n",
       "    .dataframe tbody tr th:only-of-type {\n",
       "        vertical-align: middle;\n",
       "    }\n",
       "\n",
       "    .dataframe tbody tr th {\n",
       "        vertical-align: top;\n",
       "    }\n",
       "\n",
       "    .dataframe thead th {\n",
       "        text-align: right;\n",
       "    }\n",
       "</style>\n",
       "<table border=\"1\" class=\"dataframe\">\n",
       "  <thead>\n",
       "    <tr style=\"text-align: right;\">\n",
       "      <th></th>\n",
       "      <th>year_built</th>\n",
       "      <th>tax_class_at_present</th>\n",
       "      <th>building_class_at_present</th>\n",
       "      <th>land_sqft</th>\n",
       "      <th>gross_sqft</th>\n",
       "      <th>zip_code</th>\n",
       "      <th>apartment_number</th>\n",
       "      <th>total_units</th>\n",
       "    </tr>\n",
       "  </thead>\n",
       "  <tbody>\n",
       "    <tr>\n",
       "      <th>0</th>\n",
       "      <td>0</td>\n",
       "      <td>0</td>\n",
       "      <td>0</td>\n",
       "      <td>0</td>\n",
       "      <td>0</td>\n",
       "      <td>0</td>\n",
       "      <td>0</td>\n",
       "      <td>0</td>\n",
       "    </tr>\n",
       "    <tr>\n",
       "      <th>1</th>\n",
       "      <td>0</td>\n",
       "      <td>0</td>\n",
       "      <td>0</td>\n",
       "      <td>0</td>\n",
       "      <td>0</td>\n",
       "      <td>0</td>\n",
       "      <td>0</td>\n",
       "      <td>0</td>\n",
       "    </tr>\n",
       "    <tr>\n",
       "      <th>2</th>\n",
       "      <td>0</td>\n",
       "      <td>0</td>\n",
       "      <td>0</td>\n",
       "      <td>1</td>\n",
       "      <td>1</td>\n",
       "      <td>0</td>\n",
       "      <td>0</td>\n",
       "      <td>0</td>\n",
       "    </tr>\n",
       "    <tr>\n",
       "      <th>3</th>\n",
       "      <td>0</td>\n",
       "      <td>0</td>\n",
       "      <td>0</td>\n",
       "      <td>0</td>\n",
       "      <td>0</td>\n",
       "      <td>0</td>\n",
       "      <td>0</td>\n",
       "      <td>0</td>\n",
       "    </tr>\n",
       "    <tr>\n",
       "      <th>4</th>\n",
       "      <td>0</td>\n",
       "      <td>0</td>\n",
       "      <td>0</td>\n",
       "      <td>0</td>\n",
       "      <td>0</td>\n",
       "      <td>0</td>\n",
       "      <td>0</td>\n",
       "      <td>0</td>\n",
       "    </tr>\n",
       "  </tbody>\n",
       "</table>\n",
       "</div>"
      ],
      "text/plain": [
       "   year_built  tax_class_at_present  building_class_at_present  land_sqft  \\\n",
       "0           0                     0                          0          0   \n",
       "1           0                     0                          0          0   \n",
       "2           0                     0                          0          1   \n",
       "3           0                     0                          0          0   \n",
       "4           0                     0                          0          0   \n",
       "\n",
       "   gross_sqft  zip_code  apartment_number  total_units  \n",
       "0           0         0                 0            0  \n",
       "1           0         0                 0            0  \n",
       "2           1         0                 0            0  \n",
       "3           0         0                 0            0  \n",
       "4           0         0                 0            0  "
      ]
     },
     "execution_count": 156,
     "metadata": {},
     "output_type": "execute_result"
    }
   ],
   "source": [
    "find_zero2.head()"
   ]
  },
  {
   "cell_type": "code",
   "execution_count": 157,
   "metadata": {},
   "outputs": [],
   "source": [
    "amount_of_zero = find_zero2.sum(axis=1)"
   ]
  },
  {
   "cell_type": "code",
   "execution_count": 158,
   "metadata": {},
   "outputs": [
    {
     "data": {
      "text/plain": [
       "0    0\n",
       "1    0\n",
       "2    2\n",
       "3    0\n",
       "4    0\n",
       "dtype: int64"
      ]
     },
     "execution_count": 158,
     "metadata": {},
     "output_type": "execute_result"
    }
   ],
   "source": [
    "amount_of_zero.head()"
   ]
  },
  {
   "cell_type": "code",
   "execution_count": 159,
   "metadata": {},
   "outputs": [],
   "source": [
    "find_zero2['amount_of_zero_in_row'] = amount_of_zero"
   ]
  },
  {
   "cell_type": "code",
   "execution_count": 160,
   "metadata": {},
   "outputs": [
    {
     "data": {
      "text/html": [
       "<div>\n",
       "<style scoped>\n",
       "    .dataframe tbody tr th:only-of-type {\n",
       "        vertical-align: middle;\n",
       "    }\n",
       "\n",
       "    .dataframe tbody tr th {\n",
       "        vertical-align: top;\n",
       "    }\n",
       "\n",
       "    .dataframe thead th {\n",
       "        text-align: right;\n",
       "    }\n",
       "</style>\n",
       "<table border=\"1\" class=\"dataframe\">\n",
       "  <thead>\n",
       "    <tr style=\"text-align: right;\">\n",
       "      <th></th>\n",
       "      <th>year_built</th>\n",
       "      <th>tax_class_at_present</th>\n",
       "      <th>building_class_at_present</th>\n",
       "      <th>land_sqft</th>\n",
       "      <th>gross_sqft</th>\n",
       "      <th>zip_code</th>\n",
       "      <th>apartment_number</th>\n",
       "      <th>total_units</th>\n",
       "      <th>amount_of_zero_in_row</th>\n",
       "    </tr>\n",
       "  </thead>\n",
       "  <tbody>\n",
       "    <tr>\n",
       "      <th>0</th>\n",
       "      <td>0</td>\n",
       "      <td>0</td>\n",
       "      <td>0</td>\n",
       "      <td>0</td>\n",
       "      <td>0</td>\n",
       "      <td>0</td>\n",
       "      <td>0</td>\n",
       "      <td>0</td>\n",
       "      <td>0</td>\n",
       "    </tr>\n",
       "    <tr>\n",
       "      <th>1</th>\n",
       "      <td>0</td>\n",
       "      <td>0</td>\n",
       "      <td>0</td>\n",
       "      <td>0</td>\n",
       "      <td>0</td>\n",
       "      <td>0</td>\n",
       "      <td>0</td>\n",
       "      <td>0</td>\n",
       "      <td>0</td>\n",
       "    </tr>\n",
       "    <tr>\n",
       "      <th>2</th>\n",
       "      <td>0</td>\n",
       "      <td>0</td>\n",
       "      <td>0</td>\n",
       "      <td>1</td>\n",
       "      <td>1</td>\n",
       "      <td>0</td>\n",
       "      <td>0</td>\n",
       "      <td>0</td>\n",
       "      <td>2</td>\n",
       "    </tr>\n",
       "    <tr>\n",
       "      <th>3</th>\n",
       "      <td>0</td>\n",
       "      <td>0</td>\n",
       "      <td>0</td>\n",
       "      <td>0</td>\n",
       "      <td>0</td>\n",
       "      <td>0</td>\n",
       "      <td>0</td>\n",
       "      <td>0</td>\n",
       "      <td>0</td>\n",
       "    </tr>\n",
       "    <tr>\n",
       "      <th>4</th>\n",
       "      <td>0</td>\n",
       "      <td>0</td>\n",
       "      <td>0</td>\n",
       "      <td>0</td>\n",
       "      <td>0</td>\n",
       "      <td>0</td>\n",
       "      <td>0</td>\n",
       "      <td>0</td>\n",
       "      <td>0</td>\n",
       "    </tr>\n",
       "  </tbody>\n",
       "</table>\n",
       "</div>"
      ],
      "text/plain": [
       "   year_built  tax_class_at_present  building_class_at_present  land_sqft  \\\n",
       "0           0                     0                          0          0   \n",
       "1           0                     0                          0          0   \n",
       "2           0                     0                          0          1   \n",
       "3           0                     0                          0          0   \n",
       "4           0                     0                          0          0   \n",
       "\n",
       "   gross_sqft  zip_code  apartment_number  total_units  amount_of_zero_in_row  \n",
       "0           0         0                 0            0                      0  \n",
       "1           0         0                 0            0                      0  \n",
       "2           1         0                 0            0                      2  \n",
       "3           0         0                 0            0                      0  \n",
       "4           0         0                 0            0                      0  "
      ]
     },
     "execution_count": 160,
     "metadata": {},
     "output_type": "execute_result"
    }
   ],
   "source": [
    "find_zero2.head()"
   ]
  },
  {
   "cell_type": "markdown",
   "metadata": {},
   "source": [
    "Since we have 8 features here, so I am now going to only keep index that have amount_of_zero_in_row <= 4"
   ]
  },
  {
   "cell_type": "code",
   "execution_count": 161,
   "metadata": {},
   "outputs": [
    {
     "data": {
      "application/vnd.jupyter.widget-view+json": {
       "model_id": "da5b00ced4cc45569717340b5a6615e8",
       "version_major": 2,
       "version_minor": 0
      },
      "text/plain": [
       "HBox(children=(IntProgress(value=0, max=360854), HTML(value='')))"
      ]
     },
     "metadata": {},
     "output_type": "display_data"
    },
    {
     "name": "stdout",
     "output_type": "stream",
     "text": [
      "\n"
     ]
    }
   ],
   "source": [
    "rows_to_keep = []\n",
    "\n",
    "for i in tqdm(range(0, len(find_zero2))):\n",
    "    if find_zero2.amount_of_zero_in_row.iloc[i] <= 4:\n",
    "        rows_to_keep.append(i)"
   ]
  },
  {
   "cell_type": "code",
   "execution_count": 162,
   "metadata": {},
   "outputs": [
    {
     "data": {
      "text/plain": [
       "360160"
      ]
     },
     "execution_count": 162,
     "metadata": {},
     "output_type": "execute_result"
    }
   ],
   "source": [
    "len(rows_to_keep)"
   ]
  },
  {
   "cell_type": "code",
   "execution_count": 163,
   "metadata": {},
   "outputs": [],
   "source": [
    "nyc11 = nyc9.iloc[rows_to_keep]"
   ]
  },
  {
   "cell_type": "code",
   "execution_count": 164,
   "metadata": {},
   "outputs": [
    {
     "name": "stdout",
     "output_type": "stream",
     "text": [
      "<class 'pandas.core.frame.DataFrame'>\n",
      "Int64Index: 360160 entries, 0 to 360853\n",
      "Data columns (total 20 columns):\n",
      "borough                           360160 non-null int64\n",
      "neighborhood                      360160 non-null object\n",
      "building_class_category           360160 non-null object\n",
      "tax_class_at_present              360160 non-null object\n",
      "block                             360160 non-null int64\n",
      "lot                               360160 non-null int64\n",
      "building_class_at_present         360160 non-null object\n",
      "address                           360160 non-null object\n",
      "apartment_number                  360160 non-null object\n",
      "zip_code                          360160 non-null float64\n",
      "residential_units                 360160 non-null int64\n",
      "commercial_units                  360160 non-null int64\n",
      "total_units                       360160 non-null int64\n",
      "land_sqft                         360160 non-null float64\n",
      "gross_sqft                        360160 non-null float64\n",
      "year_built                        360160 non-null float64\n",
      "tax_class_at_time_of_sale         360160 non-null int64\n",
      "building_class_at_time_of_sale    360160 non-null object\n",
      "sale_price                        360160 non-null float64\n",
      "sale_date                         360160 non-null datetime64[ns]\n",
      "dtypes: datetime64[ns](1), float64(5), int64(7), object(7)\n",
      "memory usage: 57.7+ MB\n"
     ]
    }
   ],
   "source": [
    "nyc11.info()"
   ]
  },
  {
   "cell_type": "code",
   "execution_count": 165,
   "metadata": {},
   "outputs": [],
   "source": [
    "nyc11.to_csv('data/NYC/nyc11.csv', index=False)"
   ]
  },
  {
   "cell_type": "markdown",
   "metadata": {},
   "source": [
    "## 2.10.4 nyc12 will be the dataset with all the 0 been replaced as NAN, see if xgboosting and LGBM boosting will generate with a better result."
   ]
  },
  {
   "cell_type": "code",
   "execution_count": 166,
   "metadata": {},
   "outputs": [],
   "source": [
    "to_nan = pd.read_csv('data/NYC/nyc11.csv', index_col=False)"
   ]
  },
  {
   "cell_type": "code",
   "execution_count": 167,
   "metadata": {},
   "outputs": [],
   "source": [
    "to_nan1 = to_nan.astype(str)\n",
    "to_nan2 = to_nan1.replace('0', np.nan)\n",
    "to_nan3 = to_nan2.replace('0.0', np.nan)"
   ]
  },
  {
   "cell_type": "code",
   "execution_count": 168,
   "metadata": {},
   "outputs": [
    {
     "name": "stdout",
     "output_type": "stream",
     "text": [
      "<class 'pandas.core.frame.DataFrame'>\n",
      "RangeIndex: 360160 entries, 0 to 360159\n",
      "Data columns (total 20 columns):\n",
      "borough                           360160 non-null object\n",
      "neighborhood                      360160 non-null object\n",
      "building_class_category           360160 non-null object\n",
      "tax_class_at_present              358020 non-null object\n",
      "block                             360160 non-null object\n",
      "lot                               360160 non-null object\n",
      "building_class_at_present         358020 non-null object\n",
      "address                           360160 non-null object\n",
      "apartment_number                  74435 non-null object\n",
      "zip_code                          359006 non-null object\n",
      "residential_units                 242178 non-null object\n",
      "commercial_units                  23429 non-null object\n",
      "total_units                       255191 non-null object\n",
      "land_sqft                         192266 non-null object\n",
      "gross_sqft                        192755 non-null object\n",
      "year_built                        334727 non-null object\n",
      "tax_class_at_time_of_sale         360160 non-null object\n",
      "building_class_at_time_of_sale    360160 non-null object\n",
      "sale_price                        360160 non-null object\n",
      "sale_date                         360160 non-null object\n",
      "dtypes: object(20)\n",
      "memory usage: 55.0+ MB\n"
     ]
    }
   ],
   "source": [
    "to_nan3.info()"
   ]
  },
  {
   "cell_type": "code",
   "execution_count": 169,
   "metadata": {},
   "outputs": [],
   "source": [
    "to_nan.to_csv('data/NYC/nyc12.csv', index=False)"
   ]
  },
  {
   "cell_type": "code",
   "execution_count": null,
   "metadata": {},
   "outputs": [],
   "source": []
  },
  {
   "cell_type": "code",
   "execution_count": null,
   "metadata": {},
   "outputs": [],
   "source": [
    "Stop point for training set"
   ]
  },
  {
   "cell_type": "markdown",
   "metadata": {},
   "source": [
    "# 3.0 To clean the testing data set\n",
    "For the data set to stay in the same format but not been filter with others, going to concate the train and test up there and run thru every formating functions but avoid the filtering one such as the total unit one, filter out the zero one's, or any other function that will changw the values of the data. After we get our cleaned testing, we will run again all of the above for the traing"
   ]
  },
  {
   "cell_type": "code",
   "execution_count": 171,
   "metadata": {},
   "outputs": [],
   "source": [
    "clean_for_testing = pd.read_csv('data/NYC/nyc_train_and_test.csv', index_col=False)"
   ]
  },
  {
   "cell_type": "markdown",
   "metadata": {},
   "source": [
    "## 3.1 Only keep the 2019 in sale_date"
   ]
  },
  {
   "cell_type": "code",
   "execution_count": 180,
   "metadata": {},
   "outputs": [],
   "source": [
    "clean_for_testing.sale_date= pd.to_datetime(clean_for_testing.sale_date) "
   ]
  },
  {
   "cell_type": "code",
   "execution_count": 182,
   "metadata": {},
   "outputs": [],
   "source": [
    "nyc_test = clean_for_testing[clean_for_testing.sale_date.dt.year == 2019]"
   ]
  },
  {
   "cell_type": "code",
   "execution_count": 183,
   "metadata": {},
   "outputs": [
    {
     "name": "stdout",
     "output_type": "stream",
     "text": [
      "<class 'pandas.core.frame.DataFrame'>\n",
      "Int64Index: 42790 entries, 371250 to 428895\n",
      "Data columns (total 20 columns):\n",
      "borough                           42790 non-null int64\n",
      "neighborhood                      42790 non-null object\n",
      "building_class_category           42790 non-null object\n",
      "tax_class_at_present              42790 non-null object\n",
      "block                             42790 non-null int64\n",
      "lot                               42790 non-null int64\n",
      "building_class_at_present         42790 non-null object\n",
      "address                           42790 non-null object\n",
      "apartment_number                  42790 non-null object\n",
      "zip_code                          42790 non-null float64\n",
      "residential_units                 42790 non-null int64\n",
      "commercial_units                  42790 non-null int64\n",
      "total_units                       42790 non-null int64\n",
      "land_sqft                         42790 non-null float64\n",
      "gross_sqft                        42790 non-null float64\n",
      "year_built                        42790 non-null float64\n",
      "tax_class_at_time_of_sale         42790 non-null int64\n",
      "building_class_at_time_of_sale    42790 non-null object\n",
      "sale_price                        42790 non-null float64\n",
      "sale_date                         42790 non-null datetime64[ns]\n",
      "dtypes: datetime64[ns](1), float64(5), int64(7), object(7)\n",
      "memory usage: 6.9+ MB\n"
     ]
    }
   ],
   "source": [
    "nyc_test.info()"
   ]
  },
  {
   "cell_type": "code",
   "execution_count": 185,
   "metadata": {},
   "outputs": [],
   "source": [
    "nyc_test.to_csv('data/NYC/nyc_test.csv', index=False)"
   ]
  },
  {
   "cell_type": "code",
   "execution_count": null,
   "metadata": {},
   "outputs": [],
   "source": []
  },
  {
   "cell_type": "code",
   "execution_count": null,
   "metadata": {},
   "outputs": [],
   "source": []
  },
  {
   "cell_type": "code",
   "execution_count": null,
   "metadata": {},
   "outputs": [],
   "source": []
  },
  {
   "cell_type": "code",
   "execution_count": null,
   "metadata": {},
   "outputs": [],
   "source": []
  },
  {
   "cell_type": "markdown",
   "metadata": {},
   "source": [
    "# traditional model 0 for numeric, \n",
    "# xgboosting and LGBMboosting, can just leave the apartment number empty they accept it"
   ]
  },
  {
   "cell_type": "code",
   "execution_count": null,
   "metadata": {
    "scrolled": true
   },
   "outputs": [],
   "source": [
    "#nyc3.apartment_number.value_counts() "
   ]
  },
  {
   "cell_type": "markdown",
   "metadata": {},
   "source": [
    "## check out altair for visualization\n"
   ]
  }
 ],
 "metadata": {
  "kernelspec": {
   "display_name": "Python 3",
   "language": "python",
   "name": "python3"
  },
  "language_info": {
   "codemirror_mode": {
    "name": "ipython",
    "version": 3
   },
   "file_extension": ".py",
   "mimetype": "text/x-python",
   "name": "python",
   "nbconvert_exporter": "python",
   "pygments_lexer": "ipython3",
   "version": "3.7.3"
  }
 },
 "nbformat": 4,
 "nbformat_minor": 2
}
