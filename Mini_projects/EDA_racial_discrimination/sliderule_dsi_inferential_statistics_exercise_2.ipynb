{
 "cells": [
  {
   "cell_type": "markdown",
   "metadata": {},
   "source": [
    "# Examining Racial Discrimination in the US Job Market\n",
    "\n",
    "### Background\n",
    "Racial discrimination continues to be pervasive in cultures throughout the world. Researchers examined the level of racial discrimination in the United States labor market by randomly assigning identical résumés to black-sounding or white-sounding names and observing the impact on requests for interviews from employers.\n",
    "\n",
    "### Data\n",
    "In the dataset provided, each row represents a resume. The 'race' column has two values, 'b' and 'w', indicating black-sounding and white-sounding. The column 'call' has two values, 1 and 0, indicating whether the resume received a call from employers or not.\n",
    "\n",
    "Note that the 'b' and 'w' values in race are assigned randomly to the resumes when presented to the employer."
   ]
  },
  {
   "cell_type": "markdown",
   "metadata": {},
   "source": [
    "### Exercises\n",
    "You will perform a statistical analysis to establish whether race has a significant impact on the rate of callbacks for resumes.\n",
    "\n",
    "Answer the following questions **in this notebook below and submit to your Github account**. \n",
    "\n",
    "   1. What test is appropriate for this problem? Does CLT apply?\n",
    "   2. What are the null and alternate hypotheses?\n",
    "   3. Compute margin of error, confidence interval, and p-value. Try using both the bootstrapping and the frequentist statistical approaches.\n",
    "   4. Write a story describing the statistical significance in the context or the original problem.\n",
    "   5. Does your analysis mean that race/name is the most important factor in callback success? Why or why not? If not, how would you amend your analysis?\n",
    "\n",
    "You can include written notes in notebook cells using Markdown: \n",
    "   - In the control panel at the top, choose Cell > Cell Type > Markdown\n",
    "   - Markdown syntax: http://nestacms.com/docs/creating-content/markdown-cheat-sheet\n",
    "\n",
    "#### Resources\n",
    "+ Experiment information and data source: http://www.povertyactionlab.org/evaluation/discrimination-job-market-united-states\n",
    "+ Scipy statistical methods: http://docs.scipy.org/doc/scipy/reference/stats.html \n",
    "+ Markdown syntax: http://nestacms.com/docs/creating-content/markdown-cheat-sheet\n",
    "+ Formulas for the Bernoulli distribution: https://en.wikipedia.org/wiki/Bernoulli_distribution"
   ]
  },
  {
   "cell_type": "markdown",
   "metadata": {},
   "source": [
    "## Examining Racial Discrimination in the US Job Market\n",
    "* Background\n",
    "    * Racial discrimination continues to be pervasive in cultures throughout the world. Researchers examined the level of racial discrimination in the United States labor market by randomly assigning identical résumés to black-sounding or white-sounding names and observing the impact on requests for interviews from employers."
   ]
  },
  {
   "cell_type": "code",
   "execution_count": 43,
   "metadata": {},
   "outputs": [],
   "source": [
    "import pandas as pd\n",
    "import numpy as np\n",
    "from scipy import stats\n",
    "import seaborn as sns\n",
    "import matplotlib.pyplot as plt\n",
    "import math\n",
    "\n",
    "sns.set()"
   ]
  },
  {
   "cell_type": "code",
   "execution_count": 19,
   "metadata": {},
   "outputs": [],
   "source": [
    "data = pd.io.stata.read_stata('data/us_job_market_discrimination.dta')"
   ]
  },
  {
   "cell_type": "code",
   "execution_count": 20,
   "metadata": {},
   "outputs": [
    {
     "data": {
      "text/plain": [
       "235.0"
      ]
     },
     "execution_count": 20,
     "metadata": {},
     "output_type": "execute_result"
    }
   ],
   "source": [
    "# number of callbacks for white-sounding names\n",
    "sum(data[data.race=='w'].call)"
   ]
  },
  {
   "cell_type": "code",
   "execution_count": 8,
   "metadata": {},
   "outputs": [
    {
     "data": {
      "text/html": [
       "<div>\n",
       "<style scoped>\n",
       "    .dataframe tbody tr th:only-of-type {\n",
       "        vertical-align: middle;\n",
       "    }\n",
       "\n",
       "    .dataframe tbody tr th {\n",
       "        vertical-align: top;\n",
       "    }\n",
       "\n",
       "    .dataframe thead th {\n",
       "        text-align: right;\n",
       "    }\n",
       "</style>\n",
       "<table border=\"1\" class=\"dataframe\">\n",
       "  <thead>\n",
       "    <tr style=\"text-align: right;\">\n",
       "      <th></th>\n",
       "      <th>id</th>\n",
       "      <th>ad</th>\n",
       "      <th>education</th>\n",
       "      <th>ofjobs</th>\n",
       "      <th>yearsexp</th>\n",
       "      <th>honors</th>\n",
       "      <th>volunteer</th>\n",
       "      <th>military</th>\n",
       "      <th>empholes</th>\n",
       "      <th>occupspecific</th>\n",
       "      <th>...</th>\n",
       "      <th>compreq</th>\n",
       "      <th>orgreq</th>\n",
       "      <th>manuf</th>\n",
       "      <th>transcom</th>\n",
       "      <th>bankreal</th>\n",
       "      <th>trade</th>\n",
       "      <th>busservice</th>\n",
       "      <th>othservice</th>\n",
       "      <th>missind</th>\n",
       "      <th>ownership</th>\n",
       "    </tr>\n",
       "  </thead>\n",
       "  <tbody>\n",
       "    <tr>\n",
       "      <th>0</th>\n",
       "      <td>b</td>\n",
       "      <td>1</td>\n",
       "      <td>4</td>\n",
       "      <td>2</td>\n",
       "      <td>6</td>\n",
       "      <td>0</td>\n",
       "      <td>0</td>\n",
       "      <td>0</td>\n",
       "      <td>1</td>\n",
       "      <td>17</td>\n",
       "      <td>...</td>\n",
       "      <td>1.0</td>\n",
       "      <td>0.0</td>\n",
       "      <td>1.0</td>\n",
       "      <td>0.0</td>\n",
       "      <td>0.0</td>\n",
       "      <td>0.0</td>\n",
       "      <td>0.0</td>\n",
       "      <td>0.0</td>\n",
       "      <td>0.0</td>\n",
       "      <td></td>\n",
       "    </tr>\n",
       "    <tr>\n",
       "      <th>1</th>\n",
       "      <td>b</td>\n",
       "      <td>1</td>\n",
       "      <td>3</td>\n",
       "      <td>3</td>\n",
       "      <td>6</td>\n",
       "      <td>0</td>\n",
       "      <td>1</td>\n",
       "      <td>1</td>\n",
       "      <td>0</td>\n",
       "      <td>316</td>\n",
       "      <td>...</td>\n",
       "      <td>1.0</td>\n",
       "      <td>0.0</td>\n",
       "      <td>1.0</td>\n",
       "      <td>0.0</td>\n",
       "      <td>0.0</td>\n",
       "      <td>0.0</td>\n",
       "      <td>0.0</td>\n",
       "      <td>0.0</td>\n",
       "      <td>0.0</td>\n",
       "      <td></td>\n",
       "    </tr>\n",
       "    <tr>\n",
       "      <th>2</th>\n",
       "      <td>b</td>\n",
       "      <td>1</td>\n",
       "      <td>4</td>\n",
       "      <td>1</td>\n",
       "      <td>6</td>\n",
       "      <td>0</td>\n",
       "      <td>0</td>\n",
       "      <td>0</td>\n",
       "      <td>0</td>\n",
       "      <td>19</td>\n",
       "      <td>...</td>\n",
       "      <td>1.0</td>\n",
       "      <td>0.0</td>\n",
       "      <td>1.0</td>\n",
       "      <td>0.0</td>\n",
       "      <td>0.0</td>\n",
       "      <td>0.0</td>\n",
       "      <td>0.0</td>\n",
       "      <td>0.0</td>\n",
       "      <td>0.0</td>\n",
       "      <td></td>\n",
       "    </tr>\n",
       "    <tr>\n",
       "      <th>3</th>\n",
       "      <td>b</td>\n",
       "      <td>1</td>\n",
       "      <td>3</td>\n",
       "      <td>4</td>\n",
       "      <td>6</td>\n",
       "      <td>0</td>\n",
       "      <td>1</td>\n",
       "      <td>0</td>\n",
       "      <td>1</td>\n",
       "      <td>313</td>\n",
       "      <td>...</td>\n",
       "      <td>1.0</td>\n",
       "      <td>0.0</td>\n",
       "      <td>1.0</td>\n",
       "      <td>0.0</td>\n",
       "      <td>0.0</td>\n",
       "      <td>0.0</td>\n",
       "      <td>0.0</td>\n",
       "      <td>0.0</td>\n",
       "      <td>0.0</td>\n",
       "      <td></td>\n",
       "    </tr>\n",
       "    <tr>\n",
       "      <th>4</th>\n",
       "      <td>b</td>\n",
       "      <td>1</td>\n",
       "      <td>3</td>\n",
       "      <td>3</td>\n",
       "      <td>22</td>\n",
       "      <td>0</td>\n",
       "      <td>0</td>\n",
       "      <td>0</td>\n",
       "      <td>0</td>\n",
       "      <td>313</td>\n",
       "      <td>...</td>\n",
       "      <td>1.0</td>\n",
       "      <td>1.0</td>\n",
       "      <td>0.0</td>\n",
       "      <td>0.0</td>\n",
       "      <td>0.0</td>\n",
       "      <td>0.0</td>\n",
       "      <td>0.0</td>\n",
       "      <td>1.0</td>\n",
       "      <td>0.0</td>\n",
       "      <td>Nonprofit</td>\n",
       "    </tr>\n",
       "  </tbody>\n",
       "</table>\n",
       "<p>5 rows × 65 columns</p>\n",
       "</div>"
      ],
      "text/plain": [
       "  id ad  education  ofjobs  yearsexp  honors  volunteer  military  empholes  \\\n",
       "0  b  1          4       2         6       0          0         0         1   \n",
       "1  b  1          3       3         6       0          1         1         0   \n",
       "2  b  1          4       1         6       0          0         0         0   \n",
       "3  b  1          3       4         6       0          1         0         1   \n",
       "4  b  1          3       3        22       0          0         0         0   \n",
       "\n",
       "   occupspecific  ...  compreq  orgreq  manuf  transcom  bankreal trade  \\\n",
       "0             17  ...      1.0     0.0    1.0       0.0       0.0   0.0   \n",
       "1            316  ...      1.0     0.0    1.0       0.0       0.0   0.0   \n",
       "2             19  ...      1.0     0.0    1.0       0.0       0.0   0.0   \n",
       "3            313  ...      1.0     0.0    1.0       0.0       0.0   0.0   \n",
       "4            313  ...      1.0     1.0    0.0       0.0       0.0   0.0   \n",
       "\n",
       "  busservice othservice  missind  ownership  \n",
       "0        0.0        0.0      0.0             \n",
       "1        0.0        0.0      0.0             \n",
       "2        0.0        0.0      0.0             \n",
       "3        0.0        0.0      0.0             \n",
       "4        0.0        1.0      0.0  Nonprofit  \n",
       "\n",
       "[5 rows x 65 columns]"
      ]
     },
     "execution_count": 8,
     "metadata": {},
     "output_type": "execute_result"
    }
   ],
   "source": [
    "data.info()\n",
    "data.shape\n",
    "data.describe()\n",
    "data.head(5)"
   ]
  },
  {
   "cell_type": "markdown",
   "metadata": {
    "collapsed": true
   },
   "source": [
    "<div class=\"span5 alert alert-success\">\n",
    "<p>Your answers to Q1 and Q2 here</p>\n",
    "</div>"
   ]
  },
  {
   "cell_type": "markdown",
   "metadata": {},
   "source": [
    "## Q1. What test is appropriate for this problem? Does CLT apply?\n",
    "* Since we are checking if the mean call back rate between white sounding and black sounding names are differnet, the appropriate test here will be independent t-test.\n",
    "\n",
    "\n",
    "* CLT Conditions ( Independent Samples Test ):\n",
    "    1. “Randomization”: \n",
    "        * Each sample should represent a random sample from the population, or at least follow the population distribution.\n",
    "    \n",
    "    2. “10% Rule”: \n",
    "        * The sample size must not be bigger than 10% of the entire population. (If no bootstraping when sampling)\n",
    "\n",
    "    3. Large Enough Sample Size ( a or b ): \n",
    "        * a. Sample size n should be large enough so that np≥10 and nq≥10\n",
    "        * b. The sample size must be sufficiently large. In general a sample size of 30 is considered sufficient \n"
   ]
  },
  {
   "cell_type": "code",
   "execution_count": 21,
   "metadata": {},
   "outputs": [
    {
     "name": "stdout",
     "output_type": "stream",
     "text": [
      "sample population ration meet the CLT condition 2\n",
      "np and nq for black: 157.0 2278.0\n",
      "np and nq for white: 235.0 2200.0\n"
     ]
    }
   ],
   "source": [
    "df = data[['race','call']]\n",
    "black = df[df.race == \"b\"]\n",
    "white = df[df.race == 'w']\n",
    "\n",
    "sample_pop_ratio = len(df) / 143357000\n",
    "if sample_pop_ratio < 0.1:\n",
    "    print(\"sample population ration meet the CLT condition 2\")\n",
    "else:\n",
    "    print(\"sample population ratio did not meet the CLT condition 2\")\n",
    "\n",
    "\n",
    "p_for_black = np.sum(black.call) / len(black.call)\n",
    "q_for_black = 1 - p_for_black\n",
    "p_for_white = np.sum(white.call) / len(white.call)\n",
    "q_for_white = 1 - p_for_white\n",
    "\n",
    "print(\"np and nq for black: \" + str(len(black) * p_for_black), str(len(black) * q_for_black))\n",
    "print(\"np and nq for white: \" + str(len(white) * p_for_white), str(len(white) * q_for_white))"
   ]
  },
  {
   "cell_type": "markdown",
   "metadata": {},
   "source": [
    "#### CLT conditions met"
   ]
  },
  {
   "cell_type": "markdown",
   "metadata": {},
   "source": [
    "## Q2. What are the null and alternate hypotheses?\n",
    "* H0: mean of white sounding names call back rate = mean of black sounding names call back rate\n",
    "* H1: mean of white sounding names call back rate ≠ mean of black sounding names call back rate"
   ]
  },
  {
   "cell_type": "markdown",
   "metadata": {
    "collapsed": true
   },
   "source": [
    "## Q3. Compute margin of error, confidence interval, and p-value. Try using both the bootstrapping and the frequentist statistical approaches."
   ]
  },
  {
   "cell_type": "markdown",
   "metadata": {},
   "source": [
    "* Bootstrap ( two - tail ) :\n",
    "    * H0: mean of white sounding names call back rate = mean of black sounding names call back rate ( mean of black sounding names - mean of white sounding names = 0 )\n",
    "    * H1: mean of white sounding names call back rate ≠ mean of black sounding names call back rate ( mean of black sounding names - mean of white sounding names ≠ 0 )"
   ]
  },
  {
   "cell_type": "code",
   "execution_count": 47,
   "metadata": {},
   "outputs": [
    {
     "name": "stdout",
     "output_type": "stream",
     "text": [
      "mean of black call back rate: 0.06438234075382351\n",
      "stadard deviation of black call back rate: 0.004943340034257509\n",
      "mean of white call back rate: 0.09651252567917108\n",
      "stadard deviation of black call back rate: 0.0059775271697761175\n",
      "95% CI: 0.02796911775495794, 0.0362912520957372\n"
     ]
    }
   ],
   "source": [
    "# To draw a bootstrap replicate:\n",
    "def bs_replicate_for_1D(data, func):\n",
    "    return func(np.random.choice(data, size=len(data)))\n",
    "\n",
    "# To draw n bootstrap replicates:\n",
    "def draw_bs_replicates(data, func, size):\n",
    "    \n",
    "    bs_replicates = np.empty(shape=size)\n",
    "    \n",
    "    for i in range(size):\n",
    "        bs_replicates[i] = bs_replicate_for_1D(data, func)\n",
    "        \n",
    "    return bs_replicates\n",
    "\n",
    "# Draw 10000 for black sounding name call back:\n",
    "blk_10k = draw_bs_replicates(black.call, np.mean, 10000)\n",
    "print('mean of black call back rate: '+ str(np.mean(blk_10k)))\n",
    "print('stadard deviation of black call back rate: ' + str(np.std(blk_10k)))\n",
    "\n",
    "wt_10k = draw_bs_replicates(white.call, np.mean, 10000)\n",
    "print('mean of white call back rate: '+ str(np.mean(wt_10k)))\n",
    "print('stadard deviation of black call back rate: '+ str(np.std(wt_10k)))\n",
    "\n",
    "z_value = stats.norm.ppf(q=0.975)\n",
    "\n",
    "standard_error = z_value * (math.sqrt((((len(black.call)-1) * 0.004958279078867816) + ((len(white.call) - 1) * 0.006021424818473383)) / (len(df)))) * math.sqrt(1 / len(black.call) + 1 / len(white.call))\n",
    "mean_diff = np.mean(wt_10k) - np.mean(blk_10k)\n",
    "\n",
    "print(\"95% CI: \" + str(mean_diff - standard_error) + ', ' + str(mean_diff + standard_error))"
   ]
  },
  {
   "cell_type": "markdown",
   "metadata": {},
   "source": [
    "#### We can tell from the 95% confidence interval that the mean difference is not equal to 0, we can reject the null hypothesis that mean of white call back rate = black call back rate"
   ]
  },
  {
   "cell_type": "markdown",
   "metadata": {},
   "source": [
    "* Frequentist statistical:\n",
    "    * H0: mean of white sounding names call back rate = mean of black sounding names call back rate\n",
    "    * H1: mean of white sounding names call back rate ≠ mean of black sounding names call back rate"
   ]
  },
  {
   "cell_type": "code",
   "execution_count": 48,
   "metadata": {},
   "outputs": [
    {
     "name": "stdout",
     "output_type": "stream",
     "text": [
      "0.060318876057863235\n",
      "0.08719314634799957\n"
     ]
    }
   ],
   "source": [
    "print(np.var(black.call))\n",
    "print(np.var(white.call))"
   ]
  },
  {
   "cell_type": "markdown",
   "metadata": {},
   "source": [
    "#### Since the variances of the two groups are different from each other, we are going to use Welch t Test statistic here instead of independent t-test"
   ]
  },
  {
   "cell_type": "code",
   "execution_count": 49,
   "metadata": {},
   "outputs": [
    {
     "name": "stdout",
     "output_type": "stream",
     "text": [
      "t-score: -4.11470529086175140776\n",
      "t-test p-value: 0.00003942941513645935\n"
     ]
    }
   ],
   "source": [
    "t_test = stats.ttest_ind(black.call, white.call, axis=0, equal_var=False)\n",
    "print(\"t-score: \"'{0:.20f}'.format(t_test.statistic))\n",
    "print(\"t-test p-value: \"'{0:.20f}'.format(t_test.pvalue))"
   ]
  },
  {
   "cell_type": "markdown",
   "metadata": {},
   "source": [
    "#### SInce the p-value is significantly small, we can reject the null hypothesis and accept the alternative which the mean call back rate of white sounding name is different to mean call back rate of black sounding name"
   ]
  },
  {
   "cell_type": "markdown",
   "metadata": {},
   "source": [
    "<div class=\"span5 alert alert-success\">\n",
    "<p> Your answers to Q4 and Q5 here </p>\n",
    "</div>"
   ]
  },
  {
   "cell_type": "markdown",
   "metadata": {},
   "source": [
    "## Q4. Write a story describing the statistical significance in the context or the original problem."
   ]
  },
  {
   "cell_type": "markdown",
   "metadata": {},
   "source": [
    "#### The purpose of this research is to find if discrimination exist in US job market between blacks and whites, data are collected by randomly assigning identical résumés black-sounding or white-sounding names and observing the impact on requests for interviews from employers.\n",
    "\n",
    "#### By performing some statistic test, I realized that the difference of call back rate between white-sounding name and black-sounding name are significant, which white-sounding name get 50% more call for interview than black-sounding name.\n",
    "\n",
    "#### The result indicates that all other things being same, the white-sounding name have a 50% higher call back rate for  interview than black-sounding name, discrimination betweenblacks and whites do exist in the US job market between 2000 - 2002"
   ]
  },
  {
   "cell_type": "markdown",
   "metadata": {},
   "source": [
    "## Q5. Does your analysis mean that race/name is the most important factor in callback success? Why or why not? If not, how would you amend your analysis?"
   ]
  },
  {
   "cell_type": "markdown",
   "metadata": {},
   "source": [
    "#### Our analysis can only tell us that there exist a callback rate different between blacks and whites, but we cannot conclude that this is the most important factor, since this is the only factor we check.\n",
    "\n",
    "#### There still exist other 63 columns for us to pick from, which we can check their relationship with call back rate, for example: sex, yearsexp, etc, which I am going to perform below"
   ]
  },
  {
   "cell_type": "markdown",
   "metadata": {},
   "source": [
    "## Xtra 1: sex and callback rate"
   ]
  },
  {
   "cell_type": "code",
   "execution_count": 54,
   "metadata": {},
   "outputs": [
    {
     "name": "stdout",
     "output_type": "stream",
     "text": [
      "Male call back rate: 0.07384341955184937\n",
      "Female call back rate: 0.08248798549175262\n",
      "Ttest_indResult(statistic=-0.9598607875589354, pvalue=0.3372456192523712)\n"
     ]
    }
   ],
   "source": [
    "df_sex = data[['call','sex']]\n",
    "df_sex.head()\n",
    "male = df_sex[df_sex.sex=='m']\n",
    "female = df_sex[df_sex.sex=='f']\n",
    "print(\"Male call back rate: \" + str(np.mean(male.call)))\n",
    "print(\"Female call back rate: \" + str(np.mean(female.call)))\n",
    "print(stats.ttest_ind(male.call, female.call, axis=0, equal_var=False))"
   ]
  },
  {
   "cell_type": "markdown",
   "metadata": {},
   "source": [
    "#### At the 5% significant level, we cannot reject the null hypothesis that mean male call back rate is different from mean female call back rate"
   ]
  },
  {
   "cell_type": "markdown",
   "metadata": {},
   "source": [
    "## Xtra 2: education and callback rate"
   ]
  },
  {
   "cell_type": "code",
   "execution_count": 55,
   "metadata": {},
   "outputs": [
    {
     "name": "stdout",
     "output_type": "stream",
     "text": [
      "Call back rate for people that have more than 10 years expereince: 0.11386138945817947\n",
      "Call back rate for people that have less than 10 years expereince: 0.07176166027784348\n",
      "Ttest_indResult(statistic=3.8878297098233277, pvalue=0.00010596206219926696)\n"
     ]
    }
   ],
   "source": [
    "df_exp = data[['yearsexp','call']]\n",
    "df_exp.head()\n",
    "\n",
    "ten_yrs_plus_exp = df_exp[df_exp.yearsexp > 10]\n",
    "less_exp = df_exp[df_exp.yearsexp <= 10]\n",
    "\n",
    "print(\"Call back rate for people that have more than 10 years expereince: \" + str(np.mean(ten_yrs_plus_exp.call)))\n",
    "print(\"Call back rate for people that have less than 10 years expereince: \" + str(np.mean(less_exp.call)))\n",
    "\n",
    "print(stats.ttest_ind(ten_yrs_plus_exp.call, less_exp.call, axis=0, equal_var=False))\n"
   ]
  },
  {
   "cell_type": "markdown",
   "metadata": {},
   "source": [
    "\n",
    "#### From the result of the t-test, we can reject the null hypothesis, and accpet the alterncativethat the call back rate for people with more than 10 years exp is higher than those who have less than 10 years exp."
   ]
  },
  {
   "cell_type": "code",
   "execution_count": 70,
   "metadata": {},
   "outputs": [
    {
     "data": {
      "image/png": "[encoded data removed]",
      "text/plain": [
       "<Figure size 1080x432 with 1 Axes>"
      ]
     },
     "metadata": {},
     "output_type": "display_data"
    }
   ],
   "source": [
    "sns.barplot(x=df_exp.yearsexp, y=df_exp.call)\n",
    "sns.set(rc={'figure.figsize':(15,4)})"
   ]
  },
  {
   "cell_type": "markdown",
   "metadata": {},
   "source": [
    "#### The result of the barplot is pretty obvious that years of experience is one of other significant factor that will affect the call back rate"
   ]
  }
 ],
 "metadata": {
  "kernelspec": {
   "display_name": "Python 3",
   "language": "python",
   "name": "python3"
  },
  "language_info": {
   "codemirror_mode": {
    "name": "ipython",
    "version": 3
   },
   "file_extension": ".py",
   "mimetype": "text/x-python",
   "name": "python",
   "nbconvert_exporter": "python",
   "pygments_lexer": "ipython3",
   "version": "3.7.3"
  }
 },
 "nbformat": 4,
 "nbformat_minor": 1
}
