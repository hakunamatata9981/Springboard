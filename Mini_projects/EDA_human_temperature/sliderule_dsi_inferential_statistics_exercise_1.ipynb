{
 "cells": [
  {
   "cell_type": "markdown",
   "metadata": {},
   "source": [
    "# What is the True Normal Human Body Temperature? \n",
    "\n",
    "#### Background\n",
    "\n",
    "The mean normal body temperature was held to be 37$^{\\circ}$C or 98.6$^{\\circ}$F for more than 120 years since it was first conceptualized and reported by Carl Wunderlich in a famous 1868 book. But, is this value statistically correct?"
   ]
  },
  {
   "cell_type": "markdown",
   "metadata": {},
   "source": [
    "<h3>Exercises</h3>\n",
    "\n",
    "<p>In this exercise, you will analyze a dataset of human body temperatures and employ the concepts of hypothesis testing, confidence intervals, and statistical significance.</p>\n",
    "\n",
    "<p>Answer the following questions <b>in this notebook below and submit to your Github account</b>.</p> \n",
    "\n",
    "<ol>\n",
    "<li>  Is the distribution of body temperatures normal? \n",
    "    <ul>\n",
    "    <li> Although this is not a requirement for the Central Limit Theorem to hold (read the introduction on Wikipedia's page about the CLT carefully: https://en.wikipedia.org/wiki/Central_limit_theorem), it gives us some peace of mind that the population may also be normally distributed if we assume that this sample is representative of the population.\n",
    "    <li> Think about the way you're going to check for the normality of the distribution. Graphical methods are usually used first, but there are also other ways: https://en.wikipedia.org/wiki/Normality_test\n",
    "    </ul>\n",
    "<li>  Is the sample size large? Are the observations independent?\n",
    "    <ul>\n",
    "    <li> Remember that this is a condition for the Central Limit Theorem, and hence the statistical tests we are using, to apply.\n",
    "    </ul>\n",
    "<li>  Is the true population mean really 98.6 degrees F?\n",
    "    <ul>\n",
    "    <li> First, try a bootstrap hypothesis test.\n",
    "    <li> Now, let's try frequentist statistical testing. Would you use a one-sample or two-sample test? Why?\n",
    "    <li> In this situation, is it appropriate to use the $t$ or $z$ statistic? \n",
    "    <li> Now try using the other test. How is the result be different? Why?\n",
    "    </ul>\n",
    "<li>  Draw a small sample of size 10 from the data and repeat both frequentist tests. \n",
    "    <ul>\n",
    "    <li> Which one is the correct one to use? \n",
    "    <li> What do you notice? What does this tell you about the difference in application of the $t$ and $z$ statistic?\n",
    "    </ul>\n",
    "<li>  At what temperature should we consider someone's temperature to be \"abnormal\"?\n",
    "    <ul>\n",
    "    <li> As in the previous example, try calculating everything using the boostrap approach, as well as the frequentist approach.\n",
    "    <li> Start by computing the margin of error and confidence interval. When calculating the confidence interval, keep in mind that you should use the appropriate formula for one draw, and not N draws.\n",
    "    </ul>\n",
    "<li>  Is there a significant difference between males and females in normal temperature?\n",
    "    <ul>\n",
    "    <li> What testing approach did you use and why?\n",
    "    <li> Write a story with your conclusion in the context of the original problem.\n",
    "    </ul>\n",
    "</ol>\n",
    "\n",
    "You can include written notes in notebook cells using Markdown: \n",
    "   - In the control panel at the top, choose Cell > Cell Type > Markdown\n",
    "   - Markdown syntax: http://nestacms.com/docs/creating-content/markdown-cheat-sheet\n",
    "\n",
    "#### Resources\n",
    "\n",
    "+ Information and data sources: http://www.amstat.org/publications/jse/datasets/normtemp.txt, http://www.amstat.org/publications/jse/jse_data_archive.htm\n",
    "+ Markdown syntax: http://nestacms.com/docs/creating-content/markdown-cheat-sheet\n",
    "\n",
    "****"
   ]
  },
  {
   "cell_type": "markdown",
   "metadata": {},
   "source": [
    "## What is the True Normal Human Body Temperature?\n",
    "**Background**\n",
    "\n",
    "The mean normal body temperature was held to be 37 ∘ C or 98.6 ∘ F for more than 120 years since it was first conceptualized and reported by Carl Wunderlich in a famous 1868 book. But, is this value statistically correct?"
   ]
  },
  {
   "cell_type": "code",
   "execution_count": 1,
   "metadata": {},
   "outputs": [],
   "source": [
    "# Import all the tools that might be needed\n",
    "\n",
    "import pandas as pd\n",
    "import matplotlib.pyplot as plt\n",
    "import seaborn as sns \n",
    "import numpy as np\n",
    "import math\n",
    "from scipy import stats\n",
    "from statsmodels.stats import weightstats as stests\n",
    "\n",
    "\n",
    "df = pd.read_csv('data/human_body_temperature.csv')\n",
    "sns.set()"
   ]
  },
  {
   "cell_type": "markdown",
   "metadata": {},
   "source": [
    "## Q1. Is the distribution of body temperatures normal?\n",
    "* Although this is not a requirement for the Central Limit Theorem to hold (read the introduction on Wikipedia's page about the CLT carefully: https://en.wikipedia.org/wiki/Central_limit_theorem), it gives us some peace of mind that the population may also be normally distributed if we assume that this sample is representative of the population.\n",
    "* Think about the way you're going to check for the normality of the distribution. Graphical methods are usually used first, but there are also other ways: https://en.wikipedia.org/wiki/Normality_test"
   ]
  },
  {
   "cell_type": "markdown",
   "metadata": {},
   "source": [
    "#### Going to first get a general idea about the data that we have."
   ]
  },
  {
   "cell_type": "code",
   "execution_count": 2,
   "metadata": {},
   "outputs": [
    {
     "data": {
      "image/png": "[encoded data removed]",
      "text/plain": [
       "<Figure size 432x288 with 1 Axes>"
      ]
     },
     "metadata": {
      "needs_background": "light"
     },
     "output_type": "display_data"
    }
   ],
   "source": [
    "df.describe()\n",
    "df.info\n",
    "df.shape\n",
    "df.head(5)\n",
    "\n",
    "def ecdf(data):\n",
    "    \"\"\"Compute ECDF for a one-dimensional array of measurements.\"\"\"\n",
    "    # Number of data points: n\n",
    "    n = len(data)\n",
    "    \n",
    "    # x-data for the ECDF: x\n",
    "    x = np.sort(data)\n",
    "\n",
    "    # y-data for the ECDF: y\n",
    "    y = np.arange(1, n+1) / n   # np.arange: end value not iunclusive\n",
    "    \n",
    "    return x, y\n",
    "    \n",
    "x, y = ecdf(df.temperature)\n",
    "plt.plot(x, y, marker='.', linestyle='none')\n",
    "plt.xlabel('Temperature')\n",
    "plt.ylabel('ECDF')\n",
    "percentiles = np.array([0, 25, 50, 75, 100])\n",
    "temp_percentile = np.percentile(df.temperature, percentiles)\n",
    "plt.plot(temp_percentile, percentiles/100, marker='D', color='red',linestyle = 'none');"
   ]
  },
  {
   "cell_type": "markdown",
   "metadata": {},
   "source": [
    "\n",
    "#### Now going to check if our sample meets conditions of CLT:\n",
    "* General Idea: Regardless of the population distribution model, as the sample size increases, the sample mean tends to be normally distributed around the population mean, and its standard deviation shrinks as n increases.\n",
    "\n",
    "\n",
    "* CLT Conditions ( Independent Samples Test ):\n",
    "    1. “Randomization”: \n",
    "        * Each sample should represent a random sample from the population, or at least follow the population distribution.\n",
    "    \n",
    "    2. “10% Rule”: \n",
    "        * The sample size must not be bigger than 10% of the entire population. (If no bootstraping when sampling)\n",
    "\n",
    "    3. Large Enough Sample Size ( a or b ): \n",
    "        * a. Sample size n should be large enough so that np≥10 and nq≥10\n",
    "        * b. The sample size must be sufficiently large. In general a sample size of 30 is considered sufficient \n",
    "\n"
   ]
  },
  {
   "cell_type": "code",
   "execution_count": 3,
   "metadata": {},
   "outputs": [
    {
     "name": "stdout",
     "output_type": "stream",
     "text": [
      "True\n",
      "True\n"
     ]
    }
   ],
   "source": [
    "entire_population_1992 = 5460000000\n",
    "print(130 < entire_population_1992 * 0.1)\n",
    "print(len(df.temperature) > 30)"
   ]
  },
  {
   "cell_type": "markdown",
   "metadata": {},
   "source": [
    "#### From the data source, we learnt that the sample are randomly chosen, and with other two conditions meet. We can state that from CLT, our sample is nomally distributed. If we assume the sample is used as a representative of the population, then we can claimed that the distribution of body temperatures is normal."
   ]
  },
  {
   "cell_type": "markdown",
   "metadata": {},
   "source": [
    "#### Now, going to use graphs to check if our distribution is normal "
   ]
  },
  {
   "cell_type": "code",
   "execution_count": 4,
   "metadata": {
    "scrolled": true
   },
   "outputs": [
    {
     "data": {
      "image/png": "[encoded data removed]",
      "text/plain": [
       "<Figure size 432x288 with 1 Axes>"
      ]
     },
     "metadata": {
      "needs_background": "light"
     },
     "output_type": "display_data"
    }
   ],
   "source": [
    "sns.distplot(df.temperature);"
   ]
  },
  {
   "cell_type": "code",
   "execution_count": 5,
   "metadata": {},
   "outputs": [
    {
     "data": {
      "image/png": "[encoded data removed]",
      "text/plain": [
       "<Figure size 432x288 with 1 Axes>"
      ]
     },
     "metadata": {
      "needs_background": "light"
     },
     "output_type": "display_data"
    }
   ],
   "source": [
    "from statsmodels.graphics.gofplots import qqplot\n",
    "\n",
    "normalized_temp = ((df.temperature - np.mean(df.temperature)) / np.std(df.temperature))\n",
    "qqplot(normalized_temp, line='s')\n",
    "plt.show()"
   ]
  },
  {
   "cell_type": "markdown",
   "metadata": {},
   "source": [
    "#### From the two plots, the distribution of our sample seems to be normal, now I am going perform normality test to double-checked if sample of our test is normally distributed.\n",
    "* The hypothesis of our test ( a = 0.05 ):\n",
    "    * H0: Human body temperatures of our sample are normally distributed\n",
    "    * H1: Human body temperatures of our sample are not normally distributed"
   ]
  },
  {
   "cell_type": "code",
   "execution_count": 6,
   "metadata": {},
   "outputs": [
    {
     "data": {
      "text/plain": [
       "NormaltestResult(statistic=2.703801433319203, pvalue=0.2587479863488254)"
      ]
     },
     "execution_count": 6,
     "metadata": {},
     "output_type": "execute_result"
    }
   ],
   "source": [
    "stats.normaltest(df.temperature)"
   ]
  },
  {
   "cell_type": "markdown",
   "metadata": {},
   "source": [
    "#### since the p-value of the normality test is > 0.05, we cannot reject that human body temperatures of our sample are normally distributed"
   ]
  },
  {
   "cell_type": "markdown",
   "metadata": {},
   "source": [
    "## Q2. Is the sample size large? Are the observations independent?\n",
    "Remember that this is a condition for the Central Limit Theorem, and hence the statistical tests we are using, to apply."
   ]
  },
  {
   "cell_type": "markdown",
   "metadata": {
    "scrolled": true
   },
   "source": [
    "#### The sample size is not large as a fraction of all human beings. However, it is large enough for the Central Limit Theorem to apply. From the CLT conditions check above, we can say that the sample size is enough and the observations are independent ( 10% rule means that the previous draw will not affect the next draw without replacement, and knowing the outcome of one sample would provide no information about another sample )."
   ]
  },
  {
   "cell_type": "markdown",
   "metadata": {},
   "source": [
    "## Is the true population mean really 98.6 degrees F?\n",
    "* First, try a bootstrap hypothesis test.\n",
    "    * Hypotheses:\n",
    "        * H0: population mean = 98.6$^{\\circ}$F\n",
    "        * H1: population mean ≠ 98.6$^{\\circ}$F"
   ]
  },
  {
   "cell_type": "code",
   "execution_count": 7,
   "metadata": {},
   "outputs": [
    {
     "name": "stdout",
     "output_type": "stream",
     "text": [
      "Mean: 98.24958023076923\n",
      "p-value: 0.0\n"
     ]
    }
   ],
   "source": [
    "# To draw a bootstrap replicate\n",
    "def bs_replicates_for_1D(data, func):\n",
    "    return func(np.random.choice(data, size=len(data)))\n",
    "\n",
    "# To draw n bootstrap replicates\n",
    "def draw_bs_replicates(data, func, size=1):\n",
    "    \"\"\"Draw Bootstrap Replicates\"\"\"\n",
    "    bs_replicates = np.empty(shape=size)\n",
    "    \n",
    "    for i in range(size):\n",
    "        bs_replicates[i] = bs_replicates_for_1D(data, func)\n",
    "        \n",
    "    return bs_replicates\n",
    "\n",
    "ten_k_draw = draw_bs_replicates(df.temperature, np.mean, 10000)\n",
    "\n",
    "p_value = np.sum(ten_k_draw >= 98.6) / 10000\n",
    "\n",
    "print('Mean: ' + str(np.mean(ten_k_draw)))\n",
    "print('p-value: {}'.format(p_value))"
   ]
  },
  {
   "cell_type": "markdown",
   "metadata": {},
   "source": [
    "#### With p-value = 0, we reject the null hypothesis that mean human body temperature = 98.6$^{\\circ}$F, the mean is 98.25$^{\\circ}$F"
   ]
  },
  {
   "cell_type": "markdown",
   "metadata": {},
   "source": [
    "* Now, let's try frequentist statistical testing. Would you use a one-sample or two-sample test? Why?"
   ]
  },
  {
   "cell_type": "markdown",
   "metadata": {},
   "source": [
    "#### When comparing mean of single sample to the mean of population, one-sample test is appropriate."
   ]
  },
  {
   "cell_type": "markdown",
   "metadata": {},
   "source": [
    "* In this situation, is it appropriate to use the  𝑡  or  𝑧  statistic?"
   ]
  },
  {
   "attachments": {
    "image.png": {
     "image/png": "[encoded data removed]"
    }
   },
   "cell_type": "markdown",
   "metadata": {},
   "source": [
    "### Z-stat:\n",
    "* ![image.png](attachment:image.png)"
   ]
  },
  {
   "attachments": {
    "image.png": {
     "image/png": "[encoded data removed]"
    }
   },
   "cell_type": "markdown",
   "metadata": {},
   "source": [
    "### T-stat:\n",
    "* ![image.png](attachment:image.png)"
   ]
  },
  {
   "cell_type": "markdown",
   "metadata": {},
   "source": [
    "#### We can tell from the 2 equations above that t-statistic is the one we are going to use here, since we do not know the standard deviation of the population, we only have standard error from our sample. However, t-stat will approach the result of the z-stat if n is => 30. I am going to guess the result of using these 2 methods is going to be the same."
   ]
  },
  {
   "cell_type": "code",
   "execution_count": 8,
   "metadata": {},
   "outputs": [
    {
     "name": "stdout",
     "output_type": "stream",
     "text": [
      "t-score: -5.45482329236451946031\n",
      "t-test p-value: 0.00000024106320415561\n"
     ]
    }
   ],
   "source": [
    "t_stat = stats.ttest_1samp(df.temperature, 98.6)\n",
    "print(\"t-score: \"'{0:.20f}'.format(t_stat.statistic))\n",
    "print(\"t-test p-value: \"'{0:.20f}'.format(t_stat.pvalue))"
   ]
  },
  {
   "cell_type": "markdown",
   "metadata": {},
   "source": [
    "\n",
    "* Now try using the other test. How is the result be different? Why?"
   ]
  },
  {
   "cell_type": "code",
   "execution_count": 9,
   "metadata": {},
   "outputs": [
    {
     "name": "stdout",
     "output_type": "stream",
     "text": [
      "z_score: -5.475925202078116\n",
      "z-test_p-value: 0.00000002176157582941\n"
     ]
    }
   ],
   "source": [
    "def z_score(data, u):\n",
    "    return (np.mean(data) - u) / ((np.std(data)) / ((len(data))**(0.5)))\n",
    "\n",
    "z = z_score(df.temperature, 98.6)\n",
    "print(\"z_score: \" + str(z))\n",
    "stats.norm.cdf(z)\n",
    "print(\"z-test_p-value: \"'{0:.20f}'.format(stats.norm.cdf(z)))"
   ]
  },
  {
   "cell_type": "markdown",
   "metadata": {},
   "source": [
    "#### The result of these two test is approximately the same as predict, since when n => 30, t-stats will approach the result of z-stats"
   ]
  },
  {
   "cell_type": "markdown",
   "metadata": {},
   "source": [
    "## Q4. Draw a small sample of size 10 from the data and repeat both frequentist tests.\n",
    "* Which one is the correct one to use?\n",
    "* What do you notice? What does this tell you about the difference in application of the  𝑡  and  𝑧  statistic?"
   ]
  },
  {
   "cell_type": "markdown",
   "metadata": {},
   "source": [
    "#### The only different here is the sample size, since we still don't know the population stadard deviation, t-stats is the correct one to use."
   ]
  },
  {
   "cell_type": "code",
   "execution_count": 10,
   "metadata": {},
   "outputs": [
    {
     "name": "stdout",
     "output_type": "stream",
     "text": [
      "t-score: -2.08834843664818547992\n",
      "t-test p-value: 0.06636084787652592187\n"
     ]
    }
   ],
   "source": [
    "ten_sample = np.random.choice(df.temperature, size=10)\n",
    "\n",
    "t_stats_10 = stats.ttest_1samp(ten_sample, 98.6)\n",
    "print(\"t-score: \"'{0:.20f}'.format(t_stats_10.statistic))\n",
    "print(\"t-test p-value: \"'{0:.20f}'.format(t_stats_10.pvalue))"
   ]
  },
  {
   "cell_type": "markdown",
   "metadata": {},
   "source": [
    "#### Since the sample size is really small, the different of between result of t-stats is reall different from result of z-test."
   ]
  },
  {
   "cell_type": "code",
   "execution_count": 11,
   "metadata": {},
   "outputs": [
    {
     "name": "stdout",
     "output_type": "stream",
     "text": [
      "z_score: -2.201312535953373\n",
      "z-test_p-value: 0.01385695300890220881\n"
     ]
    }
   ],
   "source": [
    "z_ten = z_score(ten_sample, 98.6)\n",
    "print(\"z_score: \" + str(z_ten))\n",
    "stats.norm.cdf(z_ten)\n",
    "print(\"z-test_p-value: \"'{0:.20f}'.format(stats.norm.cdf(z_ten)))"
   ]
  },
  {
   "cell_type": "markdown",
   "metadata": {},
   "source": [
    "#### From the result above, we cannot reject the null hypothsis when sample size = 10"
   ]
  },
  {
   "cell_type": "markdown",
   "metadata": {},
   "source": [
    "## Q5. At what temperature should we consider someone's temperature to be \"abnormal\"?\n",
    "* As in the previous example, try calculating everything using the boostrap approach, as well as the frequentist approach.\n",
    "* Start by computing the margin of error and confidence interval. When calculating the confidence interval, keep in mind that you should use the appropriate formula for one draw, and not N draws."
   ]
  },
  {
   "cell_type": "code",
   "execution_count": 12,
   "metadata": {},
   "outputs": [],
   "source": [
    "# Do not know how to perform a a bootstrap here for confidence interval, since only need one draw "
   ]
  },
  {
   "cell_type": "code",
   "execution_count": 13,
   "metadata": {},
   "outputs": [
    {
     "name": "stdout",
     "output_type": "stream",
     "text": [
      "Confidence Interval: 96.81775582674824, 99.68070571171332\n",
      "Margin of error: +/- 1.431474942482538\n"
     ]
    }
   ],
   "source": [
    "mean_temp = np.mean(df.temperature)\n",
    "std_temp = np.std(df.temperature)\n",
    "CI_low, CI_high = stats.norm.interval(0.95, loc=mean_temp, scale=std_temp)\n",
    "print(\"Confidence Interval: \" + str(CI_low) + \", \" + str(CI_high))\n",
    "print(\"Margin of error: +/- \" + str(mean_temp - CI_low))\n"
   ]
  },
  {
   "cell_type": "markdown",
   "metadata": {},
   "source": [
    "#### With the mean = 98.25$^{\\circ}$F with a 95% Confidence Interval, temperature below 96.81$^{\\circ}$F and temperature above 99.68$^{\\circ}$F, will be consider abnormal."
   ]
  },
  {
   "cell_type": "markdown",
   "metadata": {},
   "source": [
    "## Q6. Is there a significant difference between males and females in normal temperature?\n",
    "* What testing approach did you use and why?\n",
    "* Write a story with your conclusion in the context of the original problem."
   ]
  },
  {
   "cell_type": "markdown",
   "metadata": {},
   "source": [
    "#### Since we are comparing if the mean of two samples are different from each other, independent t-test will be the test we use here."
   ]
  },
  {
   "cell_type": "code",
   "execution_count": 14,
   "metadata": {},
   "outputs": [
    {
     "data": {
      "image/png": "[encoded data removed]",
      "text/plain": [
       "<Figure size 432x288 with 1 Axes>"
      ]
     },
     "metadata": {
      "needs_background": "light"
     },
     "output_type": "display_data"
    }
   ],
   "source": [
    "df.gender.value_counts()\n",
    "male = df[df.gender == \"M\"]\n",
    "female = df[df.gender == \"F\"]\n",
    "x = [male.temperature, female.temperature]\n",
    "plt.boxplot(x, labels=['male', 'female']);"
   ]
  },
  {
   "cell_type": "code",
   "execution_count": 15,
   "metadata": {},
   "outputs": [
    {
     "data": {
      "text/plain": [
       "NormaltestResult(statistic=0.8911999666950503, pvalue=0.6404399074569123)"
      ]
     },
     "execution_count": 15,
     "metadata": {},
     "output_type": "execute_result"
    },
    {
     "data": {
      "image/png": "[encoded data removed]",
      "text/plain": [
       "<Figure size 432x288 with 1 Axes>"
      ]
     },
     "metadata": {
      "needs_background": "light"
     },
     "output_type": "display_data"
    }
   ],
   "source": [
    "sns.distplot(male.temperature);\n",
    "stats.normaltest(male.temperature)"
   ]
  },
  {
   "cell_type": "code",
   "execution_count": 16,
   "metadata": {},
   "outputs": [
    {
     "data": {
      "text/plain": [
       "NormaltestResult(statistic=4.735438112908399, pvalue=0.09369419389856404)"
      ]
     },
     "execution_count": 16,
     "metadata": {},
     "output_type": "execute_result"
    },
    {
     "data": {
      "image/png": "[encoded data removed]",
      "text/plain": [
       "<Figure size 432x288 with 1 Axes>"
      ]
     },
     "metadata": {
      "needs_background": "light"
     },
     "output_type": "display_data"
    }
   ],
   "source": [
    "sns.distplot(female.temperature);\n",
    "stats.normaltest(female.temperature)"
   ]
  },
  {
   "cell_type": "code",
   "execution_count": 17,
   "metadata": {},
   "outputs": [
    {
     "name": "stdout",
     "output_type": "stream",
     "text": [
      "0.4807479289940825\n",
      "0.5442698224852062\n"
     ]
    }
   ],
   "source": [
    "print(np.var(male.temperature))\n",
    "print(np.var(female.temperature))"
   ]
  },
  {
   "cell_type": "markdown",
   "metadata": {},
   "source": [
    "#### From the boxplot above, we can see that the mean temperature of female is slightly higher than male, and both male and female samples are normally distributed. However, the variance of two groups are different from each other, a Welch t Test statistic is the test we are going to perform here. \n",
    "* H0: mean of male temperature = mean of female temperature\n",
    "* H1: mean of male temperature ≠ mean of female temperature"
   ]
  },
  {
   "cell_type": "code",
   "execution_count": 18,
   "metadata": {},
   "outputs": [
    {
     "data": {
      "text/plain": [
       "Ttest_indResult(statistic=2.285434538165611, pvalue=0.023938264182934196)"
      ]
     },
     "execution_count": 18,
     "metadata": {},
     "output_type": "execute_result"
    }
   ],
   "source": [
    "stats.ttest_ind(female.temperature, male.temperature, axis=0, equal_var=False)"
   ]
  },
  {
   "cell_type": "markdown",
   "metadata": {},
   "source": [
    "#### From the result of Welch t Test statistic, we reject null hypothesis and accept the alternative,  male and female mean body temperatures are different."
   ]
  },
  {
   "cell_type": "markdown",
   "metadata": {},
   "source": [
    "## Extra: Checking if there exist any correlation between heart rate and body temperature"
   ]
  },
  {
   "cell_type": "code",
   "execution_count": 19,
   "metadata": {
    "scrolled": true
   },
   "outputs": [
    {
     "data": {
      "image/png": "[encoded data removed]",
      "text/plain": [
       "<Figure size 432x288 with 1 Axes>"
      ]
     },
     "metadata": {
      "needs_background": "light"
     },
     "output_type": "display_data"
    }
   ],
   "source": [
    "plt.scatter(x=df.temperature, y=df.heart_rate, marker=None);\n",
    "stats.pearsonr(df.temperature, df.heart_rate);\n",
    "plt.xlabel(\"Body Temperature\");\n",
    "plt.ylabel(\"Heart Rate\");"
   ]
  },
  {
   "cell_type": "markdown",
   "metadata": {},
   "source": [
    "#### With a correlation of 0.25 between heart rate and temperature, I can only said that these two variables are postively weak correlated"
   ]
  },
  {
   "cell_type": "markdown",
   "metadata": {},
   "source": [
    "## Extra: 2.6 Were the Original Temperatures Taken on a Centigrade or Fahrenheit Scale?\n",
    "\n",
    "12 One can introduce this question by asking students whether there is anything unusual about the distribution of temperatures. If students plot the distribution as a histogram with as many categories as possible (each category representing 0.1 degrees F), they will note that there is a periodic rise and fall within the overall normal curve. This occurs around every other category, or about every 0.2 degrees F. Perhaps this is an artifact of rounding, yet it would make little sense to round off at about every 0.2 degrees F. However, if the temperatures had been converted from a Centigrade scale, we would find the periodic rise at every 0.1 degrees Centigrade (because degrees C = (degrees F - 32) * 5/9). This makes more sense -- there would be a tendency to round to the nearest tenth of a degree. Another indication of this is the fact that in the original article, all temperatures are given first in degrees Centigrade, then converted to Fahrenheit.\n",
    "\n"
   ]
  }
 ],
 "metadata": {
  "kernelspec": {
   "display_name": "Python 3",
   "language": "python",
   "name": "python3"
  },
  "language_info": {
   "codemirror_mode": {
    "name": "ipython",
    "version": 3
   },
   "file_extension": ".py",
   "mimetype": "text/x-python",
   "name": "python",
   "nbconvert_exporter": "python",
   "pygments_lexer": "ipython3",
   "version": "3.7.3"
  }
 },
 "nbformat": 4,
 "nbformat_minor": 1
}
