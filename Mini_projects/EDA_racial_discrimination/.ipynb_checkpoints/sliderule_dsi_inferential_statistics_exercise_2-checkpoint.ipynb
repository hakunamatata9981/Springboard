{
 "cells": [
  {
   "cell_type": "markdown",
   "metadata": {},
   "source": [
    "# Examining Racial Discrimination in the US Job Market\n",
    "\n",
    "### Background\n",
    "Racial discrimination continues to be pervasive in cultures throughout the world. Researchers examined the level of racial discrimination in the United States labor market by randomly assigning identical résumés to black-sounding or white-sounding names and observing the impact on requests for interviews from employers.\n",
    "\n",
    "### Data\n",
    "In the dataset provided, each row represents a resume. The 'race' column has two values, 'b' and 'w', indicating black-sounding and white-sounding. The column 'call' has two values, 1 and 0, indicating whether the resume received a call from employers or not.\n",
    "\n",
    "Note that the 'b' and 'w' values in race are assigned randomly to the resumes when presented to the employer."
   ]
  },
  {
   "cell_type": "markdown",
   "metadata": {},
   "source": [
    "### Exercises\n",
    "You will perform a statistical analysis to establish whether race has a significant impact on the rate of callbacks for resumes.\n",
    "\n",
    "Answer the following questions **in this notebook below and submit to your Github account**. \n",
    "\n",
    "   1. What test is appropriate for this problem? Does CLT apply?\n",
    "   2. What are the null and alternate hypotheses?\n",
    "   3. Compute margin of error, confidence interval, and p-value. Try using both the bootstrapping and the frequentist statistical approaches.\n",
    "   4. Write a story describing the statistical significance in the context or the original problem.\n",
    "   5. Does your analysis mean that race/name is the most important factor in callback success? Why or why not? If not, how would you amend your analysis?\n",
    "\n",
    "You can include written notes in notebook cells using Markdown: \n",
    "   - In the control panel at the top, choose Cell > Cell Type > Markdown\n",
    "   - Markdown syntax: http://nestacms.com/docs/creating-content/markdown-cheat-sheet\n",
    "\n",
    "#### Resources\n",
    "+ Experiment information and data source: http://www.povertyactionlab.org/evaluation/discrimination-job-market-united-states\n",
    "+ Scipy statistical methods: http://docs.scipy.org/doc/scipy/reference/stats.html \n",
    "+ Markdown syntax: http://nestacms.com/docs/creating-content/markdown-cheat-sheet\n",
    "+ Formulas for the Bernoulli distribution: https://en.wikipedia.org/wiki/Bernoulli_distribution"
   ]
  },
  {
   "cell_type": "code",
   "execution_count": 1,
   "metadata": {},
   "outputs": [],
   "source": [
    "import pandas as pd\n",
    "import numpy as np\n",
    "from scipy import stats"
   ]
  },
  {
   "cell_type": "code",
   "execution_count": 2,
   "metadata": {},
   "outputs": [],
   "source": [
    "data = pd.io.stata.read_stata('data/us_job_market_discrimination.dta')"
   ]
  },
  {
   "cell_type": "code",
   "execution_count": 3,
   "metadata": {},
   "outputs": [
    {
     "data": {
      "text/plain": [
       "235.0"
      ]
     },
     "execution_count": 3,
     "metadata": {},
     "output_type": "execute_result"
    }
   ],
   "source": [
    "# number of callbacks for black-sounding names\n",
    "sum(data[data.race=='w'].call)"
   ]
  },
  {
   "cell_type": "code",
   "execution_count": 4,
   "metadata": {},
   "outputs": [
    {
     "name": "stdout",
     "output_type": "stream",
     "text": [
      "<class 'pandas.core.frame.DataFrame'>\n",
      "Int64Index: 4870 entries, 0 to 4869\n",
      "Data columns (total 65 columns):\n",
      "id                    4870 non-null object\n",
      "ad                    4870 non-null object\n",
      "education             4870 non-null int8\n",
      "ofjobs                4870 non-null int8\n",
      "yearsexp              4870 non-null int8\n",
      "honors                4870 non-null int8\n",
      "volunteer             4870 non-null int8\n",
      "military              4870 non-null int8\n",
      "empholes              4870 non-null int8\n",
      "occupspecific         4870 non-null int16\n",
      "occupbroad            4870 non-null int8\n",
      "workinschool          4870 non-null int8\n",
      "email                 4870 non-null int8\n",
      "computerskills        4870 non-null int8\n",
      "specialskills         4870 non-null int8\n",
      "firstname             4870 non-null object\n",
      "sex                   4870 non-null object\n",
      "race                  4870 non-null object\n",
      "h                     4870 non-null float32\n",
      "l                     4870 non-null float32\n",
      "call                  4870 non-null float32\n",
      "city                  4870 non-null object\n",
      "kind                  4870 non-null object\n",
      "adid                  4870 non-null float32\n",
      "fracblack             4784 non-null float32\n",
      "fracwhite             4784 non-null float32\n",
      "lmedhhinc             4784 non-null float32\n",
      "fracdropout           4784 non-null float32\n",
      "fraccolp              4784 non-null float32\n",
      "linc                  4784 non-null float32\n",
      "col                   4870 non-null float32\n",
      "expminreq             4870 non-null object\n",
      "schoolreq             4870 non-null object\n",
      "eoe                   4870 non-null float32\n",
      "parent_sales          1672 non-null float32\n",
      "parent_emp            1722 non-null float32\n",
      "branch_sales          608 non-null float32\n",
      "branch_emp            658 non-null float32\n",
      "fed                   3102 non-null float32\n",
      "fracblack_empzip      1918 non-null float32\n",
      "fracwhite_empzip      1918 non-null float32\n",
      "lmedhhinc_empzip      1908 non-null float32\n",
      "fracdropout_empzip    1918 non-null float32\n",
      "fraccolp_empzip       1918 non-null float32\n",
      "linc_empzip           1918 non-null float32\n",
      "manager               4870 non-null float32\n",
      "supervisor            4870 non-null float32\n",
      "secretary             4870 non-null float32\n",
      "offsupport            4870 non-null float32\n",
      "salesrep              4870 non-null float32\n",
      "retailsales           4870 non-null float32\n",
      "req                   4870 non-null float32\n",
      "expreq                4870 non-null float32\n",
      "comreq                4870 non-null float32\n",
      "educreq               4870 non-null float32\n",
      "compreq               4870 non-null float32\n",
      "orgreq                4870 non-null float32\n",
      "manuf                 4870 non-null float32\n",
      "transcom              4870 non-null float32\n",
      "bankreal              4870 non-null float32\n",
      "trade                 4870 non-null float32\n",
      "busservice            4870 non-null float32\n",
      "othservice            4870 non-null float32\n",
      "missind               4870 non-null float32\n",
      "ownership             4870 non-null object\n",
      "dtypes: float32(42), int16(1), int8(12), object(10)\n",
      "memory usage: 1.3+ MB\n"
     ]
    },
    {
     "data": {
      "text/html": [
       "<div>\n",
       "<style scoped>\n",
       "    .dataframe tbody tr th:only-of-type {\n",
       "        vertical-align: middle;\n",
       "    }\n",
       "\n",
       "    .dataframe tbody tr th {\n",
       "        vertical-align: top;\n",
       "    }\n",
       "\n",
       "    .dataframe thead th {\n",
       "        text-align: right;\n",
       "    }\n",
       "</style>\n",
       "<table border=\"1\" class=\"dataframe\">\n",
       "  <thead>\n",
       "    <tr style=\"text-align: right;\">\n",
       "      <th></th>\n",
       "      <th>id</th>\n",
       "      <th>ad</th>\n",
       "      <th>education</th>\n",
       "      <th>ofjobs</th>\n",
       "      <th>yearsexp</th>\n",
       "      <th>honors</th>\n",
       "      <th>volunteer</th>\n",
       "      <th>military</th>\n",
       "      <th>empholes</th>\n",
       "      <th>occupspecific</th>\n",
       "      <th>...</th>\n",
       "      <th>compreq</th>\n",
       "      <th>orgreq</th>\n",
       "      <th>manuf</th>\n",
       "      <th>transcom</th>\n",
       "      <th>bankreal</th>\n",
       "      <th>trade</th>\n",
       "      <th>busservice</th>\n",
       "      <th>othservice</th>\n",
       "      <th>missind</th>\n",
       "      <th>ownership</th>\n",
       "    </tr>\n",
       "  </thead>\n",
       "  <tbody>\n",
       "    <tr>\n",
       "      <th>0</th>\n",
       "      <td>b</td>\n",
       "      <td>1</td>\n",
       "      <td>4</td>\n",
       "      <td>2</td>\n",
       "      <td>6</td>\n",
       "      <td>0</td>\n",
       "      <td>0</td>\n",
       "      <td>0</td>\n",
       "      <td>1</td>\n",
       "      <td>17</td>\n",
       "      <td>...</td>\n",
       "      <td>1.0</td>\n",
       "      <td>0.0</td>\n",
       "      <td>1.0</td>\n",
       "      <td>0.0</td>\n",
       "      <td>0.0</td>\n",
       "      <td>0.0</td>\n",
       "      <td>0.0</td>\n",
       "      <td>0.0</td>\n",
       "      <td>0.0</td>\n",
       "      <td></td>\n",
       "    </tr>\n",
       "    <tr>\n",
       "      <th>1</th>\n",
       "      <td>b</td>\n",
       "      <td>1</td>\n",
       "      <td>3</td>\n",
       "      <td>3</td>\n",
       "      <td>6</td>\n",
       "      <td>0</td>\n",
       "      <td>1</td>\n",
       "      <td>1</td>\n",
       "      <td>0</td>\n",
       "      <td>316</td>\n",
       "      <td>...</td>\n",
       "      <td>1.0</td>\n",
       "      <td>0.0</td>\n",
       "      <td>1.0</td>\n",
       "      <td>0.0</td>\n",
       "      <td>0.0</td>\n",
       "      <td>0.0</td>\n",
       "      <td>0.0</td>\n",
       "      <td>0.0</td>\n",
       "      <td>0.0</td>\n",
       "      <td></td>\n",
       "    </tr>\n",
       "    <tr>\n",
       "      <th>2</th>\n",
       "      <td>b</td>\n",
       "      <td>1</td>\n",
       "      <td>4</td>\n",
       "      <td>1</td>\n",
       "      <td>6</td>\n",
       "      <td>0</td>\n",
       "      <td>0</td>\n",
       "      <td>0</td>\n",
       "      <td>0</td>\n",
       "      <td>19</td>\n",
       "      <td>...</td>\n",
       "      <td>1.0</td>\n",
       "      <td>0.0</td>\n",
       "      <td>1.0</td>\n",
       "      <td>0.0</td>\n",
       "      <td>0.0</td>\n",
       "      <td>0.0</td>\n",
       "      <td>0.0</td>\n",
       "      <td>0.0</td>\n",
       "      <td>0.0</td>\n",
       "      <td></td>\n",
       "    </tr>\n",
       "    <tr>\n",
       "      <th>3</th>\n",
       "      <td>b</td>\n",
       "      <td>1</td>\n",
       "      <td>3</td>\n",
       "      <td>4</td>\n",
       "      <td>6</td>\n",
       "      <td>0</td>\n",
       "      <td>1</td>\n",
       "      <td>0</td>\n",
       "      <td>1</td>\n",
       "      <td>313</td>\n",
       "      <td>...</td>\n",
       "      <td>1.0</td>\n",
       "      <td>0.0</td>\n",
       "      <td>1.0</td>\n",
       "      <td>0.0</td>\n",
       "      <td>0.0</td>\n",
       "      <td>0.0</td>\n",
       "      <td>0.0</td>\n",
       "      <td>0.0</td>\n",
       "      <td>0.0</td>\n",
       "      <td></td>\n",
       "    </tr>\n",
       "    <tr>\n",
       "      <th>4</th>\n",
       "      <td>b</td>\n",
       "      <td>1</td>\n",
       "      <td>3</td>\n",
       "      <td>3</td>\n",
       "      <td>22</td>\n",
       "      <td>0</td>\n",
       "      <td>0</td>\n",
       "      <td>0</td>\n",
       "      <td>0</td>\n",
       "      <td>313</td>\n",
       "      <td>...</td>\n",
       "      <td>1.0</td>\n",
       "      <td>1.0</td>\n",
       "      <td>0.0</td>\n",
       "      <td>0.0</td>\n",
       "      <td>0.0</td>\n",
       "      <td>0.0</td>\n",
       "      <td>0.0</td>\n",
       "      <td>1.0</td>\n",
       "      <td>0.0</td>\n",
       "      <td>Nonprofit</td>\n",
       "    </tr>\n",
       "  </tbody>\n",
       "</table>\n",
       "<p>5 rows × 65 columns</p>\n",
       "</div>"
      ],
      "text/plain": [
       "  id ad  education  ofjobs  yearsexp  honors  volunteer  military  empholes  \\\n",
       "0  b  1          4       2         6       0          0         0         1   \n",
       "1  b  1          3       3         6       0          1         1         0   \n",
       "2  b  1          4       1         6       0          0         0         0   \n",
       "3  b  1          3       4         6       0          1         0         1   \n",
       "4  b  1          3       3        22       0          0         0         0   \n",
       "\n",
       "   occupspecific  ...  compreq  orgreq  manuf  transcom  bankreal trade  \\\n",
       "0             17  ...      1.0     0.0    1.0       0.0       0.0   0.0   \n",
       "1            316  ...      1.0     0.0    1.0       0.0       0.0   0.0   \n",
       "2             19  ...      1.0     0.0    1.0       0.0       0.0   0.0   \n",
       "3            313  ...      1.0     0.0    1.0       0.0       0.0   0.0   \n",
       "4            313  ...      1.0     1.0    0.0       0.0       0.0   0.0   \n",
       "\n",
       "  busservice othservice  missind  ownership  \n",
       "0        0.0        0.0      0.0             \n",
       "1        0.0        0.0      0.0             \n",
       "2        0.0        0.0      0.0             \n",
       "3        0.0        0.0      0.0             \n",
       "4        0.0        1.0      0.0  Nonprofit  \n",
       "\n",
       "[5 rows x 65 columns]"
      ]
     },
     "execution_count": 4,
     "metadata": {},
     "output_type": "execute_result"
    }
   ],
   "source": [
    "data.describe()\n",
    "data.info()\n",
    "data.shape\n",
    "data.head()"
   ]
  },
  {
   "cell_type": "markdown",
   "metadata": {
    "collapsed": true
   },
   "source": [
    "<div class=\"span5 alert alert-success\">\n",
    "<p>Your answers to Q1 and Q2 here</p>\n",
    "</div>"
   ]
  },
  {
   "cell_type": "markdown",
   "metadata": {},
   "source": [
    "## Q1. What test is appropriate for this problem? Does CLT apply?"
   ]
  },
  {
   "cell_type": "code",
   "execution_count": 5,
   "metadata": {},
   "outputs": [
    {
     "name": "stdout",
     "output_type": "stream",
     "text": [
      "w    2435\n",
      "b    2435\n",
      "Name: race, dtype: int64\n",
      "sample population ration meet the CLT condition\n",
      "np and nq for black: 157.0 2278.0\n",
      "np and nq for white: 235.0 2200.0\n",
      "0.24559901654720306\n",
      "0.29528486728668213\n"
     ]
    }
   ],
   "source": [
    "# Is there a better way to seperate dataframe into 2\n",
    "df = data[['race','call']]\n",
    "print(df.race.value_counts())\n",
    "black = df[df.race == \"b\"]\n",
    "white = df[df.race == 'w']\n",
    "\n",
    "# To check the normality of two sample, we first apply CLT here:\n",
    "# 3 conditions to meet:\n",
    "# Randomization: \n",
    "# from the desription above: Researchers examined the level of racial discrimination in the United States \n",
    "#                            labor market by randomly assigning identical résumés to \n",
    "#                            black-sounding or white-sounding names and observing the impact \n",
    "#                            on requests for interviews from employers.\n",
    "# 10% RULE:\n",
    "# The sample size must not be bigger than 10% of the entire population. IF NO REPLACEMENT WHEN SMAPLING\n",
    "# From US Bureau of Labor Statistics, there were 143,357,000 in work force in June, 2011\n",
    "\n",
    "sample_pop_ratio = len(df) / 143357000\n",
    "if sample_pop_ratio < 0.1:\n",
    "    print(\"sample population ration meet the CLT condition\")\n",
    "else:\n",
    "    print(\"sample population ratio did not meet the CLT condition\")\n",
    "\n",
    "# Large Enough Sample Size: a. Sample size n should be large enough so that np≥10 and nq≥10\n",
    "#                        or b. Sample size => 30\n",
    "\n",
    "p_for_black = np.sum(black.call) / len(black.call)\n",
    "q_for_black = 1 - p_for_black\n",
    "p_for_white = np.sum(white.call) / len(white.call)\n",
    "q_for_white = 1 - p_for_white\n",
    "\n",
    "print(\"np and nq for black: \" + str(len(black) * p_for_black), str(len(black) * q_for_black))\n",
    "print(\"np and nq for white: \" + str(len(white) * p_for_white), str(len(white) * q_for_white))\n",
    "\n",
    "# Both bigger ≥ 10, and sample size are both ≥ 30\n",
    "\n",
    "# Since the CLT works for both samples(normality), we can apply a independent t-test\n",
    "print(np.std(black.call))\n",
    "print(np.std(white.call))\n",
    "# Does this count as homogeneous of variance\n",
    "\n"
   ]
  },
  {
   "cell_type": "markdown",
   "metadata": {},
   "source": [
    "## Q2. What are the null and alternate hypotheses?"
   ]
  },
  {
   "cell_type": "code",
   "execution_count": 6,
   "metadata": {},
   "outputs": [],
   "source": [
    "# Assume significant level a = 0.05\n",
    "# H0: mean of black's call back == mean of white's call back\n",
    "# H1: mean of black's call back < mean of white's call back"
   ]
  },
  {
   "cell_type": "markdown",
   "metadata": {
    "collapsed": true
   },
   "source": [
    "## Q3. Compute margin of error, confidence interval, and p-value. Try using both the bootstrapping and the frequentist statistical approaches."
   ]
  },
  {
   "cell_type": "code",
   "execution_count": 9,
   "metadata": {},
   "outputs": [
    {
     "name": "stdout",
     "output_type": "stream",
     "text": [
      "mean black call back rate: 0.0644763857126236\n",
      "mean white call back rate: 0.09650924056768417\n",
      "0.029205283954724538\n",
      "0.03203285485506058\n",
      "The confidence interval for mean call back rate of white - mean call back rate of black is: 0.00282757090033604,0.06123813880978511\n",
      "Ttest_indResult(statistic=-4.114705290861751, pvalue=3.940802103128886e-05)\n",
      "t-test_p-value: 0.0000394080210313\n"
     ]
    }
   ],
   "source": [
    "# Still did not get the idea of bootstrapping and replicates\n",
    "\n",
    "# z_value = stats.norm.ppf(q=0.975)\n",
    "# margin_error_blk = z_value * math.sqrt((p_for_black * q_for_black) / len(black))\n",
    "# print(margin_error_blk)\n",
    "# CI95_blk = (np.mean(black.call) - margin_error_blk, np.mean(white.call) + margin_error_blk)\n",
    "# print(\"95% Confidence Interval: \" + str(np.mean(black.call) - margin_error_blk), str(np.mean(white.call) + margin_error_blk))\n",
    "# np.mean(black.call)\n",
    "\n",
    "# For margin of error of a 2-tail 95%CI:\n",
    "import math\n",
    "\n",
    "# margin of error for mean call back rate of white - mean call back rate of black:\n",
    "# since we are dealing with a sample size >> 30, the t_value will approach z_value\n",
    "# we are going to use z_value here to construct our 95%CI\n",
    "print(\"mean black call back rate: \" + str(np.mean(black.call)))\n",
    "print(\"mean white call back rate: \" + str(np.mean(white.call)))\n",
    "z_value = stats.norm.ppf(q=0.975)\n",
    "margin_error = z_value * (math.sqrt((((len(black.call)-1) * np.std(black.call)) + ((len(white.call) - 1) * np.std(white.call))) / (len(df)))) * math.sqrt(1 / len(black.call) + 1 / len(white.call))\n",
    "print(margin_error)\n",
    "mean_diff = np.mean(white.call) - np.mean(black.call)\n",
    "print(mean_diff)\n",
    "CI_95 = (mean_diff - margin_error, mean_diff + margin_error)\n",
    "print(\"The confidence interval for mean call back rate of white - mean call back rate of black is: \" + str(mean_diff - margin_error) + \",\" + str(mean_diff + margin_error))\n",
    "\n",
    "\n",
    "# H0: mean of black's call back == mean of white's call back\n",
    "# H1: mean of black's call back < mean of white's call back\n",
    "\n",
    "print(stats.ttest_ind(black.call, white.call, axis=0, equal_var=True, nan_policy='propagate'))\n",
    "print(\"t-test_p-value: \" + \"%.16f\" % float(\"3.940802103128886e-05\"))\n",
    "\n",
    "# The p value is really the probability of a result at least as extreme as the sample result \n",
    "# if the null hypothesis were true. So a p value of 0.0000394080210313 means that if the \n",
    "# null hypothesis were true, a sample result this extreme would occur only 0.0000394080210313 of the time.\n",
    "\n",
    "\n",
    "# p-value < 0.01: there is overwhelming evidence to infer that the alternative hypothesis is true. The test is highly significant.\n",
    "# 0.01 < p-value < 0.05: there is strong evidence to infer that the alternative hypothesis is true. The test is significant.\n",
    "# 0.05 < p-value < 0.10: there is weak evidence to infer that the alternative hypothesis is true. The test is not statistically significant.\n",
    "# 0.10 < p-value: there is no evidence to infer that the alternative hypothesis is true. The test is not statistically significant.\n",
    "\n",
    "# Since the p-value: 0.00004 < 0.05, we can reject our null hypothesis with overwhelming evidence \n",
    "# in favor of the alternative hypothesis that call back rate of black is smaller then call\n",
    "# back rate of white \n"
   ]
  },
  {
   "cell_type": "markdown",
   "metadata": {},
   "source": [
    "<div class=\"span5 alert alert-success\">\n",
    "<p> Your answers to Q4 and Q5 here </p>\n",
    "</div>"
   ]
  },
  {
   "cell_type": "markdown",
   "metadata": {},
   "source": [
    "## Q4. Write a story describing the statistical significance in the context or the original problem."
   ]
  },
  {
   "cell_type": "code",
   "execution_count": 10,
   "metadata": {},
   "outputs": [],
   "source": [
    "# The purpose of this research is to find if discrimination exist in US job market between \n",
    "# blacks and whites, data are collected by randomly assigning identical résumés black-sounding \n",
    "# or white-sounding names and observing the impact on requests for interviews from employers.\n",
    "\n",
    "# By performing some statistic test, I realized that the difference of call back rate between \n",
    "# white-sounding name and black-sounding name are significant, which white-sounding name get \n",
    "# 50% more call for interview than black-sounding name.\n",
    "\n",
    "# The result indicates that all other things being same, the white-sounding name have a \n",
    "# 50% higher call back rate for  interview than black-sounding name, discrimination between\n",
    "# blacks and whites do exist in the US job market between 2000 - 2002"
   ]
  },
  {
   "cell_type": "markdown",
   "metadata": {},
   "source": [
    "## Q5. Does your analysis mean that race/name is the most important factor in callback success? Why or why not? If not, how would you amend your analysis?"
   ]
  },
  {
   "cell_type": "code",
   "execution_count": 11,
   "metadata": {},
   "outputs": [],
   "source": [
    "# Our analysis can only tell us that there exist a callback rate different between blacks and \n",
    "# whites, but we cannot conclude that this is the most important factor, since this is the only\n",
    "# factor we check.\n",
    "\n",
    "# There still exist other 63 columns for us to pick from, which we can check their relationship \n",
    "# with call back rate, for example: sex, yearsexp, etc, which I am going to perform \n",
    "# below"
   ]
  },
  {
   "cell_type": "code",
   "execution_count": null,
   "metadata": {},
   "outputs": [],
   "source": []
  },
  {
   "cell_type": "markdown",
   "metadata": {},
   "source": [
    "## Xtra 1: sex and callback rate"
   ]
  },
  {
   "cell_type": "code",
   "execution_count": 22,
   "metadata": {},
   "outputs": [
    {
     "name": "stdout",
     "output_type": "stream",
     "text": [
      "Male call back rate: 0.07384341955184937\n",
      "Female call back rate: 0.08248798549175262\n",
      "Ttest_indResult(statistic=-0.9341989341332145, pvalue=0.3502476207298205)\n"
     ]
    }
   ],
   "source": [
    "df_sex = data[['call','sex']]\n",
    "df_sex.head()\n",
    "male = df_sex[df_sex.sex=='m']\n",
    "female = df_sex[df_sex.sex=='f']\n",
    "print(\"Male call back rate: \" + str(np.mean(male.call)))\n",
    "print(\"Female call back rate: \" + str(np.mean(female.call)))\n",
    "print(stats.ttest_ind(male.call, female.call, axis=0, equal_var=True, nan_policy='propagate'))\n",
    "\n",
    "# At the 5% significant level, we cannot reject the null hypothesis that male call bakc rate \n",
    "# is different from female call back rate"
   ]
  },
  {
   "cell_type": "markdown",
   "metadata": {},
   "source": [
    "## Xtra 2: education and callback rate"
   ]
  },
  {
   "cell_type": "code",
   "execution_count": 37,
   "metadata": {},
   "outputs": [
    {
     "name": "stdout",
     "output_type": "stream",
     "text": [
      "Call back rate for people that have more than 10 years expereince: 0.11386138945817947\n",
      "Call back rate for people that have less than 10 years expereince: 0.07176166027784348\n",
      "Ttest_indResult(statistic=4.3861180762876035, pvalue=1.1782773739952898e-05)\n"
     ]
    }
   ],
   "source": [
    "df_exp = data[['yearsexp','call']]\n",
    "df_exp.head()\n",
    "\n",
    "ten_yrs_plus_exp = df_exp[df_exp.yearsexp > 10]\n",
    "less_exp = df_exp[df_exp.yearsexp <= 10]\n",
    "\n",
    "print(\"Call back rate for people that have more than 10 years expereince: \" + str(np.mean(ten_yrs_plus_exp.call)))\n",
    "print(\"Call back rate for people that have less than 10 years expereince: \" + str(np.mean(less_exp.call)))\n",
    "\n",
    "print(stats.ttest_ind(ten_yrs_plus_exp.call, less_exp.call, axis=0, equal_var=True, nan_policy='propagate'))\n",
    "\n",
    "# From the result of the t-test, we can reject the null hypothesis, and accpet the alterncative\n",
    "# that the call back rate for people with more than 10 years exp is higher than those who have \n",
    "# less than 10 years exp.\n"
   ]
  },
  {
   "cell_type": "code",
   "execution_count": null,
   "metadata": {},
   "outputs": [],
   "source": []
  },
  {
   "cell_type": "code",
   "execution_count": null,
   "metadata": {},
   "outputs": [],
   "source": []
  },
  {
   "cell_type": "code",
   "execution_count": null,
   "metadata": {},
   "outputs": [],
   "source": []
  },
  {
   "cell_type": "code",
   "execution_count": null,
   "metadata": {},
   "outputs": [],
   "source": []
  },
  {
   "cell_type": "code",
   "execution_count": null,
   "metadata": {},
   "outputs": [],
   "source": []
  },
  {
   "cell_type": "code",
   "execution_count": null,
   "metadata": {},
   "outputs": [],
   "source": []
  }
 ],
 "metadata": {
  "kernelspec": {
   "display_name": "Python 3",
   "language": "python",
   "name": "python3"
  },
  "language_info": {
   "codemirror_mode": {
    "name": "ipython",
    "version": 3
   },
   "file_extension": ".py",
   "mimetype": "text/x-python",
   "name": "python",
   "nbconvert_exporter": "python",
   "pygments_lexer": "ipython3",
   "version": "3.7.3"
  }
 },
 "nbformat": 4,
 "nbformat_minor": 1
}
