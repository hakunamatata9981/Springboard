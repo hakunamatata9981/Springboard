{
 "cells": [
  {
   "cell_type": "markdown",
   "metadata": {},
   "source": [
    "## Capestone Project - 1: Data Wrangling\n",
    "## 0. Introduction to the dataset\n",
    "#### The data file in this project are acquired from Kaggle at: https://www.kaggle.com/zynicide/wine-reviews#winemag-data-130k-v2.csv, which  was scraped from WineEnthusiast during the week of June 15th, 2017. \n",
    "\n",
    " \n",
    "## 1. Import relevant modules\n",
    "#### Start the data wrangling procedure by importing relevant package"
   ]
  },
  {
   "cell_type": "code",
   "execution_count": 3,
   "metadata": {},
   "outputs": [],
   "source": [
    "import pandas as pd\n",
    "import matplotlib.pyplot as plt\n",
    "import numpy as np\n",
    "import re\n",
    "import seaborn as sns\n",
    "\n",
    "\n",
    "pd.options.mode.chained_assignment = None "
   ]
  },
  {
   "cell_type": "markdown",
   "metadata": {},
   "source": [
    "## 2. Import the raw data file\n",
    "#### Use pd.read_csv() to import the data file"
   ]
  },
  {
   "cell_type": "code",
   "execution_count": 3,
   "metadata": {},
   "outputs": [],
   "source": [
    "wine = pd.read_csv(\"data/winemag-data-130k-v2.csv\", index_col = 0)"
   ]
  },
  {
   "cell_type": "markdown",
   "metadata": {},
   "source": [
    "## 3. Understanding the dataset & data wrangling strategies\n",
    "### 1) Understanding the dataset\n",
    "#### Execute commands, including .shape, .columns, .info(), to have a better understanding of the dataset."
   ]
  },
  {
   "cell_type": "code",
   "execution_count": 3,
   "metadata": {},
   "outputs": [],
   "source": [
    "## print(wine.shape)\n",
    "## print(\"\\n\")\n",
    "## print(wine.columns)\n",
    "## print(\"\\n\")\n",
    "## print(wine.info())\n",
    "# can also use wine.isnull().mean() to see how many null values are in each columns"
   ]
  },
  {
   "cell_type": "markdown",
   "metadata": {},
   "source": [
    "### 2) Characteristics of the dataset:\n",
    "#### Now, this is a dataset with 129971 rows and 14 columns, including information such as region, designation, variety of each bottle of wine. For data wrangling, I will first divide dataset into 2 subsets according to each column's characteristic.\n",
    "\n",
    "* A. Numeric columns: points (WineEnthusiast, scale 1-100), price (USD)\n",
    "* B. Description columns: designation, country, province, region_1 (province, state), region_2 (more specific region), title, varierty, winery, description, taster_name, taster_twitter_handle"
   ]
  },
  {
   "cell_type": "markdown",
   "metadata": {},
   "source": [
    "### 3) Data wrangling:\n",
    "#### First, add a column by exrtracting year information from the title column for analysis purpose.\n",
    "#### Secondly, going to drop columns and rows that is not going to be useful for analysis purpose."
   ]
  },
  {
   "cell_type": "code",
   "execution_count": 4,
   "metadata": {},
   "outputs": [],
   "source": [
    "def extract_num(a):\n",
    "    test_string = a\n",
    "    temp = re.findall(r'\\d+', test_string)\n",
    "    res = list(map(int, temp)) \n",
    "    return res\n",
    "\n",
    "l = []\n",
    "for index in range(len(wine.title)):\n",
    "    numList = extract_num(wine.title[index])\n",
    "    if len(numList) >= 1:\n",
    "        l.append(max(numList))\n",
    "    else:\n",
    "        l.append(\"NaN\")\n",
    "\n",
    "wine[\"year\"]= l"
   ]
  },
  {
   "cell_type": "markdown",
   "metadata": {},
   "source": [
    "### Drop columns with significant amount of null entries\n",
    "#### From the info showing above, we realized that region_2 column only have 50511 non-null value which is approx only 40% of the total rows, so I am going to drop region_2 column"
   ]
  },
  {
   "cell_type": "code",
   "execution_count": 5,
   "metadata": {
    "scrolled": true
   },
   "outputs": [],
   "source": [
    "wine2 = wine.drop(labels = ['region_2'], axis = 1)"
   ]
  },
  {
   "cell_type": "markdown",
   "metadata": {},
   "source": [
    "### Drop rows where the values are null in the price column\n",
    "\n",
    "#### Main pupose of this project is to find out the relationship between price and other columns, so null values in the price column will be dropped drop rows have to reset index"
   ]
  },
  {
   "cell_type": "code",
   "execution_count": 6,
   "metadata": {},
   "outputs": [],
   "source": [
    "wine3 = wine2.dropna(axis = 0, subset=['price'], how = 'any').reset_index(drop = True)"
   ]
  },
  {
   "cell_type": "markdown",
   "metadata": {},
   "source": [
    "## Data cleaning:\n",
    "\n",
    "#### Going to start dealing with null values and misrepresent values in each column. Starting with the variety column, since there is only a value missing, going to call out that row first and see if we can fill the null value."
   ]
  },
  {
   "cell_type": "code",
   "execution_count": 7,
   "metadata": {},
   "outputs": [
    {
     "data": {
      "text/html": [
       "<div>\n",
       "<style scoped>\n",
       "    .dataframe tbody tr th:only-of-type {\n",
       "        vertical-align: middle;\n",
       "    }\n",
       "\n",
       "    .dataframe tbody tr th {\n",
       "        vertical-align: top;\n",
       "    }\n",
       "\n",
       "    .dataframe thead th {\n",
       "        text-align: right;\n",
       "    }\n",
       "</style>\n",
       "<table border=\"1\" class=\"dataframe\">\n",
       "  <thead>\n",
       "    <tr style=\"text-align: right;\">\n",
       "      <th></th>\n",
       "      <th>country</th>\n",
       "      <th>description</th>\n",
       "      <th>designation</th>\n",
       "      <th>points</th>\n",
       "      <th>price</th>\n",
       "      <th>province</th>\n",
       "      <th>region_1</th>\n",
       "      <th>taster_name</th>\n",
       "      <th>taster_twitter_handle</th>\n",
       "      <th>title</th>\n",
       "      <th>variety</th>\n",
       "      <th>winery</th>\n",
       "      <th>year</th>\n",
       "    </tr>\n",
       "  </thead>\n",
       "  <tbody>\n",
       "    <tr>\n",
       "      <th>80848</th>\n",
       "      <td>Chile</td>\n",
       "      <td>A chalky, dusty mouthfeel nicely balances this...</td>\n",
       "      <td>NaN</td>\n",
       "      <td>88</td>\n",
       "      <td>17.0</td>\n",
       "      <td>Maipo Valley</td>\n",
       "      <td>NaN</td>\n",
       "      <td>NaN</td>\n",
       "      <td>NaN</td>\n",
       "      <td>Carmen 1999  (Maipo Valley)</td>\n",
       "      <td>NaN</td>\n",
       "      <td>Carmen</td>\n",
       "      <td>1999</td>\n",
       "    </tr>\n",
       "  </tbody>\n",
       "</table>\n",
       "</div>"
      ],
      "text/plain": [
       "      country                                        description designation  \\\n",
       "80848   Chile  A chalky, dusty mouthfeel nicely balances this...         NaN   \n",
       "\n",
       "       points  price      province region_1 taster_name taster_twitter_handle  \\\n",
       "80848      88   17.0  Maipo Valley      NaN         NaN                   NaN   \n",
       "\n",
       "                             title variety  winery  year  \n",
       "80848  Carmen 1999  (Maipo Valley)     NaN  Carmen  1999  "
      ]
     },
     "execution_count": 7,
     "metadata": {},
     "output_type": "execute_result"
    }
   ],
   "source": [
    "wine3[wine3['variety'].isnull()]"
   ]
  },
  {
   "cell_type": "markdown",
   "metadata": {},
   "source": [
    "#### By printing out the whole description,  we realized that the variety of grape of this bottle is Petite Syrah, now replacing the NaN value with Petite Syrah"
   ]
  },
  {
   "cell_type": "code",
   "execution_count": 8,
   "metadata": {},
   "outputs": [
    {
     "name": "stdout",
     "output_type": "stream",
     "text": [
      "[\"A chalky, dusty mouthfeel nicely balances this Petite Syrah's bright, full blackberry and blueberry fruit. Wheat-flour and black-pepper notes add interest to the bouquet; the wine finishes with herb and an acorny nuttiness. A good first Chilean wine for those more comfortable with the Californian style. It's got tannins to lose, but it's very good.\"]\n"
     ]
    },
    {
     "data": {
      "text/plain": [
       "'Petite Syrah'"
      ]
     },
     "execution_count": 8,
     "metadata": {},
     "output_type": "execute_result"
    }
   ],
   "source": [
    "print(list(wine3[wine3['variety'].isnull()]['description']))\n",
    "\n",
    "## fillna \n",
    "\n",
    "wine3[\"variety\"][80848] = 'Petite Syrah'\n",
    "wine3[\"variety\"][80848]"
   ]
  },
  {
   "cell_type": "markdown",
   "metadata": {},
   "source": [
    "### Country & province columns\n",
    "#### Now, by printing out the info, we can see that the country column and the province column have the same amount of values missing, and by calling the rows where the country value is null, we realized that if the country value is NaN, the province is also NaN. "
   ]
  },
  {
   "cell_type": "code",
   "execution_count": 9,
   "metadata": {
    "scrolled": true
   },
   "outputs": [],
   "source": [
    "wine3 = wine3.sort_values('winery', axis = 0, ascending = True).reset_index(drop = True)\n",
    "# wine3.info()\n",
    "# wine3[wine3[\"country\"].isnull()]"
   ]
  },
  {
   "cell_type": "markdown",
   "metadata": {},
   "source": [
    "#### My strategy here is to first sort the dataframe with the winery column then forward fill or backward fill the null values, since same winery should share the same country and same province, and there are no missing values in the winery column."
   ]
  },
  {
   "cell_type": "code",
   "execution_count": 10,
   "metadata": {},
   "outputs": [],
   "source": [
    "for j in range(1, len(wine3[\"winery\"])):\n",
    "    if wine3.winery[j] == wine3.winery[j-1]:\n",
    "        wine3[['country','province']].fillna(method = \"ffill\", axis = 0, inplace = True)\n",
    "    elif wine3.winery[j] == wine3.winery[j+1]:\n",
    "        wine3[['country','province']].fillna(method = \"bfill\", axis = 0, inplace = True)\n",
    "    else:\n",
    "        pass"
   ]
  },
  {
   "cell_type": "markdown",
   "metadata": {},
   "source": [
    "#### After using the loop to try to fill the empty values of the country and province columns, I realized there are no value that get filled, probabaly because the country and the province of those wineries are already missing. Since there are only 59 vlaues that are missing, I am going to drop these rows."
   ]
  },
  {
   "cell_type": "code",
   "execution_count": 10,
   "metadata": {},
   "outputs": [
    {
     "name": "stdout",
     "output_type": "stream",
     "text": [
      "['Argentina' 'Armenia' 'Australia' 'Austria' 'Bosnia and Herzegovina'\n",
      " 'Brazil' 'Bulgaria' 'Canada' 'Chile' 'China' 'Croatia' 'Cyprus'\n",
      " 'Czech Republic' 'England' 'France' 'Georgia' 'Germany' 'Greece'\n",
      " 'Hungary' 'India' 'Israel' 'Italy' 'Lebanon' 'Luxembourg' 'Macedonia'\n",
      " 'Mexico' 'Moldova' 'Morocco' 'New Zealand' 'Peru' 'Portugal' 'Romania'\n",
      " 'Serbia' 'Slovakia' 'Slovenia' 'South Africa' 'Spain' 'Switzerland'\n",
      " 'Turkey' 'US' 'Ukraine' 'Uruguay']\n"
     ]
    }
   ],
   "source": [
    "# wine3.info()\n",
    "\n",
    "wine3[wine3.country.isnull()].winery.unique()\n",
    "\n",
    "wine4 = wine3.dropna(axis = 0, subset=['country'], how = 'any').reset_index(drop = True)\n",
    "\n",
    "print(wine4.country.sort_values().unique())\n",
    "\n",
    "# wine4.info()\n"
   ]
  },
  {
   "cell_type": "markdown",
   "metadata": {},
   "source": [
    "#### From the count plot, we realized that some countries' samples are too small for analysis purpose, going to only keep the top 15 value counts countries and drop the rest."
   ]
  },
  {
   "cell_type": "code",
   "execution_count": 37,
   "metadata": {
    "scrolled": true
   },
   "outputs": [
    {
     "data": {
      "image/png": "[encoded data removed]",
      "text/plain": [
       "<Figure size 1152x595.44 with 1 Axes>"
      ]
     },
     "metadata": {},
     "output_type": "display_data"
    }
   ],
   "source": [
    "sns.countplot(y=wine4.country)\n",
    "sns.set(rc={'figure.figsize':(16,8.27)})\n",
    "country_list = wine4.country.value_counts().head(15).index\n",
    "\n",
    "for i in wine4.index:\n",
    "    if wine4.country.loc[i] not in country_list:\n",
    "        wine4 = wine4.drop([i])\n",
    "        "
   ]
  },
  {
   "cell_type": "code",
   "execution_count": 38,
   "metadata": {},
   "outputs": [],
   "source": [
    "# wine4.country.unique()"
   ]
  },
  {
   "cell_type": "markdown",
   "metadata": {},
   "source": [
    "### Year column\n",
    "#### Now going to examine each column and see if there exist any abnormal values,  going to first start with the year column."
   ]
  },
  {
   "cell_type": "code",
   "execution_count": 39,
   "metadata": {},
   "outputs": [
    {
     "data": {
      "text/plain": [
       "array([3, 2008, 2009, 2006, 2010, 2015, 2012, 2014, 2013, 2011, 2000,\n",
       "       2016, 14, 2007, 18401, 2, 3000, 2004, 42, 868, 2005, 'NaN', 1997,\n",
       "       1999, 13, 12, 9, 16, 15, 10, 2001, 2003, 1998, 5, 2002, 1934, 2221,\n",
       "       1980, 1607, 1995, 500, 1927, 4, 1996, 1985, 1904, 31, 6679, 20,\n",
       "       1974, 1991, 1994, 6410, 61, 1973, 1969, 2900, 970, 30, 1986, 1947,\n",
       "       1992, 47, 1, 51, 1952, 1989, 1963, 1976, 1993, 1887, 6, 67, 310,\n",
       "       1872, 1987, 1961, 6600, 33, 1990, 2017, 26, 22, 90, 4040, 109,\n",
       "       7200, 8, 7, 25, 125, 150, 18, 6666, 1847, 375, 1945, 1988, 46, 17,\n",
       "       69, 21, 736, 733, 735, 3055, 3400, 4990, 1983, 40, 1965, 1978,\n",
       "       1966, 1984, 1941, 1935, 1957, 158, 1919, 360, 999, 204, 66, 6025,\n",
       "       1882, 7000, 151, 1982, 92067, 2640, 1827, 50, 2401, 75, 88, 8000,\n",
       "       100, 68, 23, 1964, 325, 1967, 1968, 813, 3435, 555, 2131, 1821],\n",
       "      dtype=object)"
      ]
     },
     "execution_count": 39,
     "metadata": {},
     "output_type": "execute_result"
    }
   ],
   "source": [
    "wine4.year.unique()"
   ]
  },
  {
   "cell_type": "markdown",
   "metadata": {},
   "source": [
    "#### Now going to deal with the year column by filtering out NaN value,  the year < 1820 and year > 2018 "
   ]
  },
  {
   "cell_type": "code",
   "execution_count": 40,
   "metadata": {},
   "outputs": [],
   "source": [
    "wine5 = wine4[wine4.year != \"NaN\"]\n",
    "wine6 = wine5[((wine5['year'] > 1820) & (wine5['year'] < 2018))].reset_index(drop = True)\n",
    "# wine6.info()\n"
   ]
  },
  {
   "cell_type": "markdown",
   "metadata": {},
   "source": [
    "#### Before saving the dataframe, check if everything(describe, info, etc) match after reading the dataframe, make sure there are no value missing"
   ]
  },
  {
   "cell_type": "code",
   "execution_count": 4,
   "metadata": {},
   "outputs": [
    {
     "ename": "NameError",
     "evalue": "name 'wine6' is not defined",
     "output_type": "error",
     "traceback": [
      "\u001b[0;31m---------------------------------------------------------------------------\u001b[0m",
      "\u001b[0;31mNameError\u001b[0m                                 Traceback (most recent call last)",
      "\u001b[0;32m<ipython-input-4-1fee032ce18a>\u001b[0m in \u001b[0;36m<module>\u001b[0;34m\u001b[0m\n\u001b[0;32m----> 1\u001b[0;31m \u001b[0mwine6\u001b[0m\u001b[0;34m.\u001b[0m\u001b[0mto_csv\u001b[0m\u001b[0;34m(\u001b[0m\u001b[0;34m'data/wine6.csv'\u001b[0m\u001b[0;34m,\u001b[0m \u001b[0mindex\u001b[0m\u001b[0;34m=\u001b[0m\u001b[0;32mFalse\u001b[0m\u001b[0;34m)\u001b[0m\u001b[0;34m\u001b[0m\u001b[0;34m\u001b[0m\u001b[0m\n\u001b[0m",
      "\u001b[0;31mNameError\u001b[0m: name 'wine6' is not defined"
     ]
    }
   ],
   "source": [
    "wine6.to_csv('data/wine6.csv', index=False)"
   ]
  },
  {
   "cell_type": "code",
   "execution_count": 144,
   "metadata": {},
   "outputs": [],
   "source": [
    "wine7 = pd.read_csv(\"data/wine6.csv\", index_col=False)\n",
    "# wine7.info()"
   ]
  },
  {
   "cell_type": "markdown",
   "metadata": {},
   "source": [
    "### Variety \n",
    "#### Now going to clean the variety column, by printing out the unique value of this column, I relalized there are different spelling for the same type of variety."
   ]
  },
  {
   "cell_type": "code",
   "execution_count": 145,
   "metadata": {},
   "outputs": [
    {
     "data": {
      "text/plain": [
       "627"
      ]
     },
     "execution_count": 145,
     "metadata": {},
     "output_type": "execute_result"
    }
   ],
   "source": [
    "len(wine7.variety.unique())"
   ]
  },
  {
   "cell_type": "markdown",
   "metadata": {},
   "source": [
    "#### From all 683 variteies, I am going to only keep the top 100 varieties with the most value count. And drop the remain rows."
   ]
  },
  {
   "cell_type": "code",
   "execution_count": 146,
   "metadata": {},
   "outputs": [],
   "source": [
    "wine7.variety = wine7.variety.str.lower()\n",
    "np.sum(wine7.variety.value_counts().head(100))\n",
    "wine_list = wine7.variety.value_counts().head(100).index\n",
    "wine_list.sort_values()\n",
    "\n",
    "for i in wine7.index:\n",
    "    if wine7.variety.loc[i] not in wine_list:\n",
    "        wine7 = wine7.drop([i])"
   ]
  },
  {
   "cell_type": "markdown",
   "metadata": {},
   "source": [
    "#### By sorting values in alphabetic order and google research, I create a dictionary to store same variety of grape with differnt names under one name."
   ]
  },
  {
   "cell_type": "code",
   "execution_count": 147,
   "metadata": {},
   "outputs": [
    {
     "data": {
      "text/plain": [
       "100"
      ]
     },
     "execution_count": 147,
     "metadata": {},
     "output_type": "execute_result"
    }
   ],
   "source": [
    "len(wine_list.sort_values())"
   ]
  },
  {
   "cell_type": "code",
   "execution_count": 148,
   "metadata": {},
   "outputs": [],
   "source": [
    "replace_values = {'albariño' : 'alvarinho', 'garnacha' : 'grenache', 'mourvèdre' : 'monastrell', 'muscat' : 'moscato', 'pinot bianco' : 'pinot blanc', 'pinot grigio' : 'pinot gris', 'pinot nero' : 'pinot noir', 'rosado' : 'rosé', 'rosato' : 'rosé' , 'sauvignon' : 'sauvignon blanc' , 'shiraz' : 'syrah', 'tinto fino' : 'tempranillo'}\n",
    "wine8 = wine7.replace({\"variety\" : replace_values})\n",
    "wine_list1 = wine8.variety.unique()\n",
    "\n",
    "# wine8.info()"
   ]
  },
  {
   "cell_type": "markdown",
   "metadata": {},
   "source": [
    "#### Going to add a column to differentiate red wine and white wine, by Google search I divide the grape variety into 2 categories"
   ]
  },
  {
   "cell_type": "code",
   "execution_count": 150,
   "metadata": {},
   "outputs": [],
   "source": [
    "red_wine = ['cabernet sauvignon', 'grenache','red blend','zinfandel','pinot noir','tempranillo','malbec','merlot',\\\n",
    "            'cabernet franc','syrah','bordeaux-style red blend', 'rosé', 'rhône-style red blend',\\\n",
    "            'cabernet sauvignon-merlot','sangiovese','nebbiolo', 'meritage','montepulciano', 'monastrell','petite sirah',\\\n",
    "           'tannat', 'dolcetto', 'petit verdot','mencía','tempranillo blend', 'gamay', 'sangiovese grosso','lagrein',\\\n",
    "            'carignan','tinta de toro','sagrantino','portuguese red','touriga nacional','cabernet sauvignon-syrah',\\\n",
    "           'barbera','negroamaro', 'bonarda','carmenère','nerello mascalese','primitivo','corvina, rondinella, molinara',\\\n",
    "           \"nero d'avola\",'malbec-merlot','g-s-m', 'cabernet blend','aglianico','zweigelt','st. laurent','blaufränkisch',\\\n",
    "           'pinotage','port']\n",
    "white_wine = ['chardonnay','rhône-style white blend','viognier', 'moscato','sauvignon blanc','pinot gris','verdejo',\\\n",
    "              'riesling','white blend', 'gewürztraminer','godello', 'pinot blanc','garganega', 'champagne blend',\\\n",
    "              'alvarinho','vernaccia','grüner veltliner','grüner veltliner','verdicchio','torrontés','glera',\\\n",
    "             'portuguese white','sparkling blend','greco','fiano','falanghina', 'arneis','sémillon','roussanne',\\\n",
    "             'grillo','friulano','viura', 'chenin blanc', 'melon','vermentino','grenache blanc','turbiana',\\\n",
    "             'bordeaux-style white blend']\n",
    "\n",
    "\n",
    "wine8['red_or_white'] = np.where(wine8['variety'].isin(red_wine), 'r', 'w')\n",
    "        "
   ]
  },
  {
   "cell_type": "code",
   "execution_count": 152,
   "metadata": {
    "scrolled": true
   },
   "outputs": [],
   "source": [
    "wine8.to_csv('data/wine8.csv', index=False)"
   ]
  },
  {
   "cell_type": "code",
   "execution_count": 153,
   "metadata": {},
   "outputs": [],
   "source": [
    "wine9 = pd.read_csv('data/wine8.csv', index_col=False)"
   ]
  },
  {
   "cell_type": "code",
   "execution_count": 50,
   "metadata": {},
   "outputs": [],
   "source": [
    "# wine9.info()"
   ]
  },
  {
   "cell_type": "markdown",
   "metadata": {},
   "source": [
    "### Price column\n",
    "#### By printing out the unique values of points and price, I realized that there exist some abnormal values in the price column"
   ]
  },
  {
   "cell_type": "code",
   "execution_count": 154,
   "metadata": {},
   "outputs": [],
   "source": [
    "# print(wine9.points.sort_values().unique())\n",
    "# print(wine9.price.sort_values().unique())"
   ]
  },
  {
   "cell_type": "code",
   "execution_count": 155,
   "metadata": {},
   "outputs": [
    {
     "data": {
      "image/png": "[encoded data removed]",
      "text/plain": [
       "<Figure size 432x288 with 1 Axes>"
      ]
     },
     "metadata": {
      "needs_background": "light"
     },
     "output_type": "display_data"
    }
   ],
   "source": [
    "plt.scatter(wine9.points, wine9.price); "
   ]
  },
  {
   "cell_type": "markdown",
   "metadata": {},
   "source": [
    "#### By printing out the scatter plot between points and price, we can see there exist some extreme values, after checking price for these bottles, bottles that have wrong price tags are Château les Ormes Sorbet 2013 at 3300 USD and Emmerich Knoll 2013 at 1100 USD. The average price of wines from Château les Ormes Sorbet is 23 USD, and there is no price information for the 2013 vintage. Going to drop this row. Emmerich Knoll 2013 should be priced at 40 USD, going to replace this value."
   ]
  },
  {
   "cell_type": "code",
   "execution_count": 156,
   "metadata": {
    "scrolled": true
   },
   "outputs": [
    {
     "name": "stderr",
     "output_type": "stream",
     "text": [
      "/Users/justin/anaconda3/lib/python3.7/site-packages/ipykernel_launcher.py:1: FutureWarning: set_value is deprecated and will be removed in a future release. Please use .at[] or .iat[] accessors instead\n",
      "  \"\"\"Entry point for launching an IPython kernel.\n"
     ]
    },
    {
     "data": {
      "text/plain": [
       "country                                                              Chile\n",
       "description              Big, herbal and rich on the nose, with mineral...\n",
       "designation                         Single Vineyard Don Maximiano Vineyard\n",
       "points                                                                  88\n",
       "price                                                                   40\n",
       "province                                                  Aconcagua Valley\n",
       "region_1                                                               NaN\n",
       "taster_name                                              Michael Schachner\n",
       "taster_twitter_handle                                          @wineschach\n",
       "title                    Errazuriz 2009 Single Vineyard Don Maximiano V...\n",
       "variety                                                 cabernet sauvignon\n",
       "winery                                                           Errazuriz\n",
       "year                                                                  2009\n",
       "red_or_white                                                             r\n",
       "Name: 39337, dtype: object"
      ]
     },
     "execution_count": 156,
     "metadata": {},
     "output_type": "execute_result"
    }
   ],
   "source": [
    "wine9.price.set_value(39337, 40)\n",
    "wine9.iloc[39337]"
   ]
  },
  {
   "cell_type": "code",
   "execution_count": 157,
   "metadata": {},
   "outputs": [],
   "source": [
    "wine10 = wine9[wine9.price != 3300]"
   ]
  },
  {
   "cell_type": "code",
   "execution_count": 158,
   "metadata": {},
   "outputs": [],
   "source": [
    "wine10.to_csv('data/wine10.csv', index=False)"
   ]
  }
 ],
 "metadata": {
  "kernelspec": {
   "display_name": "Python 3",
   "language": "python",
   "name": "python3"
  },
  "language_info": {
   "codemirror_mode": {
    "name": "ipython",
    "version": 3
   },
   "file_extension": ".py",
   "mimetype": "text/x-python",
   "name": "python",
   "nbconvert_exporter": "python",
   "pygments_lexer": "ipython3",
   "version": "3.7.3"
  }
 },
 "nbformat": 4,
 "nbformat_minor": 2
}
