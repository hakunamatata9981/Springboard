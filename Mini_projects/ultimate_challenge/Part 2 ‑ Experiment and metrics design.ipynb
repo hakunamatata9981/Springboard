{
 "cells": [
  {
   "cell_type": "markdown",
   "metadata": {},
   "source": [
    "# Part 2 ‑ Experiment and metrics design\n",
    "The neighboring cities of Gotham and Metropolis have complementary circadian rhythms: on weekdays, Ultimate Gotham is most active at night, and Ultimate Metropolis is most active during the day. On weekends, there is reasonable activity in both cities. However, a toll bridge, with a two way toll, between the two cities causes driver partners to tend to be exclusive to each city. The Ultimate managers of city operations for the two cities have proposed an experiment to encourage driver partners to be available in both cities, by reimbursing all toll costs.\n",
    "What would you choose as the key measure of success of this experiment in encouraging driver partners to serve both cities, and why would you choose this metric?\n",
    "Describe a practical experiment you would design to compare the effectiveness of the proposed change in relation to the key measure of success. Please provide details on:\n",
    "* a. how you will implement the experiment\n",
    "* b. what statistical test(s) you will conduct to verify the significance of the observation\n",
    "* c. how you would interpret the results and provide recommendations to the city operations team along with any caveats."
   ]
  },
  {
   "cell_type": "markdown",
   "metadata": {},
   "source": [
    "I will see if there exist a significant growth for driver partners from both cities in both cities. I will first measure the percentage of the driver partners who are exclusive to each city. After applying the free toll rate, I will compare if the percentage of the driver partners who are exclusive to each city decrease. I will use Mann-Whitney U test to test the percentage if exclusiveness between pre-free toll and post-free toll, and see if there really exist a significant decrease in exclusiveness. So, if there exist a significant declination of exclusiveness percentage in each cities after reimbursing all toll costs, we can conclude that the new policy help encouraging driver partners to serve both cities, vice versa."
   ]
  }
 ],
 "metadata": {
  "kernelspec": {
   "display_name": "Python 3",
   "language": "python",
   "name": "python3"
  },
  "language_info": {
   "codemirror_mode": {
    "name": "ipython",
    "version": 3
   },
   "file_extension": ".py",
   "mimetype": "text/x-python",
   "name": "python",
   "nbconvert_exporter": "python",
   "pygments_lexer": "ipython3",
   "version": "3.7.3"
  }
 },
 "nbformat": 4,
 "nbformat_minor": 2
}
